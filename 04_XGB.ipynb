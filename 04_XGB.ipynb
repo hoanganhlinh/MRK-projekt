{
 "cells": [
  {
   "cell_type": "markdown",
   "id": "116bfce4-2742-43a5-bda6-489bb62eb63b",
   "metadata": {},
   "source": [
    "### XGBOOST"
   ]
  },
  {
   "cell_type": "markdown",
   "id": "cf2dfd28-7a5c-42b8-ba53-3e19484dfa3c",
   "metadata": {},
   "source": [
    "##### Preparing data, will try two approaches\n",
    "1. Encode categorical features as dummy variables\n",
    "2. Try to instead use target-statistic base encoding as it has been shown to achieve better results on certain datasets."
   ]
  },
  {
   "cell_type": "code",
   "execution_count": 1,
   "id": "710058da-c510-4b73-ac66-a7e399402d16",
   "metadata": {},
   "outputs": [],
   "source": [
    "import pandas as pd\n",
    "import numpy as np\n",
    "import matplotlib.pyplot as plt\n",
    "import seaborn as sns\n",
    "from imblearn.over_sampling import SMOTE\n",
    "import warnings\n",
    "warnings.filterwarnings('ignore')"
   ]
  },
  {
   "cell_type": "code",
   "execution_count": 2,
   "id": "d1c6f57b-7142-4ce2-b140-7a4403a69701",
   "metadata": {},
   "outputs": [],
   "source": [
    "X_train = pd.read_csv(\"X_train_standard.csv\")\n",
    "X_test  = pd.read_csv(\"X_test_standard.csv\")\n",
    "\n",
    "y_train = pd.read_csv(\"y_train.csv\")\n",
    "y_test  = pd.read_csv(\"y_test.csv\")\n"
   ]
  },
  {
   "cell_type": "code",
   "execution_count": 3,
   "id": "d244fba2-213c-4af6-80e6-85aa13cdd313",
   "metadata": {},
   "outputs": [
    {
     "name": "stdout",
     "output_type": "stream",
     "text": [
      "<class 'pandas.core.frame.DataFrame'>\n",
      "RangeIndex: 91844 entries, 0 to 91843\n",
      "Data columns (total 21 columns):\n",
      " #   Column                              Non-Null Count  Dtype  \n",
      "---  ------                              --------------  -----  \n",
      " 0   StatedMonthlyIncome                 91844 non-null  float64\n",
      " 1   CurrentDelinquencies                91844 non-null  float64\n",
      " 2   RevolvingCreditBalance              91844 non-null  float64\n",
      " 3   InquiriesLast6Months                91844 non-null  float64\n",
      " 4   IncomeRange                         91844 non-null  object \n",
      " 5   CurrentlyInGroup                    91844 non-null  int64  \n",
      " 6   AvailableBankcardCredit             91844 non-null  float64\n",
      " 7   MonthlyLoanPayment                  91844 non-null  float64\n",
      " 8   TradesNeverDelinquent (percentage)  91844 non-null  float64\n",
      " 9   EmploymentStatus                    91844 non-null  object \n",
      " 10  TotalInquiries                      91844 non-null  float64\n",
      " 11  BankcardUtilization                 91844 non-null  float64\n",
      " 12  OpenCreditLines                     91844 non-null  float64\n",
      " 13  LenderYield                         91844 non-null  float64\n",
      " 14  OpenRevolvingMonthlyPayment         91844 non-null  float64\n",
      " 15  ListingCategory (numeric)           91844 non-null  int64  \n",
      " 16  BorrowerRate                        91844 non-null  float64\n",
      " 17  Investors                           91844 non-null  int64  \n",
      " 18  Term                                91844 non-null  int64  \n",
      " 19  OpenRevolvingAccounts               91844 non-null  int64  \n",
      " 20  BorrowerAPR                         91844 non-null  float64\n",
      "dtypes: float64(14), int64(5), object(2)\n",
      "memory usage: 14.7+ MB\n"
     ]
    }
   ],
   "source": [
    "X_train.info()"
   ]
  },
  {
   "cell_type": "code",
   "execution_count": 4,
   "id": "56517912-5213-49c9-b04e-23ebfa4f0d71",
   "metadata": {},
   "outputs": [],
   "source": [
    "X_combined = pd.concat([X_train, X_test], axis=0)\n",
    "\n",
    "\n",
    "X_combined_dummies = pd.get_dummies(X_combined, drop_first=True)\n",
    "\n",
    "X_train_dummies = X_combined_dummies.iloc[:len(X_train), :]\n",
    "X_test_dummies = X_combined_dummies.iloc[len(X_train):, :]\n",
    "X_test_dummies = X_test_dummies.reindex(columns=X_train_dummies.columns, fill_value=0) # if same categories are not in test just in case"
   ]
  },
  {
   "cell_type": "code",
   "execution_count": 5,
   "id": "ecce4a98-168b-4fcc-a245-d447eb562746",
   "metadata": {},
   "outputs": [
    {
     "name": "stdout",
     "output_type": "stream",
     "text": [
      " 'IncomeRange': $0\n",
      " 'EmploymentStatus': Employed\n"
     ]
    }
   ],
   "source": [
    "for col in X_train.select_dtypes(include='object').columns:\n",
    "    categories = sorted(X_combined[col].dropna().unique())\n",
    "    reference = categories[0]  # This is the dropped one\n",
    "    print(f\" '{col}': {reference}\")"
   ]
  },
  {
   "cell_type": "markdown",
   "id": "a616670e-bdd4-4d94-a5a1-009ae0376177",
   "metadata": {},
   "source": [
    "### Now both sets will be fitted to a basic xgboost algorithm, to see which works better for this data"
   ]
  },
  {
   "cell_type": "code",
   "execution_count": 6,
   "id": "95b43e21-4a84-400d-8980-a050ad4edaeb",
   "metadata": {},
   "outputs": [
    {
     "name": "stdout",
     "output_type": "stream",
     "text": [
      "3.0.0\n"
     ]
    }
   ],
   "source": [
    "import xgboost as xgb\n",
    "from xgboost import XGBClassifier\n",
    "print(xgb.__version__) # This is a check if the version is > 1.3 as before that you had to pass encoded cartegoricals"
   ]
  },
  {
   "cell_type": "code",
   "execution_count": 7,
   "id": "656cfa45-ea83-4307-aaf6-d596cbae065f",
   "metadata": {},
   "outputs": [],
   "source": [
    "model_dummies = XGBClassifier()\n",
    "model_dummies.fit(X_train_dummies, y_train)\n",
    "\n",
    "\n",
    "y_pred_dummies = model_dummies.predict(X_test_dummies)"
   ]
  },
  {
   "cell_type": "code",
   "execution_count": 8,
   "id": "aa3ba930-feb5-4ae4-8d54-7e04915a937a",
   "metadata": {},
   "outputs": [],
   "source": [
    "\n",
    "for col in X_train.select_dtypes(include='object').columns:\n",
    "    X_train[col] = X_train[col].astype('category')\n",
    "    X_test[col] = X_test[col].astype('category')\n",
    "\n",
    "\n",
    "dtrain = xgb.DMatrix(X_train, label=y_train, enable_categorical=True)\n",
    "dtest = xgb.DMatrix(X_test, label=y_test, enable_categorical=True)\n",
    "\n",
    "\n",
    "params = {\n",
    "    'objective': 'binary:logistic',\n",
    "    'eval_metric': 'logloss',\n",
    "    'tree_method': 'hist'  # required for categorical \n",
    "}\n",
    "\n",
    "model_native = xgb.train(params, dtrain, num_boost_round=100)\n",
    "y_pred_native = model_native.predict(dtest)"
   ]
  },
  {
   "cell_type": "code",
   "execution_count": 9,
   "id": "51a8f99c-cdd9-4013-90a3-fd3fb3bce1f5",
   "metadata": {},
   "outputs": [],
   "source": [
    "y_pred_native_proba = model_native.predict(dtest)\n",
    "y_pred_native = (y_pred_native_proba > 0.5).astype(int)\n",
    "\n",
    "y_pred_dummies_proba = model_dummies.predict_proba(X_test_dummies)[:, 1]\n",
    "y_pred_dummies = model_dummies.predict(X_test_dummies)"
   ]
  },
  {
   "cell_type": "code",
   "execution_count": 26,
   "id": "025f8a2e-13e0-47f8-886b-f01c1e8ea920",
   "metadata": {},
   "outputs": [
    {
     "name": "stdout",
     "output_type": "stream",
     "text": [
      "Dummy used\n",
      "Accuracy : 0.8644\n",
      "Precision: 0.5919\n",
      "Recall   : 0.2788\n",
      "F1 Score : 0.3790\n",
      "AUC      : 0.8505\n",
      "\n",
      "No dummies\n",
      "Accuracy : 0.8639\n",
      "Precision: 0.5868\n",
      "Recall   : 0.2817\n",
      "F1 Score : 0.3807\n",
      "AUC      : 0.8498\n"
     ]
    }
   ],
   "source": [
    "from sklearn.metrics import accuracy_score, precision_score, recall_score, f1_score, roc_auc_score, roc_curve, classification_report, confusion_matrix\n",
    "\n",
    "\n",
    "acc_native = accuracy_score(y_test, y_pred_native)\n",
    "prec_native = precision_score(y_test, y_pred_native)\n",
    "rec_native = recall_score(y_test, y_pred_native)\n",
    "f1_native = f1_score(y_test, y_pred_native)\n",
    "auc_native = roc_auc_score(y_test, y_pred_native_proba)\n",
    "\n",
    "\n",
    "acc_dummies = accuracy_score(y_test, y_pred_dummies)\n",
    "prec_dummies = precision_score(y_test, y_pred_dummies)\n",
    "rec_dummies = recall_score(y_test, y_pred_dummies)\n",
    "f1_dummies = f1_score(y_test, y_pred_dummies)\n",
    "auc_dummies = roc_auc_score(y_test, y_pred_dummies_proba)\n",
    "\n",
    "\n",
    "print(\"Dummy used\")\n",
    "print(f\"Accuracy : {acc_dummies:.4f}\")\n",
    "print(f\"Precision: {prec_dummies:.4f}\")\n",
    "print(f\"Recall   : {rec_dummies:.4f}\")\n",
    "print(f\"F1 Score : {f1_dummies:.4f}\")\n",
    "print(f\"AUC      : {auc_dummies:.4f}\")\n",
    "\n",
    "print(\"\\nNo dummies\")\n",
    "print(f\"Accuracy : {acc_native:.4f}\")\n",
    "print(f\"Precision: {prec_native:.4f}\")\n",
    "print(f\"Recall   : {rec_native:.4f}\")\n",
    "print(f\"F1 Score : {f1_native:.4f}\")\n",
    "print(f\"AUC      : {auc_native:.4f}\")"
   ]
  },
  {
   "cell_type": "code",
   "execution_count": 11,
   "id": "37ec7090-47f4-4d9f-8cc7-0e0ae5794696",
   "metadata": {},
   "outputs": [
    {
     "data": {
      "image/png": "[encoded data removed]",
      "text/plain": [
       "<Figure size 800x600 with 1 Axes>"
      ]
     },
     "metadata": {},
     "output_type": "display_data"
    }
   ],
   "source": [
    "\n",
    "fpr_dummies, tpr_dummies, _ = roc_curve(y_test, y_pred_dummies_proba)\n",
    "fpr_native, tpr_native, _ = roc_curve(y_test, y_pred_native_proba)\n",
    "\n",
    "plt.figure(figsize=(8, 6))\n",
    "plt.plot(fpr_dummies, tpr_dummies, label=f\"Dummy (AUC = {auc_dummies:.4f})\")\n",
    "plt.plot(fpr_native, tpr_native, label=f\"Native (AUC = {auc_native:.4f})\")\n",
    "plt.plot([0, 1], [0, 1], \"k--\", label=\"Random classifier\")\n",
    "plt.xlabel(\"False Positive Rate\")\n",
    "plt.ylabel(\"True Positive Rate\")\n",
    "plt.title(\"ROC Curve Comparison\")\n",
    "plt.legend()\n",
    "plt.grid(True)\n",
    "plt.show()"
   ]
  },
  {
   "cell_type": "markdown",
   "id": "8febb6ed-0123-43a5-83e5-1e9d6c765b36",
   "metadata": {},
   "source": [
    "### Both approaches gave almost identical results so I will use dummy encoded variables as they are slightly easier to interpret. Before running a Grid Search I will also compare\n",
    "1. Inputing data with handling imbalance\n",
    "2. Using class weights for imbalance\n",
    "3. Using SMOTE"
   ]
  },
  {
   "cell_type": "code",
   "execution_count": 12,
   "id": "d902ad2a-a594-4e71-9758-bfcba969f1fb",
   "metadata": {},
   "outputs": [],
   "source": [
    "# This will be a simple function to make the process faster\n",
    "def evaluate_model(model, X_train, y_train, X_test, y_test, description=\"\"):\n",
    "    model.fit(X_train, y_train)\n",
    "    y_pred = model.predict(X_test)\n",
    "    y_proba = model.predict_proba(X_test)[:, 1]\n",
    "\n",
    "    print(f\"\\n{description}\")\n",
    "    print(classification_report(y_test, y_pred))\n",
    "    print(\"F1 Score:\", f1_score(y_test, y_pred))\n",
    "    print(\"AUC     :\", roc_auc_score(y_test, y_proba))"
   ]
  },
  {
   "cell_type": "code",
   "execution_count": 13,
   "id": "72c05877-e514-473e-b817-a69c942e124c",
   "metadata": {},
   "outputs": [],
   "source": [
    "y_train = np.ravel(y_train).astype(int)  \n",
    "\n",
    "# Class weight based on proportions of good and bad\n",
    "neg, pos = np.bincount(y_train)\n",
    "scale_pos_weight = neg / pos"
   ]
  },
  {
   "cell_type": "code",
   "execution_count": 14,
   "id": "f1bee177-5f66-4db7-80d6-b0675946a944",
   "metadata": {},
   "outputs": [
    {
     "name": "stdout",
     "output_type": "stream",
     "text": [
      "\n",
      "Baseline\n",
      "              precision    recall  f1-score   support\n",
      "\n",
      "           0       0.88      0.97      0.92     19553\n",
      "           1       0.59      0.28      0.38      3408\n",
      "\n",
      "    accuracy                           0.86     22961\n",
      "   macro avg       0.74      0.62      0.65     22961\n",
      "weighted avg       0.84      0.86      0.84     22961\n",
      "\n",
      "F1 Score: 0.37901456213844004\n",
      "AUC     : 0.8505212914147631\n"
     ]
    }
   ],
   "source": [
    "baseline_model = XGBClassifier(use_label_encoder=False, eval_metric='logloss')\n",
    "evaluate_model(baseline_model, X_train_dummies, y_train, X_test_dummies, y_test, \"Baseline\")"
   ]
  },
  {
   "cell_type": "code",
   "execution_count": 15,
   "id": "43764484-8454-4550-beba-0f443779211f",
   "metadata": {},
   "outputs": [
    {
     "name": "stdout",
     "output_type": "stream",
     "text": [
      "\n",
      "With class weighting (scale_pos_weight=5.76)\n",
      "              precision    recall  f1-score   support\n",
      "\n",
      "           0       0.94      0.77      0.85     19553\n",
      "           1       0.36      0.74      0.49      3408\n",
      "\n",
      "    accuracy                           0.77     22961\n",
      "   macro avg       0.65      0.76      0.67     22961\n",
      "weighted avg       0.86      0.77      0.80     22961\n",
      "\n",
      "F1 Score: 0.48830013537033456\n",
      "AUC     : 0.8462082352791462\n"
     ]
    }
   ],
   "source": [
    "weighted_model = XGBClassifier(use_label_encoder=False, eval_metric='logloss', scale_pos_weight=scale_pos_weight)\n",
    "evaluate_model(weighted_model, X_train_dummies, y_train, X_test_dummies, y_test, f\"With class weighting (scale_pos_weight={scale_pos_weight:.2f})\")"
   ]
  },
  {
   "cell_type": "code",
   "execution_count": 16,
   "id": "dc63ee5c-c04d-4561-a393-8bb20847ce8f",
   "metadata": {},
   "outputs": [
    {
     "name": "stdout",
     "output_type": "stream",
     "text": [
      "\n",
      "With SMOTE oversampling\n",
      "              precision    recall  f1-score   support\n",
      "\n",
      "           0       0.89      0.95      0.92     19553\n",
      "           1       0.56      0.33      0.42      3408\n",
      "\n",
      "    accuracy                           0.86     22961\n",
      "   macro avg       0.72      0.64      0.67     22961\n",
      "weighted avg       0.84      0.86      0.85     22961\n",
      "\n",
      "F1 Score: 0.41646756111009003\n",
      "AUC     : 0.8435571856101234\n"
     ]
    }
   ],
   "source": [
    "smote = SMOTE(random_state=101)\n",
    "X_train_smote, y_train_smote = smote.fit_resample(X_train_dummies, y_train)\n",
    "\n",
    "smote_model = XGBClassifier(use_label_encoder=False, eval_metric='logloss')\n",
    "evaluate_model(smote_model, X_train_smote, y_train_smote, X_test_dummies, y_test, \"With SMOTE oversampling\")"
   ]
  },
  {
   "cell_type": "markdown",
   "id": "c78b9e29-42b6-44f3-bb01-cbc8ae375fb8",
   "metadata": {},
   "source": [
    "##### Comparing these 3 results class weights look like the best approach as they gave by far the best TPR, while also maintaing a good enough false positve rate (36 out of 100 flagged will be actually defaulted) and also all 3 models had almost the same AUC."
   ]
  },
  {
   "cell_type": "markdown",
   "id": "5127baf3-d81a-45d0-826a-a5aa242cae73",
   "metadata": {},
   "source": [
    "### Now that we have chosen the approach to categorical encoding handling as well as class imbalance we can setup a grid search to fine tune the model"
   ]
  },
  {
   "cell_type": "code",
   "execution_count": 17,
   "id": "a707b6fe-dedf-4f1c-930c-adbc24c5f5f8",
   "metadata": {},
   "outputs": [
    {
     "name": "stdout",
     "output_type": "stream",
     "text": [
      "Fitting 3 folds for each of 729 candidates, totalling 2187 fits\n",
      "Grid Search - Best Params: {'colsample_bytree': 0.6, 'gamma': 1, 'learning_rate': 0.05, 'max_depth': 5, 'n_estimators': 500, 'subsample': 1.0}\n",
      "Grid Search - Best AUC: 0.8607749440723621\n"
     ]
    }
   ],
   "source": [
    "from sklearn.model_selection import GridSearchCV, StratifiedKFold\n",
    "from sklearn.metrics import make_scorer\n",
    "\n",
    "param_grid_test = {\n",
    "    'n_estimators': [100, 300, 500],\n",
    "    'max_depth': [3, 5, 7],\n",
    "    'learning_rate': [0.01, 0.05, 0.1],\n",
    "    'subsample': [0.6, 0.8, 1.0],\n",
    "    'colsample_bytree': [0.6, 0.8, 1.0],\n",
    "    'gamma': [0, 1, 5]\n",
    "}\n",
    "# This will by 729 confings * 3 folds so around 2200 runs. \n",
    "\n",
    "xgb_test = XGBClassifier(\n",
    "    use_label_encoder=False,\n",
    "    eval_metric='logloss',\n",
    "    scale_pos_weight=scale_pos_weight,\n",
    "    verbosity=1\n",
    ")\n",
    "\n",
    "cv = StratifiedKFold(n_splits=3, shuffle=True, random_state=101)\n",
    "\n",
    "grid_search_test = GridSearchCV(\n",
    "    estimator=xgb_test,\n",
    "    param_grid=param_grid_test,\n",
    "    scoring='roc_auc',\n",
    "    n_jobs=-1,\n",
    "    cv=cv,\n",
    "    verbose=2\n",
    ")\n",
    "\n",
    "grid_search_test.fit(X_train_dummies, y_train)\n",
    "\n",
    "print(\"Grid Search - Best Params:\", grid_search_test.best_params_)\n",
    "print(\"Grid Search - Best AUC:\", grid_search_test.best_score_)"
   ]
  },
  {
   "cell_type": "code",
   "execution_count": 25,
   "id": "b94c3080-a7ad-4299-b022-c52d2ec7cf1a",
   "metadata": {},
   "outputs": [
    {
     "name": "stdout",
     "output_type": "stream",
     "text": [
      "AUC on test: 0.8553580910701597\n"
     ]
    }
   ],
   "source": [
    "# Best params from GridSearchCV\n",
    "best_params = {\n",
    "    'colsample_bytree': 0.6,\n",
    "    'gamma': 1,\n",
    "    'learning_rate': 0.05,\n",
    "    'max_depth': 5,\n",
    "    'n_estimators': 500,\n",
    "    'subsample': 1.0\n",
    "}\n",
    "\n",
    "\n",
    "final_model = XGBClassifier(\n",
    "    **best_params,\n",
    "    use_label_encoder=False,\n",
    "    eval_metric='logloss',\n",
    "    scale_pos_weight=scale_pos_weight,\n",
    "    verbosity=1\n",
    ")\n",
    "\n",
    "final_model.fit(X_train_dummies, y_train)\n",
    "\n",
    "\n",
    "\n",
    "y_pred_proba = final_model.predict_proba(X_test_dummies)[:, 1]\n",
    "roc_auc = roc_auc_score(y_test, y_pred_proba)\n",
    "print(\"AUC on test:\", roc_auc)"
   ]
  },
  {
   "cell_type": "markdown",
   "id": "c7b7ab4e-1f0b-4cb3-b887-be3402bf504c",
   "metadata": {},
   "source": [
    "##### After fine tunnig AUC on test data went up by around 1%."
   ]
  },
  {
   "cell_type": "code",
   "execution_count": 37,
   "id": "e3745e17-d6df-417d-a855-47b721f76ffb",
   "metadata": {},
   "outputs": [
    {
     "name": "stdout",
     "output_type": "stream",
     "text": [
      "AUC: 0.8554\n"
     ]
    },
    {
     "data": {
      "image/png": "[encoded data removed]",
      "text/plain": [
       "<Figure size 800x600 with 1 Axes>"
      ]
     },
     "metadata": {},
     "output_type": "display_data"
    }
   ],
   "source": [
    "from sklearn.metrics import roc_curve, auc\n",
    "\n",
    "fpr, tpr, _ = roc_curve(y_test_array, y_pred_proba)\n",
    "roc_auc = auc(fpr, tpr)\n",
    "\n",
    "print(f\"AUC: {roc_auc:.4f}\")\n",
    "\n",
    "plt.figure(figsize=(8, 6))\n",
    "plt.plot(fpr, tpr, label=f'ROC curve (AUC = {roc_auc:.4f})')\n",
    "plt.plot([0, 1], [0, 1], 'k--', label='Random Model')\n",
    "plt.xlabel('False Positive Rate')\n",
    "plt.ylabel('True Positive Rate')\n",
    "plt.title('ROC Curve')\n",
    "plt.legend(loc='lower right')\n",
    "plt.grid(True)\n",
    "plt.tight_layout()\n",
    "plt.show()"
   ]
  },
  {
   "cell_type": "markdown",
   "id": "1e1e83bc-638c-45cd-b94f-835b8ab8da13",
   "metadata": {},
   "source": [
    "### Tunning the prediction treshold"
   ]
  },
  {
   "cell_type": "code",
   "execution_count": 27,
   "id": "c1c6fe55-202c-48b9-acfb-8c53dcf2df22",
   "metadata": {},
   "outputs": [
    {
     "name": "stdout",
     "output_type": "stream",
     "text": [
      "AUC on test: 0.8553580910701597\n",
      "\n",
      "Classification Report:\n",
      "              precision    recall  f1-score   support\n",
      "\n",
      "           0       0.95      0.75      0.84     19553\n",
      "           1       0.35      0.79      0.49      3408\n",
      "\n",
      "    accuracy                           0.76     22961\n",
      "   macro avg       0.65      0.77      0.66     22961\n",
      "weighted avg       0.86      0.76      0.79     22961\n",
      "\n",
      "\n",
      "Confusion Matrix:\n",
      "[[14656  4897]\n",
      " [  722  2686]]\n"
     ]
    }
   ],
   "source": [
    "y_pred = final_model.predict(X_test_dummies)\n",
    "\n",
    "roc_auc = roc_auc_score(y_test, y_pred_proba)\n",
    "print(\"AUC on test:\", roc_auc)\n",
    "\n",
    "print(\"\\nClassification Report:\")\n",
    "print(classification_report(y_test, y_pred))\n",
    "\n",
    "print(\"\\nConfusion Matrix:\")\n",
    "print(confusion_matrix(y_test, y_pred))"
   ]
  },
  {
   "cell_type": "markdown",
   "id": "dcf8dfd2-5916-484c-9d9b-c223094c5089",
   "metadata": {},
   "source": [
    "##### Since not predicting that someone will default is much more costly than the other way around, we should try lowering the threshold to get a higher recall and especially TPR even at the cost of getting more FN."
   ]
  },
  {
   "cell_type": "code",
   "execution_count": 31,
   "id": "f7add649-1d7b-4262-a61c-85f085fc48c6",
   "metadata": {},
   "outputs": [
    {
     "name": "stdout",
     "output_type": "stream",
     "text": [
      "\n",
      "=== Threshold: 0.25 ===\n",
      "Classification Report:\n",
      "              precision    recall  f1-score   support\n",
      "\n",
      "           0       0.98      0.56      0.71     19553\n",
      "           1       0.27      0.94      0.42      3408\n",
      "\n",
      "    accuracy                           0.61     22961\n",
      "   macro avg       0.63      0.75      0.57     22961\n",
      "weighted avg       0.88      0.61      0.67     22961\n",
      "\n",
      "Confusion Matrix:\n",
      "[[10870  8683]\n",
      " [  188  3220]]\n",
      "\n",
      "=== Threshold: 0.3 ===\n",
      "Classification Report:\n",
      "              precision    recall  f1-score   support\n",
      "\n",
      "           0       0.98      0.60      0.74     19553\n",
      "           1       0.29      0.92      0.44      3408\n",
      "\n",
      "    accuracy                           0.65     22961\n",
      "   macro avg       0.63      0.76      0.59     22961\n",
      "weighted avg       0.88      0.65      0.70     22961\n",
      "\n",
      "Confusion Matrix:\n",
      "[[11745  7808]\n",
      " [  261  3147]]\n",
      "\n",
      "=== Threshold: 0.35 ===\n",
      "Classification Report:\n",
      "              precision    recall  f1-score   support\n",
      "\n",
      "           0       0.97      0.64      0.77     19553\n",
      "           1       0.30      0.90      0.45      3408\n",
      "\n",
      "    accuracy                           0.68     22961\n",
      "   macro avg       0.64      0.77      0.61     22961\n",
      "weighted avg       0.87      0.68      0.73     22961\n",
      "\n",
      "Confusion Matrix:\n",
      "[[12529  7024]\n",
      " [  349  3059]]\n",
      "\n",
      "=== Threshold: 0.4 ===\n",
      "Classification Report:\n",
      "              precision    recall  f1-score   support\n",
      "\n",
      "           0       0.97      0.68      0.80     19553\n",
      "           1       0.32      0.87      0.47      3408\n",
      "\n",
      "    accuracy                           0.71     22961\n",
      "   macro avg       0.64      0.77      0.63     22961\n",
      "weighted avg       0.87      0.71      0.75     22961\n",
      "\n",
      "Confusion Matrix:\n",
      "[[13234  6319]\n",
      " [  454  2954]]\n",
      "\n",
      "=== Threshold: 0.45 ===\n",
      "Classification Report:\n",
      "              precision    recall  f1-score   support\n",
      "\n",
      "           0       0.96      0.71      0.82     19553\n",
      "           1       0.34      0.83      0.48      3408\n",
      "\n",
      "    accuracy                           0.73     22961\n",
      "   macro avg       0.65      0.77      0.65     22961\n",
      "weighted avg       0.87      0.73      0.77     22961\n",
      "\n",
      "Confusion Matrix:\n",
      "[[13976  5577]\n",
      " [  581  2827]]\n"
     ]
    }
   ],
   "source": [
    "y_pred_proba = final_model.predict_proba(X_test_dummies)[:, 1]\n",
    "\n",
    "\n",
    "thresholds = [0.25,0.3,0.35, 0.4, 0.45]\n",
    "\n",
    "for threshold in thresholds:\n",
    "    print(f\"\\n=== Threshold: {threshold} ===\")\n",
    "    \n",
    "    y_pred_thresh = (y_pred_proba >= threshold).astype(int)\n",
    "    \n",
    "    print(\"Classification Report:\")\n",
    "    print(classification_report(y_test, y_pred_thresh))\n",
    "    \n",
    "    print(\"Confusion Matrix:\")\n",
    "    print(confusion_matrix(y_test, y_pred_thresh))"
   ]
  },
  {
   "cell_type": "markdown",
   "id": "5b25a447-8ae2-4630-afdd-1c209fbae33d",
   "metadata": {},
   "source": [
    "This is not a simple choice as too many FP are also bad for buisness as the bank starts to lose market share, so take that into consideration as well I belive the 0.4 treshold is optimal. This means that 6319(32% of good clients) are not going to get a credit even thought they would not default, however of those who will be given a credit only 454(13% of actual defaulters will still recive a loan) will go into default."
   ]
  },
  {
   "cell_type": "markdown",
   "id": "2c45940b-3c9e-4888-8b08-ab66122498eb",
   "metadata": {},
   "source": [
    "### Final metrics to compare between models and for simulating profits"
   ]
  },
  {
   "cell_type": "code",
   "execution_count": 77,
   "id": "5922f183-c635-43c3-ac43-fc8c3f273dc3",
   "metadata": {},
   "outputs": [
    {
     "name": "stdout",
     "output_type": "stream",
     "text": [
      "Classification Report:\n",
      "              precision    recall  f1-score   support\n",
      "\n",
      "           0       0.96      0.71      0.82     19553\n",
      "           1       0.34      0.83      0.48      3408\n",
      "\n",
      "    accuracy                           0.73     22961\n",
      "   macro avg       0.65      0.77      0.65     22961\n",
      "weighted avg       0.87      0.73      0.77     22961\n",
      "\n",
      "Confusion Matrix:\n",
      "[[13976  5577]\n",
      " [  581  2827]]\n",
      "\n",
      "AUC: 0.86\n",
      "Gini: 0.71\n"
     ]
    }
   ],
   "source": [
    "gini = 2 * roc_auc - 1\n",
    "y_pred_proba = final_model.predict_proba(X_test_dummies)[:, 1]\n",
    "y_pred_thresh = (y_pred_proba >= 0.45).astype(int)\n",
    "\n",
    "print(\"Classification Report:\")\n",
    "print(classification_report(y_test, y_pred_thresh))    \n",
    "\n",
    "print(\"Confusion Matrix:\")\n",
    "print(confusion_matrix(y_test, y_pred_thresh))\n",
    "\n",
    "print()\n",
    "\n",
    "print(f\"AUC: {roc_auc:.2f}\")\n",
    "print(f\"Gini: {gini:.2f}\")"
   ]
  },
  {
   "cell_type": "code",
   "execution_count": 79,
   "id": "4d54b1b2-5122-4838-b6d6-fd5a0c9d474f",
   "metadata": {},
   "outputs": [],
   "source": [
    "final_model.save_model(\"XGboost.json\")"
   ]
  },
  {
   "cell_type": "code",
   "execution_count": null,
   "id": "028dd732-bc84-41ee-9987-6cb3817a6e50",
   "metadata": {},
   "outputs": [],
   "source": []
  }
 ],
 "metadata": {
  "kernelspec": {
   "display_name": "Python 3 (ipykernel)",
   "language": "python",
   "name": "python3"
  },
  "language_info": {
   "codemirror_mode": {
    "name": "ipython",
    "version": 3
   },
   "file_extension": ".py",
   "mimetype": "text/x-python",
   "name": "python",
   "nbconvert_exporter": "python",
   "pygments_lexer": "ipython3",
   "version": "3.12.7"
  }
 },
 "nbformat": 4,
 "nbformat_minor": 5
}
