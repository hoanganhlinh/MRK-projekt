{
 "cells": [
  {
   "cell_type": "markdown",
   "id": "a855d145",
   "metadata": {},
   "source": [
    "# Credit Risk Modelling: Project\n",
    "Antoni Ballaun, Laura Hoang, Jędrzej Joniec, Piotr Zambrzycki\n",
    "\n",
    "## 02. Data preparation: data binning"
   ]
  },
  {
   "cell_type": "code",
   "execution_count": 1,
   "id": "672fdd54-3c6d-48cc-abc1-5622bae3fbe9",
   "metadata": {},
   "outputs": [],
   "source": [
    "import pandas as pd\n",
    "import numpy as np\n",
    "import matplotlib.pyplot as plt\n",
    "import seaborn as sns\n",
    "import warnings\n",
    "warnings.filterwarnings('ignore')"
   ]
  },
  {
   "cell_type": "code",
   "execution_count": 2,
   "id": "df3b2bb6-d35b-417d-bf39-d6766da11e27",
   "metadata": {},
   "outputs": [],
   "source": [
    "df = pd.read_csv('filled_missings_df.csv',index_col=0)"
   ]
  },
  {
   "cell_type": "code",
   "execution_count": 3,
   "id": "2ed6919d-10f2-43c0-97e8-259685275c1c",
   "metadata": {},
   "outputs": [
    {
     "data": {
      "text/html": [
       "<div>\n",
       "<style scoped>\n",
       "    .dataframe tbody tr th:only-of-type {\n",
       "        vertical-align: middle;\n",
       "    }\n",
       "\n",
       "    .dataframe tbody tr th {\n",
       "        vertical-align: top;\n",
       "    }\n",
       "\n",
       "    .dataframe thead th {\n",
       "        text-align: right;\n",
       "    }\n",
       "</style>\n",
       "<table border=\"1\" class=\"dataframe\">\n",
       "  <thead>\n",
       "    <tr style=\"text-align: right;\">\n",
       "      <th></th>\n",
       "      <th>ListingKey</th>\n",
       "      <th>ListingNumber</th>\n",
       "      <th>ListingCreationDate</th>\n",
       "      <th>Term</th>\n",
       "      <th>LoanStatus</th>\n",
       "      <th>BorrowerAPR</th>\n",
       "      <th>BorrowerRate</th>\n",
       "      <th>LenderYield</th>\n",
       "      <th>ListingCategory (numeric)</th>\n",
       "      <th>BorrowerState</th>\n",
       "      <th>...</th>\n",
       "      <th>LP_CollectionFees</th>\n",
       "      <th>LP_GrossPrincipalLoss</th>\n",
       "      <th>LP_NetPrincipalLoss</th>\n",
       "      <th>LP_NonPrincipalRecoverypayments</th>\n",
       "      <th>PercentFunded</th>\n",
       "      <th>Recommendations</th>\n",
       "      <th>InvestmentFromFriendsCount</th>\n",
       "      <th>InvestmentFromFriendsAmount</th>\n",
       "      <th>Investors</th>\n",
       "      <th>Defaulted</th>\n",
       "    </tr>\n",
       "  </thead>\n",
       "  <tbody>\n",
       "    <tr>\n",
       "      <th>0</th>\n",
       "      <td>1021339766868145413AB3B</td>\n",
       "      <td>193129</td>\n",
       "      <td>2007-08-26 19:09:29.263000000</td>\n",
       "      <td>36</td>\n",
       "      <td>Completed</td>\n",
       "      <td>0.16516</td>\n",
       "      <td>0.1580</td>\n",
       "      <td>0.1380</td>\n",
       "      <td>0</td>\n",
       "      <td>CO</td>\n",
       "      <td>...</td>\n",
       "      <td>0.0</td>\n",
       "      <td>0.0</td>\n",
       "      <td>0.0</td>\n",
       "      <td>0.0</td>\n",
       "      <td>1.0</td>\n",
       "      <td>0</td>\n",
       "      <td>0</td>\n",
       "      <td>0.0</td>\n",
       "      <td>258</td>\n",
       "      <td>0</td>\n",
       "    </tr>\n",
       "    <tr>\n",
       "      <th>1</th>\n",
       "      <td>10273602499503308B223C1</td>\n",
       "      <td>1209647</td>\n",
       "      <td>2014-02-27 08:28:07.900000000</td>\n",
       "      <td>36</td>\n",
       "      <td>Current</td>\n",
       "      <td>0.12016</td>\n",
       "      <td>0.0920</td>\n",
       "      <td>0.0820</td>\n",
       "      <td>2</td>\n",
       "      <td>CO</td>\n",
       "      <td>...</td>\n",
       "      <td>0.0</td>\n",
       "      <td>0.0</td>\n",
       "      <td>0.0</td>\n",
       "      <td>0.0</td>\n",
       "      <td>1.0</td>\n",
       "      <td>0</td>\n",
       "      <td>0</td>\n",
       "      <td>0.0</td>\n",
       "      <td>1</td>\n",
       "      <td>0</td>\n",
       "    </tr>\n",
       "    <tr>\n",
       "      <th>2</th>\n",
       "      <td>0EE9337825851032864889A</td>\n",
       "      <td>81716</td>\n",
       "      <td>2007-01-05 15:00:47.090000000</td>\n",
       "      <td>36</td>\n",
       "      <td>Completed</td>\n",
       "      <td>0.28269</td>\n",
       "      <td>0.2750</td>\n",
       "      <td>0.2400</td>\n",
       "      <td>0</td>\n",
       "      <td>GA</td>\n",
       "      <td>...</td>\n",
       "      <td>0.0</td>\n",
       "      <td>0.0</td>\n",
       "      <td>0.0</td>\n",
       "      <td>0.0</td>\n",
       "      <td>1.0</td>\n",
       "      <td>0</td>\n",
       "      <td>0</td>\n",
       "      <td>0.0</td>\n",
       "      <td>41</td>\n",
       "      <td>0</td>\n",
       "    </tr>\n",
       "    <tr>\n",
       "      <th>3</th>\n",
       "      <td>0EF5356002482715299901A</td>\n",
       "      <td>658116</td>\n",
       "      <td>2012-10-22 11:02:35.010000000</td>\n",
       "      <td>36</td>\n",
       "      <td>Current</td>\n",
       "      <td>0.12528</td>\n",
       "      <td>0.0974</td>\n",
       "      <td>0.0874</td>\n",
       "      <td>16</td>\n",
       "      <td>GA</td>\n",
       "      <td>...</td>\n",
       "      <td>0.0</td>\n",
       "      <td>0.0</td>\n",
       "      <td>0.0</td>\n",
       "      <td>0.0</td>\n",
       "      <td>1.0</td>\n",
       "      <td>0</td>\n",
       "      <td>0</td>\n",
       "      <td>0.0</td>\n",
       "      <td>158</td>\n",
       "      <td>0</td>\n",
       "    </tr>\n",
       "    <tr>\n",
       "      <th>4</th>\n",
       "      <td>0F023589499656230C5E3E2</td>\n",
       "      <td>909464</td>\n",
       "      <td>2013-09-14 18:38:39.097000000</td>\n",
       "      <td>36</td>\n",
       "      <td>Current</td>\n",
       "      <td>0.24614</td>\n",
       "      <td>0.2085</td>\n",
       "      <td>0.1985</td>\n",
       "      <td>2</td>\n",
       "      <td>MN</td>\n",
       "      <td>...</td>\n",
       "      <td>0.0</td>\n",
       "      <td>0.0</td>\n",
       "      <td>0.0</td>\n",
       "      <td>0.0</td>\n",
       "      <td>1.0</td>\n",
       "      <td>0</td>\n",
       "      <td>0</td>\n",
       "      <td>0.0</td>\n",
       "      <td>20</td>\n",
       "      <td>0</td>\n",
       "    </tr>\n",
       "  </tbody>\n",
       "</table>\n",
       "<p>5 rows × 62 columns</p>\n",
       "</div>"
      ],
      "text/plain": [
       "                ListingKey  ListingNumber            ListingCreationDate  \\\n",
       "0  1021339766868145413AB3B         193129  2007-08-26 19:09:29.263000000   \n",
       "1  10273602499503308B223C1        1209647  2014-02-27 08:28:07.900000000   \n",
       "2  0EE9337825851032864889A          81716  2007-01-05 15:00:47.090000000   \n",
       "3  0EF5356002482715299901A         658116  2012-10-22 11:02:35.010000000   \n",
       "4  0F023589499656230C5E3E2         909464  2013-09-14 18:38:39.097000000   \n",
       "\n",
       "   Term LoanStatus  BorrowerAPR  BorrowerRate  LenderYield  \\\n",
       "0    36  Completed      0.16516        0.1580       0.1380   \n",
       "1    36    Current      0.12016        0.0920       0.0820   \n",
       "2    36  Completed      0.28269        0.2750       0.2400   \n",
       "3    36    Current      0.12528        0.0974       0.0874   \n",
       "4    36    Current      0.24614        0.2085       0.1985   \n",
       "\n",
       "   ListingCategory (numeric) BorrowerState  ... LP_CollectionFees  \\\n",
       "0                          0            CO  ...               0.0   \n",
       "1                          2            CO  ...               0.0   \n",
       "2                          0            GA  ...               0.0   \n",
       "3                         16            GA  ...               0.0   \n",
       "4                          2            MN  ...               0.0   \n",
       "\n",
       "   LP_GrossPrincipalLoss  LP_NetPrincipalLoss  \\\n",
       "0                    0.0                  0.0   \n",
       "1                    0.0                  0.0   \n",
       "2                    0.0                  0.0   \n",
       "3                    0.0                  0.0   \n",
       "4                    0.0                  0.0   \n",
       "\n",
       "   LP_NonPrincipalRecoverypayments PercentFunded  Recommendations  \\\n",
       "0                              0.0           1.0                0   \n",
       "1                              0.0           1.0                0   \n",
       "2                              0.0           1.0                0   \n",
       "3                              0.0           1.0                0   \n",
       "4                              0.0           1.0                0   \n",
       "\n",
       "   InvestmentFromFriendsCount InvestmentFromFriendsAmount  Investors  \\\n",
       "0                           0                         0.0        258   \n",
       "1                           0                         0.0          1   \n",
       "2                           0                         0.0         41   \n",
       "3                           0                         0.0        158   \n",
       "4                           0                         0.0         20   \n",
       "\n",
       "   Defaulted  \n",
       "0          0  \n",
       "1          0  \n",
       "2          0  \n",
       "3          0  \n",
       "4          0  \n",
       "\n",
       "[5 rows x 62 columns]"
      ]
     },
     "execution_count": 3,
     "metadata": {},
     "output_type": "execute_result"
    }
   ],
   "source": [
    "df.head()"
   ]
  },
  {
   "cell_type": "code",
   "execution_count": 4,
   "id": "e59c4279-123a-4bba-8568-4efc2bfed419",
   "metadata": {
    "scrolled": true
   },
   "outputs": [
    {
     "data": {
      "text/plain": [
       "Index(['ListingKey', 'ListingNumber', 'ListingCreationDate', 'Term',\n",
       "       'LoanStatus', 'BorrowerAPR', 'BorrowerRate', 'LenderYield',\n",
       "       'ListingCategory (numeric)', 'BorrowerState', 'EmploymentStatus',\n",
       "       'EmploymentStatusDuration', 'IsBorrowerHomeowner', 'CurrentlyInGroup',\n",
       "       'DateCreditPulled', 'CreditScoreRangeLower', 'CreditScoreRangeUpper',\n",
       "       'FirstRecordedCreditLine', 'OpenCreditLines',\n",
       "       'TotalCreditLinespast7years', 'OpenRevolvingAccounts',\n",
       "       'OpenRevolvingMonthlyPayment', 'InquiriesLast6Months', 'TotalInquiries',\n",
       "       'CurrentDelinquencies', 'AmountDelinquent', 'DelinquenciesLast7Years',\n",
       "       'PublicRecordsLast10Years', 'PublicRecordsLast12Months',\n",
       "       'RevolvingCreditBalance', 'BankcardUtilization',\n",
       "       'AvailableBankcardCredit', 'TotalTrades',\n",
       "       'TradesNeverDelinquent (percentage)', 'TradesOpenedLast6Months',\n",
       "       'DebtToIncomeRatio', 'IncomeRange', 'IncomeVerifiable',\n",
       "       'StatedMonthlyIncome', 'LoanKey', 'LoanCurrentDaysDelinquent',\n",
       "       'LoanMonthsSinceOrigination', 'LoanNumber', 'LoanOriginalAmount',\n",
       "       'LoanOriginationDate', 'LoanOriginationQuarter', 'MemberKey',\n",
       "       'MonthlyLoanPayment', 'LP_CustomerPayments',\n",
       "       'LP_CustomerPrincipalPayments', 'LP_InterestandFees', 'LP_ServiceFees',\n",
       "       'LP_CollectionFees', 'LP_GrossPrincipalLoss', 'LP_NetPrincipalLoss',\n",
       "       'LP_NonPrincipalRecoverypayments', 'PercentFunded', 'Recommendations',\n",
       "       'InvestmentFromFriendsCount', 'InvestmentFromFriendsAmount',\n",
       "       'Investors', 'Defaulted'],\n",
       "      dtype='object')"
      ]
     },
     "execution_count": 4,
     "metadata": {},
     "output_type": "execute_result"
    }
   ],
   "source": [
    "df.columns"
   ]
  },
  {
   "cell_type": "markdown",
   "id": "e06e8c42",
   "metadata": {},
   "source": [
    "Column descriptions: https://docs.google.com/spreadsheets/d/1lTxLIwJU8rwVn1gsin3Q1w5btT1R1X-7oqGn5XDz-Xs/edit?usp=sharing"
   ]
  },
  {
   "cell_type": "code",
   "execution_count": 5,
   "id": "0d94ba3a-889d-4a98-92a9-488447c282f9",
   "metadata": {},
   "outputs": [],
   "source": [
    "pointless_cols = ['ListingKey','ListingNumber', 'LoanNumber', 'LoanStatus', 'MemberKey',  ]"
   ]
  },
  {
   "cell_type": "markdown",
   "id": "06dde575-363e-4792-80b1-08457e36228d",
   "metadata": {},
   "source": [
    "### Find the rest columns with no meaning"
   ]
  },
  {
   "cell_type": "code",
   "execution_count": 6,
   "id": "d35a01ea-2dc4-47c5-a08d-9529a5c32d2e",
   "metadata": {},
   "outputs": [],
   "source": [
    "df = df.drop(pointless_cols,axis=1)"
   ]
  },
  {
   "cell_type": "code",
   "execution_count": 7,
   "id": "95787861-f5c9-4192-becf-2feb33334200",
   "metadata": {
    "scrolled": true
   },
   "outputs": [
    {
     "name": "stdout",
     "output_type": "stream",
     "text": [
      "<class 'pandas.core.frame.DataFrame'>\n",
      "Index: 114805 entries, 0 to 114804\n",
      "Data columns (total 57 columns):\n",
      " #   Column                              Non-Null Count   Dtype  \n",
      "---  ------                              --------------   -----  \n",
      " 0   ListingCreationDate                 114805 non-null  object \n",
      " 1   Term                                114805 non-null  int64  \n",
      " 2   BorrowerAPR                         114805 non-null  float64\n",
      " 3   BorrowerRate                        114805 non-null  float64\n",
      " 4   LenderYield                         114805 non-null  float64\n",
      " 5   ListingCategory (numeric)           114805 non-null  int64  \n",
      " 6   BorrowerState                       114805 non-null  object \n",
      " 7   EmploymentStatus                    114805 non-null  object \n",
      " 8   EmploymentStatusDuration            114805 non-null  float64\n",
      " 9   IsBorrowerHomeowner                 114805 non-null  bool   \n",
      " 10  CurrentlyInGroup                    114805 non-null  bool   \n",
      " 11  DateCreditPulled                    114805 non-null  object \n",
      " 12  CreditScoreRangeLower               114805 non-null  float64\n",
      " 13  CreditScoreRangeUpper               114805 non-null  float64\n",
      " 14  FirstRecordedCreditLine             114805 non-null  object \n",
      " 15  OpenCreditLines                     114805 non-null  float64\n",
      " 16  TotalCreditLinespast7years          114805 non-null  float64\n",
      " 17  OpenRevolvingAccounts               114805 non-null  int64  \n",
      " 18  OpenRevolvingMonthlyPayment         114805 non-null  float64\n",
      " 19  InquiriesLast6Months                114805 non-null  float64\n",
      " 20  TotalInquiries                      114805 non-null  float64\n",
      " 21  CurrentDelinquencies                114805 non-null  float64\n",
      " 22  AmountDelinquent                    114805 non-null  float64\n",
      " 23  DelinquenciesLast7Years             114805 non-null  float64\n",
      " 24  PublicRecordsLast10Years            114805 non-null  float64\n",
      " 25  PublicRecordsLast12Months           114805 non-null  float64\n",
      " 26  RevolvingCreditBalance              114805 non-null  float64\n",
      " 27  BankcardUtilization                 114805 non-null  float64\n",
      " 28  AvailableBankcardCredit             114805 non-null  float64\n",
      " 29  TotalTrades                         114805 non-null  float64\n",
      " 30  TradesNeverDelinquent (percentage)  114805 non-null  float64\n",
      " 31  TradesOpenedLast6Months             114805 non-null  float64\n",
      " 32  DebtToIncomeRatio                   114805 non-null  float64\n",
      " 33  IncomeRange                         114805 non-null  object \n",
      " 34  IncomeVerifiable                    114805 non-null  bool   \n",
      " 35  StatedMonthlyIncome                 114805 non-null  float64\n",
      " 36  LoanKey                             114805 non-null  object \n",
      " 37  LoanCurrentDaysDelinquent           114805 non-null  int64  \n",
      " 38  LoanMonthsSinceOrigination          114805 non-null  int64  \n",
      " 39  LoanOriginalAmount                  114805 non-null  int64  \n",
      " 40  LoanOriginationDate                 114805 non-null  object \n",
      " 41  LoanOriginationQuarter              114805 non-null  object \n",
      " 42  MonthlyLoanPayment                  114805 non-null  float64\n",
      " 43  LP_CustomerPayments                 114805 non-null  float64\n",
      " 44  LP_CustomerPrincipalPayments        114805 non-null  float64\n",
      " 45  LP_InterestandFees                  114805 non-null  float64\n",
      " 46  LP_ServiceFees                      114805 non-null  float64\n",
      " 47  LP_CollectionFees                   114805 non-null  float64\n",
      " 48  LP_GrossPrincipalLoss               114805 non-null  float64\n",
      " 49  LP_NetPrincipalLoss                 114805 non-null  float64\n",
      " 50  LP_NonPrincipalRecoverypayments     114805 non-null  float64\n",
      " 51  PercentFunded                       114805 non-null  float64\n",
      " 52  Recommendations                     114805 non-null  int64  \n",
      " 53  InvestmentFromFriendsCount          114805 non-null  int64  \n",
      " 54  InvestmentFromFriendsAmount         114805 non-null  float64\n",
      " 55  Investors                           114805 non-null  int64  \n",
      " 56  Defaulted                           114805 non-null  int64  \n",
      "dtypes: bool(3), float64(35), int64(10), object(9)\n",
      "memory usage: 48.5+ MB\n"
     ]
    }
   ],
   "source": [
    "df.info()"
   ]
  },
  {
   "cell_type": "markdown",
   "id": "08030a21-643d-4b45-b9c7-ee55f0ce4851",
   "metadata": {},
   "source": [
    "### Bins for feature selection and LogReg"
   ]
  },
  {
   "cell_type": "code",
   "execution_count": 8,
   "id": "8e69d2ab-2602-4e0a-86ed-7a707c988854",
   "metadata": {},
   "outputs": [],
   "source": [
    "# Binning continous variables\n",
    "continous_columns = ['DebtToIncomeRatio', 'LenderYield' ]"
   ]
  },
  {
   "cell_type": "markdown",
   "id": "ebf32b63-fccd-4874-a518-1461e45c0ca1",
   "metadata": {},
   "source": [
    "### First train test split, only fit on train and transform test based on bin edges"
   ]
  },
  {
   "cell_type": "code",
   "execution_count": 9,
   "id": "5a4df610-d4c6-4523-9a00-2ea9e452f0e1",
   "metadata": {},
   "outputs": [],
   "source": [
    "from sklearn.model_selection import train_test_split"
   ]
  },
  {
   "cell_type": "code",
   "execution_count": 10,
   "id": "9308b9e0-20cc-44fa-8601-aa9cdd67ad58",
   "metadata": {},
   "outputs": [],
   "source": [
    "train_df, test_df = train_test_split(df, test_size=0.2, random_state=101)"
   ]
  },
  {
   "cell_type": "markdown",
   "id": "5c1deea6-3121-4403-891c-15ae5902942b",
   "metadata": {},
   "source": [
    "### Add all continous  columns later if this works"
   ]
  },
  {
   "cell_type": "code",
   "execution_count": 11,
   "id": "9d69488d-15fe-4a08-a13b-14201b4abf38",
   "metadata": {},
   "outputs": [],
   "source": [
    "from sklearn.tree import DecisionTreeClassifier\n",
    "\n",
    "def continous_binning_tree(df, continuous_columns, target, n_bins=5, min_samples_leaf=0.01):\n",
    "    bin_edges_dict = {}  # Dictionary to store bin edges for each column\n",
    "    \n",
    "    for col in continuous_columns:\n",
    "        X = df[[col]]\n",
    "        y = df[target]\n",
    "        \n",
    "        # min_samples\n",
    "        min_leaf = max(1, int(min_samples_leaf * len(X)) if isinstance(min_samples_leaf, float) else min_samples_leaf)\n",
    "        \n",
    "        \n",
    "        tree = DecisionTreeClassifier(\n",
    "            max_leaf_nodes=n_bins,\n",
    "            min_samples_leaf=min_leaf,\n",
    "            random_state=42,\n",
    "            criterion='gini'\n",
    "        )\n",
    "        tree.fit(X, y)\n",
    "        \n",
    "        # splits tresholds\n",
    "        thresholds = []\n",
    "        tree_ = tree.tree_\n",
    "        for i in range(tree_.node_count):\n",
    "            if (tree_.children_left[i] != tree_.children_right[i]) and (tree_.feature[i] == 0):\n",
    "                thresholds.append(tree_.threshold[i])\n",
    "        \n",
    "        # check if enough splits made\n",
    "        if len(thresholds) < n_bins - 1:\n",
    "            print(f\": Only {len(thresholds)+1} bins created for {col}.\")\n",
    "        \n",
    "        # make_edges from -inf to +inf so it works with test_df\n",
    "        thresholds_sorted = sorted(thresholds)\n",
    "        bin_edges = [-float('inf')] + thresholds_sorted + [float('inf')]\n",
    "        bin_edges_dict[col] = bin_edges\n",
    "        \n",
    "        # make_bins on train_Df\n",
    "        new_col = f'{col}_binned'\n",
    "        df[new_col] = pd.cut(df[col], \n",
    "                            bins=bin_edges, \n",
    "                            labels=[f\"Bin_{i+1}\" for i in range(len(bin_edges)-1)],\n",
    "                            include_lowest=True)\n",
    "        \n",
    "        # bin info\n",
    "        print(f\"\\nBinning for {col}:\")\n",
    "        print(df.groupby(new_col)[col].agg(['min', 'max']))\n",
    "    \n",
    "    return df, bin_edges_dict "
   ]
  },
  {
   "cell_type": "code",
   "execution_count": 12,
   "id": "1acdaa24-5035-455b-97b0-b56334ba336e",
   "metadata": {
    "scrolled": true
   },
   "outputs": [
    {
     "name": "stdout",
     "output_type": "stream",
     "text": [
      "\n",
      "Binning for DebtToIncomeRatio:\n",
      "                              min       max\n",
      "DebtToIncomeRatio_binned                   \n",
      "Bin_1                     0.00000   0.05148\n",
      "Bin_2                     0.05359   0.08632\n",
      "Bin_3                     0.08858   0.49000\n",
      "Bin_4                     0.50000   0.58000\n",
      "Bin_5                     0.59000  10.01000\n",
      "\n",
      "Binning for LenderYield:\n",
      "                       min     max\n",
      "LenderYield_binned                \n",
      "Bin_1              -0.0100  0.1234\n",
      "Bin_2               0.1235  0.2099\n",
      "Bin_3               0.2100  0.2686\n",
      "Bin_4               0.2687  0.3090\n",
      "Bin_5               0.3095  0.3400\n"
     ]
    }
   ],
   "source": [
    "train_df, bin_edges_dict = continous_binning_tree(\n",
    "    train_df, \n",
    "    continuous_columns=continous_columns, \n",
    "    target='Defaulted'\n",
    ")\n",
    "\n",
    "for col in bin_edges_dict:\n",
    "    bin_edges = bin_edges_dict[col]\n",
    "    new_col = f'{col}_binned'\n",
    "    test_df[new_col] = pd.cut(test_df[col],\n",
    "                             bins=bin_edges,\n",
    "                             labels=[f\"Bin_{i+1}\" for i in range(len(bin_edges)-1)],\n",
    "                             include_lowest=True)"
   ]
  },
  {
   "cell_type": "code",
   "execution_count": 13,
   "id": "b4f78752-085e-4d89-a9bf-2d99b0b31abf",
   "metadata": {},
   "outputs": [
    {
     "data": {
      "text/plain": [
       "104644    Bin_3\n",
       "51793     Bin_2\n",
       "81387     Bin_3\n",
       "31356     Bin_3\n",
       "915       Bin_3\n",
       "          ...  \n",
       "113482    Bin_3\n",
       "86124     Bin_3\n",
       "38229     Bin_3\n",
       "46742     Bin_3\n",
       "31185     Bin_3\n",
       "Name: DebtToIncomeRatio_binned, Length: 22961, dtype: category\n",
       "Categories (5, object): ['Bin_1' < 'Bin_2' < 'Bin_3' < 'Bin_4' < 'Bin_5']"
      ]
     },
     "execution_count": 13,
     "metadata": {},
     "output_type": "execute_result"
    }
   ],
   "source": [
    "test_df['DebtToIncomeRatio_binned']"
   ]
  },
  {
   "cell_type": "code",
   "execution_count": 43,
   "id": "6aa0346b",
   "metadata": {},
   "outputs": [
    {
     "data": {
      "image/png": "[encoded data removed]",
      "text/plain": [
       "<Figure size 640x480 with 1 Axes>"
      ]
     },
     "metadata": {},
     "output_type": "display_data"
    }
   ],
   "source": [
    "plt.hist(x=test_df[test_df['DebtToIncomeRatio']<2]['DebtToIncomeRatio'], bins=100);"
   ]
  },
  {
   "cell_type": "code",
   "execution_count": 31,
   "id": "fd135f1f",
   "metadata": {},
   "outputs": [
    {
     "data": {
      "text/plain": [
       "(array(['Bin_1', 'Bin_2', 'Bin_3', 'Bin_4', 'Bin_5'], dtype=object),\n",
       " array([  787,  1142, 19881,   545,   606]))"
      ]
     },
     "execution_count": 31,
     "metadata": {},
     "output_type": "execute_result"
    }
   ],
   "source": [
    "np.unique(test_df['DebtToIncomeRatio_binned'], return_counts=True)"
   ]
  },
  {
   "cell_type": "code",
   "execution_count": 24,
   "id": "e8f7ccb3",
   "metadata": {},
   "outputs": [
    {
     "data": {
      "text/plain": [
       "<BarContainer object of 5 artists>"
      ]
     },
     "execution_count": 24,
     "metadata": {},
     "output_type": "execute_result"
    },
    {
     "data": {
      "image/png": "[encoded data removed]",
      "text/plain": [
       "<Figure size 640x480 with 1 Axes>"
      ]
     },
     "metadata": {},
     "output_type": "display_data"
    }
   ],
   "source": [
    "vals, counts = np.unique(test_df['DebtToIncomeRatio_binned'], return_counts=True)\n",
    "plt.bar(x=vals, height=counts)\n"
   ]
  },
  {
   "cell_type": "code",
   "execution_count": 41,
   "id": "c4b4f44f",
   "metadata": {},
   "outputs": [
    {
     "data": {
      "text/plain": [
       "3408"
      ]
     },
     "execution_count": 41,
     "metadata": {},
     "output_type": "execute_result"
    }
   ],
   "source": [
    "sum(test_df.Defaulted)"
   ]
  },
  {
   "cell_type": "code",
   "execution_count": 40,
   "id": "a079d665",
   "metadata": {},
   "outputs": [
    {
     "data": {
      "text/html": [
       "<div>\n",
       "<style scoped>\n",
       "    .dataframe tbody tr th:only-of-type {\n",
       "        vertical-align: middle;\n",
       "    }\n",
       "\n",
       "    .dataframe tbody tr th {\n",
       "        vertical-align: top;\n",
       "    }\n",
       "\n",
       "    .dataframe thead th {\n",
       "        text-align: right;\n",
       "    }\n",
       "</style>\n",
       "<table border=\"1\" class=\"dataframe\">\n",
       "  <thead>\n",
       "    <tr style=\"text-align: right;\">\n",
       "      <th></th>\n",
       "      <th>DebtToIncomeRatio_binned</th>\n",
       "      <th>Defaulted</th>\n",
       "      <th>Total</th>\n",
       "      <th>Default_Rate</th>\n",
       "    </tr>\n",
       "  </thead>\n",
       "  <tbody>\n",
       "    <tr>\n",
       "      <th>0</th>\n",
       "      <td>Bin_1</td>\n",
       "      <td>166</td>\n",
       "      <td>787</td>\n",
       "      <td>0.210928</td>\n",
       "    </tr>\n",
       "    <tr>\n",
       "      <th>1</th>\n",
       "      <td>Bin_2</td>\n",
       "      <td>181</td>\n",
       "      <td>1142</td>\n",
       "      <td>0.158494</td>\n",
       "    </tr>\n",
       "    <tr>\n",
       "      <th>2</th>\n",
       "      <td>Bin_3</td>\n",
       "      <td>2786</td>\n",
       "      <td>19881</td>\n",
       "      <td>0.140134</td>\n",
       "    </tr>\n",
       "    <tr>\n",
       "      <th>3</th>\n",
       "      <td>Bin_4</td>\n",
       "      <td>90</td>\n",
       "      <td>545</td>\n",
       "      <td>0.165138</td>\n",
       "    </tr>\n",
       "    <tr>\n",
       "      <th>4</th>\n",
       "      <td>Bin_5</td>\n",
       "      <td>185</td>\n",
       "      <td>606</td>\n",
       "      <td>0.305281</td>\n",
       "    </tr>\n",
       "  </tbody>\n",
       "</table>\n",
       "</div>"
      ],
      "text/plain": [
       "  DebtToIncomeRatio_binned  Defaulted  Total  Default_Rate\n",
       "0                    Bin_1        166    787      0.210928\n",
       "1                    Bin_2        181   1142      0.158494\n",
       "2                    Bin_3       2786  19881      0.140134\n",
       "3                    Bin_4         90    545      0.165138\n",
       "4                    Bin_5        185    606      0.305281"
      ]
     },
     "execution_count": 40,
     "metadata": {},
     "output_type": "execute_result"
    }
   ],
   "source": [
    "default_counts_per_bin = test_df.groupby('DebtToIncomeRatio_binned')['Defaulted'].sum().reset_index()\n",
    "\n",
    "total_counts_per_bin = test_df['DebtToIncomeRatio_binned'].value_counts().reset_index()\n",
    "total_counts_per_bin.columns = ['DebtToIncomeRatio_binned', 'Total']\n",
    "\n",
    "result = pd.merge(default_counts_per_bin, total_counts_per_bin, on='DebtToIncomeRatio_binned')\n",
    "\n",
    "result['Default_Rate'] = result['Defaulted'] / result['Total']\n",
    "result = result.sort_values('DebtToIncomeRatio_binned')\n",
    "result"
   ]
  },
  {
   "cell_type": "markdown",
   "id": "292fb6eb-0ea5-4a24-89cb-626f05b24e61",
   "metadata": {},
   "source": [
    "### Make functions for clustering discrete ordered and unordered variables"
   ]
  },
  {
   "cell_type": "code",
   "execution_count": null,
   "id": "f1518378-5853-4e3a-96f1-de3c8661dc84",
   "metadata": {},
   "outputs": [],
   "source": []
  },
  {
   "cell_type": "markdown",
   "id": "3bce7a72-10a0-45e0-bbb4-f0e76c3690c9",
   "metadata": {},
   "source": [
    "### WOE Transform after on all binned columns"
   ]
  },
  {
   "cell_type": "code",
   "execution_count": null,
   "id": "f0375018-d611-4289-8c6b-d2c29498a1ad",
   "metadata": {},
   "outputs": [],
   "source": []
  },
  {
   "cell_type": "markdown",
   "id": "12dce585-f62e-4ea4-a270-f821d4a277a8",
   "metadata": {},
   "source": [
    "### Than feature selection based on Gini maybe with gradient boost or RFC"
   ]
  },
  {
   "cell_type": "code",
   "execution_count": null,
   "id": "3047badd-7eff-4b54-a4e4-d109739d8574",
   "metadata": {},
   "outputs": [],
   "source": []
  }
 ],
 "metadata": {
  "kernelspec": {
   "display_name": "mrk-project",
   "language": "python",
   "name": "python3"
  },
  "language_info": {
   "codemirror_mode": {
    "name": "ipython",
    "version": 3
   },
   "file_extension": ".py",
   "mimetype": "text/x-python",
   "name": "python",
   "nbconvert_exporter": "python",
   "pygments_lexer": "ipython3",
   "version": "3.11.11"
  }
 },
 "nbformat": 4,
 "nbformat_minor": 5
}
