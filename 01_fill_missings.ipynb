{
 "cells": [
  {
   "cell_type": "markdown",
   "id": "48d8bd8f",
   "metadata": {},
   "source": [
    "# Credit Risk Modelling: Project\n",
    "Antoni Ballaun, Laura Hoang, Jędrzej Joniec, Piotr Zambrzycki\n",
    "\n",
    "## 01. Data preparation: missing data"
   ]
  },
  {
   "cell_type": "code",
   "execution_count": 1,
   "id": "d4776d21-363c-41d1-8088-659228600bb8",
   "metadata": {},
   "outputs": [],
   "source": [
    "import pandas as pd\n",
    "import numpy as np\n",
    "import matplotlib.pyplot as plt\n",
    "import seaborn as sns\n",
    "import warnings\n",
    "warnings.filterwarnings('ignore')"
   ]
  },
  {
   "cell_type": "code",
   "execution_count": 2,
   "id": "d1e784e9",
   "metadata": {},
   "outputs": [],
   "source": [
    "# import os\n",
    "# os.getcwd()"
   ]
  },
  {
   "cell_type": "code",
   "execution_count": 3,
   "id": "b99b3c05-8b6b-4dae-9cc8-320d763663ae",
   "metadata": {},
   "outputs": [],
   "source": [
    "df = pd.read_csv('prosperLoanData.csv')"
   ]
  },
  {
   "cell_type": "code",
   "execution_count": 4,
   "id": "fc76df50-16ac-4c85-a0ed-9b6df449db72",
   "metadata": {},
   "outputs": [
    {
     "data": {
      "text/html": [
       "<div>\n",
       "<style scoped>\n",
       "    .dataframe tbody tr th:only-of-type {\n",
       "        vertical-align: middle;\n",
       "    }\n",
       "\n",
       "    .dataframe tbody tr th {\n",
       "        vertical-align: top;\n",
       "    }\n",
       "\n",
       "    .dataframe thead th {\n",
       "        text-align: right;\n",
       "    }\n",
       "</style>\n",
       "<table border=\"1\" class=\"dataframe\">\n",
       "  <thead>\n",
       "    <tr style=\"text-align: right;\">\n",
       "      <th></th>\n",
       "      <th>ListingKey</th>\n",
       "      <th>ListingNumber</th>\n",
       "      <th>ListingCreationDate</th>\n",
       "      <th>CreditGrade</th>\n",
       "      <th>Term</th>\n",
       "      <th>LoanStatus</th>\n",
       "      <th>ClosedDate</th>\n",
       "      <th>BorrowerAPR</th>\n",
       "      <th>BorrowerRate</th>\n",
       "      <th>LenderYield</th>\n",
       "      <th>...</th>\n",
       "      <th>LP_ServiceFees</th>\n",
       "      <th>LP_CollectionFees</th>\n",
       "      <th>LP_GrossPrincipalLoss</th>\n",
       "      <th>LP_NetPrincipalLoss</th>\n",
       "      <th>LP_NonPrincipalRecoverypayments</th>\n",
       "      <th>PercentFunded</th>\n",
       "      <th>Recommendations</th>\n",
       "      <th>InvestmentFromFriendsCount</th>\n",
       "      <th>InvestmentFromFriendsAmount</th>\n",
       "      <th>Investors</th>\n",
       "    </tr>\n",
       "  </thead>\n",
       "  <tbody>\n",
       "    <tr>\n",
       "      <th>0</th>\n",
       "      <td>1021339766868145413AB3B</td>\n",
       "      <td>193129</td>\n",
       "      <td>2007-08-26 19:09:29.263000000</td>\n",
       "      <td>C</td>\n",
       "      <td>36</td>\n",
       "      <td>Completed</td>\n",
       "      <td>2009-08-14 00:00:00</td>\n",
       "      <td>0.16516</td>\n",
       "      <td>0.1580</td>\n",
       "      <td>0.1380</td>\n",
       "      <td>...</td>\n",
       "      <td>-133.18</td>\n",
       "      <td>0.0</td>\n",
       "      <td>0.0</td>\n",
       "      <td>0.0</td>\n",
       "      <td>0.0</td>\n",
       "      <td>1.0</td>\n",
       "      <td>0</td>\n",
       "      <td>0</td>\n",
       "      <td>0.0</td>\n",
       "      <td>258</td>\n",
       "    </tr>\n",
       "    <tr>\n",
       "      <th>1</th>\n",
       "      <td>10273602499503308B223C1</td>\n",
       "      <td>1209647</td>\n",
       "      <td>2014-02-27 08:28:07.900000000</td>\n",
       "      <td>NaN</td>\n",
       "      <td>36</td>\n",
       "      <td>Current</td>\n",
       "      <td>NaN</td>\n",
       "      <td>0.12016</td>\n",
       "      <td>0.0920</td>\n",
       "      <td>0.0820</td>\n",
       "      <td>...</td>\n",
       "      <td>0.00</td>\n",
       "      <td>0.0</td>\n",
       "      <td>0.0</td>\n",
       "      <td>0.0</td>\n",
       "      <td>0.0</td>\n",
       "      <td>1.0</td>\n",
       "      <td>0</td>\n",
       "      <td>0</td>\n",
       "      <td>0.0</td>\n",
       "      <td>1</td>\n",
       "    </tr>\n",
       "    <tr>\n",
       "      <th>2</th>\n",
       "      <td>0EE9337825851032864889A</td>\n",
       "      <td>81716</td>\n",
       "      <td>2007-01-05 15:00:47.090000000</td>\n",
       "      <td>HR</td>\n",
       "      <td>36</td>\n",
       "      <td>Completed</td>\n",
       "      <td>2009-12-17 00:00:00</td>\n",
       "      <td>0.28269</td>\n",
       "      <td>0.2750</td>\n",
       "      <td>0.2400</td>\n",
       "      <td>...</td>\n",
       "      <td>-24.20</td>\n",
       "      <td>0.0</td>\n",
       "      <td>0.0</td>\n",
       "      <td>0.0</td>\n",
       "      <td>0.0</td>\n",
       "      <td>1.0</td>\n",
       "      <td>0</td>\n",
       "      <td>0</td>\n",
       "      <td>0.0</td>\n",
       "      <td>41</td>\n",
       "    </tr>\n",
       "    <tr>\n",
       "      <th>3</th>\n",
       "      <td>0EF5356002482715299901A</td>\n",
       "      <td>658116</td>\n",
       "      <td>2012-10-22 11:02:35.010000000</td>\n",
       "      <td>NaN</td>\n",
       "      <td>36</td>\n",
       "      <td>Current</td>\n",
       "      <td>NaN</td>\n",
       "      <td>0.12528</td>\n",
       "      <td>0.0974</td>\n",
       "      <td>0.0874</td>\n",
       "      <td>...</td>\n",
       "      <td>-108.01</td>\n",
       "      <td>0.0</td>\n",
       "      <td>0.0</td>\n",
       "      <td>0.0</td>\n",
       "      <td>0.0</td>\n",
       "      <td>1.0</td>\n",
       "      <td>0</td>\n",
       "      <td>0</td>\n",
       "      <td>0.0</td>\n",
       "      <td>158</td>\n",
       "    </tr>\n",
       "    <tr>\n",
       "      <th>4</th>\n",
       "      <td>0F023589499656230C5E3E2</td>\n",
       "      <td>909464</td>\n",
       "      <td>2013-09-14 18:38:39.097000000</td>\n",
       "      <td>NaN</td>\n",
       "      <td>36</td>\n",
       "      <td>Current</td>\n",
       "      <td>NaN</td>\n",
       "      <td>0.24614</td>\n",
       "      <td>0.2085</td>\n",
       "      <td>0.1985</td>\n",
       "      <td>...</td>\n",
       "      <td>-60.27</td>\n",
       "      <td>0.0</td>\n",
       "      <td>0.0</td>\n",
       "      <td>0.0</td>\n",
       "      <td>0.0</td>\n",
       "      <td>1.0</td>\n",
       "      <td>0</td>\n",
       "      <td>0</td>\n",
       "      <td>0.0</td>\n",
       "      <td>20</td>\n",
       "    </tr>\n",
       "  </tbody>\n",
       "</table>\n",
       "<p>5 rows × 81 columns</p>\n",
       "</div>"
      ],
      "text/plain": [
       "                ListingKey  ListingNumber            ListingCreationDate  \\\n",
       "0  1021339766868145413AB3B         193129  2007-08-26 19:09:29.263000000   \n",
       "1  10273602499503308B223C1        1209647  2014-02-27 08:28:07.900000000   \n",
       "2  0EE9337825851032864889A          81716  2007-01-05 15:00:47.090000000   \n",
       "3  0EF5356002482715299901A         658116  2012-10-22 11:02:35.010000000   \n",
       "4  0F023589499656230C5E3E2         909464  2013-09-14 18:38:39.097000000   \n",
       "\n",
       "  CreditGrade  Term LoanStatus           ClosedDate  BorrowerAPR  \\\n",
       "0           C    36  Completed  2009-08-14 00:00:00      0.16516   \n",
       "1         NaN    36    Current                  NaN      0.12016   \n",
       "2          HR    36  Completed  2009-12-17 00:00:00      0.28269   \n",
       "3         NaN    36    Current                  NaN      0.12528   \n",
       "4         NaN    36    Current                  NaN      0.24614   \n",
       "\n",
       "   BorrowerRate  LenderYield  ...  LP_ServiceFees  LP_CollectionFees  \\\n",
       "0        0.1580       0.1380  ...         -133.18                0.0   \n",
       "1        0.0920       0.0820  ...            0.00                0.0   \n",
       "2        0.2750       0.2400  ...          -24.20                0.0   \n",
       "3        0.0974       0.0874  ...         -108.01                0.0   \n",
       "4        0.2085       0.1985  ...          -60.27                0.0   \n",
       "\n",
       "   LP_GrossPrincipalLoss  LP_NetPrincipalLoss LP_NonPrincipalRecoverypayments  \\\n",
       "0                    0.0                  0.0                             0.0   \n",
       "1                    0.0                  0.0                             0.0   \n",
       "2                    0.0                  0.0                             0.0   \n",
       "3                    0.0                  0.0                             0.0   \n",
       "4                    0.0                  0.0                             0.0   \n",
       "\n",
       "   PercentFunded  Recommendations InvestmentFromFriendsCount  \\\n",
       "0            1.0                0                          0   \n",
       "1            1.0                0                          0   \n",
       "2            1.0                0                          0   \n",
       "3            1.0                0                          0   \n",
       "4            1.0                0                          0   \n",
       "\n",
       "  InvestmentFromFriendsAmount Investors  \n",
       "0                         0.0       258  \n",
       "1                         0.0         1  \n",
       "2                         0.0        41  \n",
       "3                         0.0       158  \n",
       "4                         0.0        20  \n",
       "\n",
       "[5 rows x 81 columns]"
      ]
     },
     "execution_count": 4,
     "metadata": {},
     "output_type": "execute_result"
    }
   ],
   "source": [
    "df.head()"
   ]
  },
  {
   "cell_type": "markdown",
   "id": "52a5ed3e",
   "metadata": {},
   "source": [
    "### Modifying `LoanStatus`"
   ]
  },
  {
   "cell_type": "code",
   "execution_count": 5,
   "id": "fdce063a-3b3a-4733-9b25-97cfd990df52",
   "metadata": {},
   "outputs": [
    {
     "data": {
      "text/plain": [
       "array(['Completed', 'Current', 'Past Due (1-15 days)', 'Defaulted',\n",
       "       'Chargedoff', 'Past Due (16-30 days)', 'Cancelled',\n",
       "       'Past Due (61-90 days)', 'Past Due (31-60 days)',\n",
       "       'Past Due (91-120 days)', 'FinalPaymentInProgress',\n",
       "       'Past Due (>120 days)'], dtype=object)"
      ]
     },
     "execution_count": 5,
     "metadata": {},
     "output_type": "execute_result"
    }
   ],
   "source": [
    "df['LoanStatus'].unique()"
   ]
  },
  {
   "cell_type": "code",
   "execution_count": 6,
   "id": "9bc71f59-2403-4e88-9580-a51ef9b47950",
   "metadata": {},
   "outputs": [
    {
     "data": {
      "text/plain": [
       "LoanStatus\n",
       "Current                   56576\n",
       "Completed                 38074\n",
       "Chargedoff                11992\n",
       "Defaulted                  5018\n",
       "Past Due (1-15 days)        806\n",
       "Past Due (31-60 days)       363\n",
       "Past Due (61-90 days)       313\n",
       "Past Due (91-120 days)      304\n",
       "Past Due (16-30 days)       265\n",
       "FinalPaymentInProgress      205\n",
       "Past Due (>120 days)         16\n",
       "Cancelled                     5\n",
       "Name: count, dtype: int64"
      ]
     },
     "execution_count": 6,
     "metadata": {},
     "output_type": "execute_result"
    }
   ],
   "source": [
    "df['LoanStatus'].value_counts()"
   ]
  },
  {
   "cell_type": "markdown",
   "id": "1df6d57b-127a-44e9-b8f1-0bd8486b5004",
   "metadata": {},
   "source": [
    "If past due > 90 days we it will be considered a default(1), else non-default(0), Canceled will be dropped hard to say what it means and there is only 5 of them "
   ]
  },
  {
   "cell_type": "code",
   "execution_count": 7,
   "id": "33b55d2c-abde-4c82-92ee-4c6df87faed2",
   "metadata": {},
   "outputs": [],
   "source": [
    "values_to_make_ones = ['Past Due (91-120 days)', 'Past Due (>120 days)', 'Defaulted', 'Chargedoff']"
   ]
  },
  {
   "cell_type": "code",
   "execution_count": 8,
   "id": "94ae9a65-4741-4f94-a685-0be1fdbd7c5b",
   "metadata": {},
   "outputs": [],
   "source": [
    "df = df[df['LoanStatus'] != 'Cancelled']"
   ]
  },
  {
   "cell_type": "markdown",
   "id": "b9de32b3",
   "metadata": {},
   "source": [
    "### Creation of `Defaulted` column - our target variable"
   ]
  },
  {
   "cell_type": "code",
   "execution_count": 9,
   "id": "3c134ce8-1508-45be-9763-2302ccc6ccd5",
   "metadata": {},
   "outputs": [],
   "source": [
    "df['Defaulted'] = np.where(df['LoanStatus'].isin(values_to_make_ones),1,0)"
   ]
  },
  {
   "cell_type": "code",
   "execution_count": 10,
   "id": "b9583797-bfee-4e1d-b592-fe78214392d2",
   "metadata": {},
   "outputs": [
    {
     "data": {
      "text/plain": [
       "<Axes: xlabel='Defaulted', ylabel='percent'>"
      ]
     },
     "execution_count": 10,
     "metadata": {},
     "output_type": "execute_result"
    },
    {
     "data": {
      "image/png": "[encoded data removed]",
      "text/plain": [
       "<Figure size 640x480 with 1 Axes>"
      ]
     },
     "metadata": {},
     "output_type": "display_data"
    }
   ],
   "source": [
    "sns.countplot(data=df,x='Defaulted', stat='percent',)\n",
    "# sns.countplot(data=df,x='Defaulted')"
   ]
  },
  {
   "cell_type": "markdown",
   "id": "d0d80c40",
   "metadata": {},
   "source": [
    "### Missing data\n",
    "\n",
    "#### Removing columns with missing data"
   ]
  },
  {
   "cell_type": "code",
   "execution_count": 11,
   "id": "2e2fb728-5efb-4542-8e6a-06b1d6bd66dc",
   "metadata": {},
   "outputs": [],
   "source": [
    "missing_percents = (df.isna().sum().sort_values(ascending=False))/len(df) "
   ]
  },
  {
   "cell_type": "markdown",
   "id": "abdf4f19-5941-4849-ac41-ae84f70440d7",
   "metadata": {},
   "source": [
    "If missing values are greater than 20%, the column will be dropped, imputing without introducing a high level of bias would be very hard."
   ]
  },
  {
   "cell_type": "code",
   "execution_count": 12,
   "id": "f3fcba7b-870c-4f24-ad6c-0542dab641ac",
   "metadata": {},
   "outputs": [
    {
     "name": "stdout",
     "output_type": "stream",
     "text": [
      "GroupKey                               0.882913\n",
      "LoanFirstDefaultedCycleNumber          0.851209\n",
      "ScorexChangeAtTimeOfListing            0.833866\n",
      "ProsperPrincipalBorrowed               0.806156\n",
      "TotalProsperLoans                      0.806156\n",
      "TotalProsperPaymentsBilled             0.806156\n",
      "OnTimeProsperPayments                  0.806156\n",
      "ProsperPaymentsOneMonthPlusLate        0.806156\n",
      "ProsperPrincipalOutstanding            0.806156\n",
      "ProsperPaymentsLessThanOneMonthLate    0.806156\n",
      "CreditGrade                            0.745919\n",
      "ClosedDate                             0.516519\n",
      "ProsperRating (numeric)                0.255231\n",
      "EstimatedReturn                        0.255231\n",
      "EstimatedLoss                          0.255231\n",
      "EstimatedEffectiveYield                0.255231\n",
      "ProsperScore                           0.255231\n",
      "ProsperRating (Alpha)                  0.255231\n",
      "dtype: float64\n"
     ]
    }
   ],
   "source": [
    "print(missing_percents[missing_percents >= 0.2])\n",
    "list_of_cols_missing_more_than25 = list(missing_percents[missing_percents >= 0.2].index)"
   ]
  },
  {
   "cell_type": "code",
   "execution_count": 13,
   "id": "4a785cc2-4f87-4749-9099-9da461272b63",
   "metadata": {},
   "outputs": [],
   "source": [
    "df = df.drop(list_of_cols_missing_more_than25,axis=1)"
   ]
  },
  {
   "cell_type": "markdown",
   "id": "b5d378fd",
   "metadata": {},
   "source": [
    "#### Rows with missing data: removing chosen ones"
   ]
  },
  {
   "cell_type": "code",
   "execution_count": 14,
   "id": "28ddb9b5-7055-437e-9ec3-491082d3ebf4",
   "metadata": {},
   "outputs": [
    {
     "name": "stdout",
     "output_type": "stream",
     "text": [
      "DebtToIncomeRatio                     0.075080\n",
      "EmploymentStatusDuration              0.066891\n",
      "AmountDelinquent                      0.066864\n",
      "CurrentCreditLines                    0.066706\n",
      "OpenCreditLines                       0.066706\n",
      "PublicRecordsLast12Months             0.066706\n",
      "BankcardUtilization                   0.066706\n",
      "RevolvingCreditBalance                0.066706\n",
      "AvailableBankcardCredit               0.066180\n",
      "TotalTrades                           0.066180\n",
      "TradesOpenedLast6Months               0.066180\n",
      "TradesNeverDelinquent (percentage)    0.066180\n",
      "BorrowerState                         0.048380\n",
      "Occupation                            0.031466\n",
      "EmploymentStatus                      0.019766\n",
      "TotalInquiries                        0.010138\n",
      "DelinquenciesLast7Years               0.008663\n",
      "CurrentDelinquencies                  0.006109\n",
      "PublicRecordsLast10Years              0.006109\n",
      "TotalCreditLinespast7years            0.006109\n",
      "InquiriesLast6Months                  0.006109\n",
      "FirstRecordedCreditLine               0.006109\n",
      "CreditScoreRangeUpper                 0.005179\n",
      "CreditScoreRangeLower                 0.005179\n",
      "BorrowerAPR                           0.000219\n",
      "dtype: float64\n"
     ]
    }
   ],
   "source": [
    "missing_percents = (df.isna().sum().sort_values(ascending=False))/len(df)\n",
    "print(missing_percents[missing_percents > 0])"
   ]
  },
  {
   "cell_type": "code",
   "execution_count": 15,
   "id": "9de1b912-a290-4664-b9d7-511d74a56bfa",
   "metadata": {
    "scrolled": true
   },
   "outputs": [
    {
     "data": {
      "text/plain": [
       "DebtToIncomeRatio                     8554\n",
       "EmploymentStatusDuration              7621\n",
       "AmountDelinquent                      7618\n",
       "CurrentCreditLines                    7600\n",
       "OpenCreditLines                       7600\n",
       "PublicRecordsLast12Months             7600\n",
       "BankcardUtilization                   7600\n",
       "RevolvingCreditBalance                7600\n",
       "AvailableBankcardCredit               7540\n",
       "TotalTrades                           7540\n",
       "TradesOpenedLast6Months               7540\n",
       "TradesNeverDelinquent (percentage)    7540\n",
       "BorrowerState                         5512\n",
       "Occupation                            3585\n",
       "EmploymentStatus                      2252\n",
       "TotalInquiries                        1155\n",
       "DelinquenciesLast7Years                987\n",
       "CurrentDelinquencies                   696\n",
       "PublicRecordsLast10Years               696\n",
       "TotalCreditLinespast7years             696\n",
       "InquiriesLast6Months                   696\n",
       "FirstRecordedCreditLine                696\n",
       "CreditScoreRangeUpper                  590\n",
       "CreditScoreRangeLower                  590\n",
       "BorrowerAPR                             25\n",
       "dtype: int64"
      ]
     },
     "execution_count": 15,
     "metadata": {},
     "output_type": "execute_result"
    }
   ],
   "source": [
    "missing_amounts = df.isna().sum().sort_values(ascending=False)\n",
    "missing_amounts[missing_amounts > 0]"
   ]
  },
  {
   "cell_type": "code",
   "execution_count": 16,
   "id": "d145f098-4896-4aa1-b27c-7254204b2b90",
   "metadata": {},
   "outputs": [
    {
     "data": {
      "text/plain": [
       "113932"
      ]
     },
     "execution_count": 16,
     "metadata": {},
     "output_type": "execute_result"
    }
   ],
   "source": [
    "len(df)"
   ]
  },
  {
   "cell_type": "markdown",
   "id": "92809f28-90d8-4548-855e-ba31fe3ff37a",
   "metadata": {},
   "source": [
    "There are 113k observations so we will drop missing rows for if less than 1000 is missing"
   ]
  },
  {
   "cell_type": "markdown",
   "id": "764fbfef-2688-4cd6-bec3-fbfcda8deb32",
   "metadata": {},
   "source": [
    "# (DO poprawy !!!)"
   ]
  },
  {
   "cell_type": "code",
   "execution_count": 17,
   "id": "35835526-9e90-417b-90f8-0ce4d1b39643",
   "metadata": {},
   "outputs": [],
   "source": [
    "missing_amounts_less_than_1000 = missing_amounts[(missing_amounts > 0) & (missing_amounts < 1000)]"
   ]
  },
  {
   "cell_type": "code",
   "execution_count": 18,
   "id": "99dd8dcf-5e06-41cd-9429-be635a7d0114",
   "metadata": {},
   "outputs": [],
   "source": [
    "list_of_missing_to_drop_rows = list(missing_amounts_less_than_1000.index)"
   ]
  },
  {
   "cell_type": "code",
   "execution_count": 19,
   "id": "66d519b4-a54e-48ee-b9dc-8c0c09b20361",
   "metadata": {},
   "outputs": [
    {
     "data": {
      "text/plain": [
       "['DelinquenciesLast7Years',\n",
       " 'CurrentDelinquencies',\n",
       " 'PublicRecordsLast10Years',\n",
       " 'TotalCreditLinespast7years',\n",
       " 'InquiriesLast6Months',\n",
       " 'FirstRecordedCreditLine',\n",
       " 'CreditScoreRangeUpper',\n",
       " 'CreditScoreRangeLower',\n",
       " 'BorrowerAPR']"
      ]
     },
     "execution_count": 19,
     "metadata": {},
     "output_type": "execute_result"
    }
   ],
   "source": [
    "list_of_missing_to_drop_rows"
   ]
  },
  {
   "cell_type": "code",
   "execution_count": 20,
   "id": "4fa72cfc-1760-4a42-9f54-d8d48e91c3ba",
   "metadata": {},
   "outputs": [],
   "source": [
    "df2 = df[list_of_missing_to_drop_rows].dropna(axis=0,)"
   ]
  },
  {
   "cell_type": "code",
   "execution_count": 21,
   "id": "41637278-0af1-444e-8169-072e29b399c4",
   "metadata": {},
   "outputs": [
    {
     "data": {
      "text/plain": [
       "(112945, 9)"
      ]
     },
     "execution_count": 21,
     "metadata": {},
     "output_type": "execute_result"
    }
   ],
   "source": [
    "df2.shape"
   ]
  },
  {
   "cell_type": "code",
   "execution_count": 22,
   "id": "8c99bcb2-13ec-4a93-94e7-a44c501afae8",
   "metadata": {},
   "outputs": [
    {
     "data": {
      "text/plain": [
       "Index(['DelinquenciesLast7Years', 'CurrentDelinquencies',\n",
       "       'PublicRecordsLast10Years', 'TotalCreditLinespast7years',\n",
       "       'InquiriesLast6Months', 'FirstRecordedCreditLine',\n",
       "       'CreditScoreRangeUpper', 'CreditScoreRangeLower', 'BorrowerAPR'],\n",
       "      dtype='object')"
      ]
     },
     "execution_count": 22,
     "metadata": {},
     "output_type": "execute_result"
    }
   ],
   "source": [
    "df2.columns"
   ]
  },
  {
   "cell_type": "code",
   "execution_count": 23,
   "id": "98fd77f8-47bf-42b5-85af-acff18f95f70",
   "metadata": {},
   "outputs": [],
   "source": [
    "df3 = pd.merge(df,df2,how='inner')"
   ]
  },
  {
   "cell_type": "code",
   "execution_count": 24,
   "id": "eb4723a0-0394-4b13-a956-53334c13e943",
   "metadata": {},
   "outputs": [
    {
     "data": {
      "text/plain": [
       "(114805, 64)"
      ]
     },
     "execution_count": 24,
     "metadata": {},
     "output_type": "execute_result"
    }
   ],
   "source": [
    "df3.shape"
   ]
  },
  {
   "cell_type": "markdown",
   "id": "1a532b42-2b14-4a7e-9fe0-1c1a29909476",
   "metadata": {},
   "source": [
    "#### Filling rest of missing values: data imputation"
   ]
  },
  {
   "cell_type": "code",
   "execution_count": 25,
   "id": "87f648b1-3059-4371-aa2b-579d6119ad3c",
   "metadata": {},
   "outputs": [],
   "source": [
    "missings_to_process = df3.isnull().sum().sort_values(ascending=False)\n",
    "missings_to_process = missings_to_process[missings_to_process > 0]"
   ]
  },
  {
   "cell_type": "code",
   "execution_count": 26,
   "id": "ff6b1062-41c0-43f8-a621-619e4bc2cd6e",
   "metadata": {},
   "outputs": [],
   "source": [
    "missings_to_process = list(missings_to_process.index)"
   ]
  },
  {
   "cell_type": "code",
   "execution_count": 27,
   "id": "79d310d9-67ac-414b-b5b4-751d7f2c6252",
   "metadata": {},
   "outputs": [
    {
     "data": {
      "text/plain": [
       "['DebtToIncomeRatio',\n",
       " 'EmploymentStatusDuration',\n",
       " 'OpenCreditLines',\n",
       " 'RevolvingCreditBalance',\n",
       " 'PublicRecordsLast12Months',\n",
       " 'CurrentCreditLines',\n",
       " 'BankcardUtilization',\n",
       " 'AmountDelinquent',\n",
       " 'AvailableBankcardCredit',\n",
       " 'TotalTrades',\n",
       " 'TradesOpenedLast6Months',\n",
       " 'TradesNeverDelinquent (percentage)',\n",
       " 'BorrowerState',\n",
       " 'Occupation',\n",
       " 'EmploymentStatus',\n",
       " 'TotalInquiries']"
      ]
     },
     "execution_count": 27,
     "metadata": {},
     "output_type": "execute_result"
    }
   ],
   "source": [
    "missings_to_process"
   ]
  },
  {
   "cell_type": "markdown",
   "id": "9d116e07-096b-428c-82f3-4936c4e24ba9",
   "metadata": {},
   "source": [
    "##### 1) Debt to income ratio\n",
    "`DebtToIncomeRatio` - the debt to income ratio of the borrower at the time the credit profile was pulled. This value is Null if the debt to income ratio is not available. This value is capped at 10.01 (any debt to income ratio larger than 1000% will be returned as 1001%)."
   ]
  },
  {
   "cell_type": "code",
   "execution_count": 28,
   "id": "04d7549a-b0a0-4371-b926-52c7bf1df192",
   "metadata": {},
   "outputs": [
    {
     "data": {
      "text/plain": [
       "<Axes: xlabel='DebtToIncomeRatio', ylabel='Count'>"
      ]
     },
     "execution_count": 28,
     "metadata": {},
     "output_type": "execute_result"
    },
    {
     "data": {
      "image/png": "[encoded data removed]",
      "text/plain": [
       "<Figure size 640x480 with 1 Axes>"
      ]
     },
     "metadata": {},
     "output_type": "display_data"
    }
   ],
   "source": [
    "sns.histplot(data=df3,x='DebtToIncomeRatio',bins=20)"
   ]
  },
  {
   "cell_type": "code",
   "execution_count": 29,
   "id": "20000f98-3168-4a57-962c-ccc6c58d8c2a",
   "metadata": {},
   "outputs": [],
   "source": [
    "mean_debt = df3['DebtToIncomeRatio'].mean()"
   ]
  },
  {
   "cell_type": "code",
   "execution_count": 30,
   "id": "f108b41a-309c-4ee5-8021-377b82193f30",
   "metadata": {},
   "outputs": [],
   "source": [
    "df3['DebtToIncomeRatio'] = df3['DebtToIncomeRatio'].fillna(value=mean_debt)"
   ]
  },
  {
   "cell_type": "markdown",
   "id": "cec633ad-beb2-46a9-b668-b953a1fcadd8",
   "metadata": {},
   "source": [
    "EmploymentStatusDuration"
   ]
  },
  {
   "cell_type": "code",
   "execution_count": 31,
   "id": "5a283de4-1879-4580-92c6-410a573c1862",
   "metadata": {},
   "outputs": [
    {
     "data": {
      "text/plain": [
       "<Axes: xlabel='EmploymentStatusDuration', ylabel='Count'>"
      ]
     },
     "execution_count": 31,
     "metadata": {},
     "output_type": "execute_result"
    },
    {
     "data": {
      "image/png": "[encoded data removed]",
      "text/plain": [
       "<Figure size 640x480 with 1 Axes>"
      ]
     },
     "metadata": {},
     "output_type": "display_data"
    }
   ],
   "source": [
    "sns.histplot(data=df3,x='EmploymentStatusDuration',bins=10)"
   ]
  },
  {
   "cell_type": "code",
   "execution_count": 32,
   "id": "cfc76958-72e5-4b68-a0e8-4708ce1d6044",
   "metadata": {},
   "outputs": [],
   "source": [
    "mode_employment = df3['EmploymentStatusDuration'].mode()"
   ]
  },
  {
   "cell_type": "code",
   "execution_count": 33,
   "id": "18d1bba6-e2ea-4f02-9d7c-42b970ece6e8",
   "metadata": {},
   "outputs": [
    {
     "data": {
      "text/plain": [
       "pandas.core.series.Series"
      ]
     },
     "execution_count": 33,
     "metadata": {},
     "output_type": "execute_result"
    }
   ],
   "source": [
    "type(mode_employment)"
   ]
  },
  {
   "cell_type": "markdown",
   "id": "40e7ba25-281a-4c8f-af93-9369764a61fa",
   "metadata": {},
   "source": [
    "We don't have information, why there is missing data here so we chose the mode."
   ]
  },
  {
   "cell_type": "code",
   "execution_count": 34,
   "id": "b201bda3-0335-4f6f-afb4-475c3b2a5735",
   "metadata": {},
   "outputs": [],
   "source": [
    "df3['EmploymentStatusDuration'] = df3['EmploymentStatusDuration'].fillna(value=0)"
   ]
  },
  {
   "cell_type": "code",
   "execution_count": 35,
   "id": "acbfac87-c19a-4925-a143-4d4009d1e543",
   "metadata": {},
   "outputs": [
    {
     "data": {
      "text/plain": [
       "array([0.  , 0.21,  nan, 0.04, 0.81, 0.39, 0.72, 0.13, 0.11, 0.51, 0.32,\n",
       "       0.7 , 0.43, 0.97, 1.  , 0.54, 0.6 , 0.95, 0.08, 0.4 , 0.84, 0.17,\n",
       "       0.07, 0.3 , 0.09, 0.31, 0.34, 0.8 , 0.01, 0.91, 0.58, 0.55, 0.93,\n",
       "       0.1 , 0.46, 0.69, 0.74, 0.63, 0.68, 0.36, 0.37, 0.61, 0.87, 0.45,\n",
       "       0.57, 0.59, 0.41, 0.89, 0.19, 0.94, 0.9 , 0.79, 0.76, 0.86, 0.53,\n",
       "       0.48, 0.73, 0.05, 0.98, 0.99, 0.29, 0.92, 0.03, 0.22, 0.56, 0.64,\n",
       "       0.83, 0.96, 0.35, 0.5 , 0.14, 1.31, 0.33, 0.27, 0.24, 0.44, 0.62,\n",
       "       0.82, 0.12, 0.71, 0.52, 0.42, 0.16, 0.88, 0.23, 0.25, 0.06, 0.75,\n",
       "       0.65, 1.04, 0.78, 0.77, 0.47, 0.49, 0.85, 0.66, 0.38, 1.01, 0.15,\n",
       "       0.26, 0.67, 1.03, 0.28, 1.1 , 1.34, 1.09, 0.02, 1.2 , 0.2 , 1.02,\n",
       "       0.18, 1.05, 1.12, 1.3 , 1.35, 1.13, 1.08, 1.07, 1.14, 1.16, 1.06,\n",
       "       1.15, 1.59, 1.21, 1.19, 1.22, 4.73, 1.18, 1.23, 1.25, 1.54, 1.17,\n",
       "       1.26, 1.61, 1.81, 1.11, 1.32, 1.75, 1.24, 1.76, 1.65, 1.51, 1.57,\n",
       "       1.62, 1.27, 1.5 , 5.95, 1.38, 1.29, 1.36, 1.86, 1.28, 1.47, 1.43,\n",
       "       1.4 , 1.44, 1.8 , 2.66, 2.36, 1.78, 1.37, 1.63, 1.46, 1.79, 1.99,\n",
       "       2.35, 1.6 , 1.52, 1.66, 1.89, 1.58, 2.05, 1.53, 1.33, 1.97, 1.41,\n",
       "       3.47, 2.68, 5.83, 2.46, 1.39, 1.9 , 1.83, 1.82, 2.25, 1.55, 1.69,\n",
       "       1.73, 2.04, 2.  , 2.27, 1.88, 1.7 , 1.45, 2.07, 2.5 , 2.23, 2.21,\n",
       "       1.96, 1.84, 1.64, 1.72])"
      ]
     },
     "execution_count": 35,
     "metadata": {},
     "output_type": "execute_result"
    }
   ],
   "source": [
    "df3['BankcardUtilization'].unique()"
   ]
  },
  {
   "cell_type": "code",
   "execution_count": 36,
   "id": "8d731055-37b9-4955-8dee-4944f647501f",
   "metadata": {},
   "outputs": [
    {
     "data": {
      "text/plain": [
       "<Axes: xlabel='BankcardUtilization', ylabel='Count'>"
      ]
     },
     "execution_count": 36,
     "metadata": {},
     "output_type": "execute_result"
    },
    {
     "data": {
      "image/png": "[encoded data removed]",
      "text/plain": [
       "<Figure size 640x480 with 1 Axes>"
      ]
     },
     "metadata": {},
     "output_type": "display_data"
    }
   ],
   "source": [
    "sns.histplot(data=df3,x='BankcardUtilization',bins=10)"
   ]
  },
  {
   "cell_type": "code",
   "execution_count": 37,
   "id": "91f40618-522d-45be-852f-320255b434f0",
   "metadata": {},
   "outputs": [],
   "source": [
    "mean_utilization = df3['BankcardUtilization'].mean()"
   ]
  },
  {
   "cell_type": "code",
   "execution_count": 38,
   "id": "c6576e98-abfb-4c39-93a3-423e7049878b",
   "metadata": {},
   "outputs": [],
   "source": [
    "df3['BankcardUtilization'] = df3['BankcardUtilization'].fillna(value=mean_utilization)"
   ]
  },
  {
   "cell_type": "code",
   "execution_count": 39,
   "id": "5046be34-6390-4bfc-a2e9-5ef8b851292e",
   "metadata": {},
   "outputs": [
    {
     "data": {
      "text/plain": [
       "<Axes: xlabel='RevolvingCreditBalance', ylabel='Count'>"
      ]
     },
     "execution_count": 39,
     "metadata": {},
     "output_type": "execute_result"
    },
    {
     "data": {
      "image/png": "[encoded data removed]",
      "text/plain": [
       "<Figure size 640x480 with 1 Axes>"
      ]
     },
     "metadata": {},
     "output_type": "display_data"
    }
   ],
   "source": [
    "sns.histplot(data=df3,x='RevolvingCreditBalance',bins=10)"
   ]
  },
  {
   "cell_type": "code",
   "execution_count": 40,
   "id": "a8a5c2b6-bcba-40d2-8226-590b45740297",
   "metadata": {},
   "outputs": [],
   "source": [
    "median_balance = df3['RevolvingCreditBalance'].median()"
   ]
  },
  {
   "cell_type": "code",
   "execution_count": 41,
   "id": "756c3a65-bca1-4958-be5c-8af044747392",
   "metadata": {},
   "outputs": [
    {
     "data": {
      "text/plain": [
       "count    1.081690e+05\n",
       "mean     1.761335e+04\n",
       "std      3.290533e+04\n",
       "min      0.000000e+00\n",
       "25%      3.167000e+03\n",
       "50%      8.587000e+03\n",
       "75%      1.953900e+04\n",
       "max      1.435667e+06\n",
       "Name: RevolvingCreditBalance, dtype: float64"
      ]
     },
     "execution_count": 41,
     "metadata": {},
     "output_type": "execute_result"
    }
   ],
   "source": [
    "df3['RevolvingCreditBalance'].describe()"
   ]
  },
  {
   "cell_type": "code",
   "execution_count": 42,
   "id": "a2106103-c661-453c-aeb9-e4a4675f5323",
   "metadata": {},
   "outputs": [],
   "source": [
    "df3['RevolvingCreditBalance'] = df3['RevolvingCreditBalance'].fillna(value=median_balance)"
   ]
  },
  {
   "cell_type": "code",
   "execution_count": 43,
   "id": "1e817332-d533-4f1a-b8f6-7f20e7283402",
   "metadata": {},
   "outputs": [
    {
     "data": {
      "text/plain": [
       "0         0.0\n",
       "1         0.0\n",
       "2         NaN\n",
       "3         0.0\n",
       "4         0.0\n",
       "         ... \n",
       "114800    0.0\n",
       "114801    0.0\n",
       "114802    0.0\n",
       "114803    0.0\n",
       "114804    0.0\n",
       "Name: PublicRecordsLast12Months, Length: 114805, dtype: float64"
      ]
     },
     "execution_count": 43,
     "metadata": {},
     "output_type": "execute_result"
    }
   ],
   "source": [
    "df3['PublicRecordsLast12Months']"
   ]
  },
  {
   "cell_type": "code",
   "execution_count": 44,
   "id": "23d283a0-b676-47de-b3c5-6c942b3f957b",
   "metadata": {},
   "outputs": [
    {
     "data": {
      "text/plain": [
       "<Axes: xlabel='PublicRecordsLast12Months', ylabel='Count'>"
      ]
     },
     "execution_count": 44,
     "metadata": {},
     "output_type": "execute_result"
    },
    {
     "data": {
      "image/png": "[encoded data removed]",
      "text/plain": [
       "<Figure size 640x480 with 1 Axes>"
      ]
     },
     "metadata": {},
     "output_type": "display_data"
    }
   ],
   "source": [
    "sns.histplot(data=df3,x='PublicRecordsLast12Months',bins=50)"
   ]
  },
  {
   "cell_type": "code",
   "execution_count": 45,
   "id": "c510cade-7b09-48d7-b1c3-78a20ed7a998",
   "metadata": {},
   "outputs": [
    {
     "data": {
      "text/plain": [
       "PublicRecordsLast12Months\n",
       "0.0     106775\n",
       "1.0       1257\n",
       "2.0         96\n",
       "3.0         28\n",
       "4.0         10\n",
       "7.0          2\n",
       "20.0         1\n",
       "Name: count, dtype: int64"
      ]
     },
     "execution_count": 45,
     "metadata": {},
     "output_type": "execute_result"
    }
   ],
   "source": [
    "df3['PublicRecordsLast12Months'].value_counts()"
   ]
  },
  {
   "cell_type": "code",
   "execution_count": 46,
   "id": "3ec7b171-95b0-4fda-8877-4439fd47612d",
   "metadata": {},
   "outputs": [],
   "source": [
    "df3['PublicRecordsLast12Months'] = df3['PublicRecordsLast12Months'].fillna(value=0.0)"
   ]
  },
  {
   "cell_type": "markdown",
   "id": "b5c794c5-a39b-4a67-b9a8-71f9f722562e",
   "metadata": {},
   "source": [
    "OpenCreditLines is the same as Currentcredit line so we will drop one of them"
   ]
  },
  {
   "cell_type": "code",
   "execution_count": 47,
   "id": "d7d1299e-a45a-4a3d-a4c6-32d1950a19c6",
   "metadata": {},
   "outputs": [],
   "source": [
    "df3 = df3.drop('CurrentCreditLines',axis=1)"
   ]
  },
  {
   "cell_type": "markdown",
   "id": "d59ff307-f9f4-4145-bfc7-ee807cf5a17a",
   "metadata": {},
   "source": [
    "Można wypełnić na podstawie drugiej!"
   ]
  },
  {
   "cell_type": "code",
   "execution_count": 48,
   "id": "299ad26b-299b-4ef4-b410-7eba969cdb12",
   "metadata": {},
   "outputs": [
    {
     "data": {
      "text/plain": [
       "<Axes: xlabel='OpenCreditLines', ylabel='Count'>"
      ]
     },
     "execution_count": 48,
     "metadata": {},
     "output_type": "execute_result"
    },
    {
     "data": {
      "image/png": "[encoded data removed]",
      "text/plain": [
       "<Figure size 640x480 with 1 Axes>"
      ]
     },
     "metadata": {},
     "output_type": "display_data"
    }
   ],
   "source": [
    "sns.histplot(data=df3,x='OpenCreditLines',bins=50)"
   ]
  },
  {
   "cell_type": "code",
   "execution_count": 49,
   "id": "e39586b3-b674-4c0f-8e8c-b4b83d0bb562",
   "metadata": {},
   "outputs": [
    {
     "data": {
      "text/plain": [
       "OpenCreditLines\n",
       "7.0     10208\n",
       "8.0      9756\n",
       "6.0      9265\n",
       "9.0      9191\n",
       "5.0      8198\n",
       "10.0     8115\n",
       "11.0     6981\n",
       "4.0      6195\n",
       "12.0     6043\n",
       "13.0     5005\n",
       "3.0      4732\n",
       "14.0     4113\n",
       "15.0     3293\n",
       "2.0      3203\n",
       "16.0     2559\n",
       "17.0     2052\n",
       "1.0      1689\n",
       "18.0     1574\n",
       "19.0     1145\n",
       "20.0      942\n",
       "21.0      757\n",
       "22.0      627\n",
       "0.0       561\n",
       "23.0      449\n",
       "24.0      386\n",
       "25.0      282\n",
       "26.0      160\n",
       "27.0      142\n",
       "28.0      138\n",
       "29.0       96\n",
       "30.0       68\n",
       "31.0       61\n",
       "32.0       41\n",
       "33.0       33\n",
       "34.0       26\n",
       "35.0       22\n",
       "38.0       11\n",
       "37.0       11\n",
       "36.0       11\n",
       "40.0        4\n",
       "39.0        4\n",
       "41.0        4\n",
       "45.0        3\n",
       "42.0        2\n",
       "44.0        2\n",
       "43.0        2\n",
       "48.0        2\n",
       "54.0        1\n",
       "51.0        1\n",
       "46.0        1\n",
       "47.0        1\n",
       "49.0        1\n",
       "Name: count, dtype: int64"
      ]
     },
     "execution_count": 49,
     "metadata": {},
     "output_type": "execute_result"
    }
   ],
   "source": [
    "df3['OpenCreditLines'].value_counts()"
   ]
  },
  {
   "cell_type": "code",
   "execution_count": 50,
   "id": "e73a9a2e-126a-4769-97ad-dfb5c9779a62",
   "metadata": {},
   "outputs": [],
   "source": [
    "df3['OpenCreditLines'] = df3['OpenCreditLines'].fillna(df3['OpenCreditLines'].mean())"
   ]
  },
  {
   "cell_type": "markdown",
   "id": "ea869a6e-f4bd-4a35-9f99-08ea5d2f88b4",
   "metadata": {},
   "source": [
    "Amount Delinqeunt"
   ]
  },
  {
   "cell_type": "code",
   "execution_count": 51,
   "id": "c3eae39e-f83a-49ca-8c7e-5b68be51656b",
   "metadata": {},
   "outputs": [
    {
     "data": {
      "text/plain": [
       "np.float64(0.0)"
      ]
     },
     "execution_count": 51,
     "metadata": {},
     "output_type": "execute_result"
    }
   ],
   "source": [
    "df3['AmountDelinquent'].median()"
   ]
  },
  {
   "cell_type": "code",
   "execution_count": 52,
   "id": "4ddf5667-ff72-481d-b683-e48df4269b59",
   "metadata": {},
   "outputs": [],
   "source": [
    "df3['AmountDelinquent'] = df3['AmountDelinquent'].fillna(value=0.0)"
   ]
  },
  {
   "cell_type": "code",
   "execution_count": 53,
   "id": "0cabceca-4c88-4a20-b042-6887b7205bbd",
   "metadata": {},
   "outputs": [
    {
     "data": {
      "text/plain": [
       "0         11.0\n",
       "1         29.0\n",
       "2          NaN\n",
       "3         26.0\n",
       "4         39.0\n",
       "          ... \n",
       "114800    37.0\n",
       "114801    39.0\n",
       "114802    25.0\n",
       "114803    19.0\n",
       "114804    36.0\n",
       "Name: TotalTrades, Length: 114805, dtype: float64"
      ]
     },
     "execution_count": 53,
     "metadata": {},
     "output_type": "execute_result"
    }
   ],
   "source": [
    "df3['TotalTrades']"
   ]
  },
  {
   "cell_type": "code",
   "execution_count": 54,
   "id": "2f4593b1-71bf-4926-8dd0-12c37cdc8203",
   "metadata": {},
   "outputs": [
    {
     "data": {
      "text/plain": [
       "<Axes: xlabel='TotalTrades', ylabel='Count'>"
      ]
     },
     "execution_count": 54,
     "metadata": {},
     "output_type": "execute_result"
    },
    {
     "data": {
      "image/png": "[encoded data removed]",
      "text/plain": [
       "<Figure size 640x480 with 1 Axes>"
      ]
     },
     "metadata": {},
     "output_type": "display_data"
    }
   ],
   "source": [
    "sns.histplot(data=df3,x='TotalTrades',bins=50,kde=True)"
   ]
  },
  {
   "cell_type": "code",
   "execution_count": 55,
   "id": "932ac2a6-ae55-46fd-a2f5-bf02f4ff1dc2",
   "metadata": {},
   "outputs": [],
   "source": [
    "df3['TotalTrades'] = df3['TotalTrades'].fillna(value=df3['TotalTrades'].mean())"
   ]
  },
  {
   "cell_type": "code",
   "execution_count": 56,
   "id": "e96edbc3-b8f8-4d17-8f6f-6653de65e5b4",
   "metadata": {},
   "outputs": [
    {
     "data": {
      "text/plain": [
       "19"
      ]
     },
     "execution_count": 56,
     "metadata": {},
     "output_type": "execute_result"
    }
   ],
   "source": [
    "df3['TradesOpenedLast6Months'].nunique()"
   ]
  },
  {
   "cell_type": "code",
   "execution_count": 57,
   "id": "79f44ab0-799b-4fdc-8a74-c2951f96406d",
   "metadata": {},
   "outputs": [
    {
     "data": {
      "text/plain": [
       "<Axes: xlabel='TradesOpenedLast6Months', ylabel='count'>"
      ]
     },
     "execution_count": 57,
     "metadata": {},
     "output_type": "execute_result"
    },
    {
     "data": {
      "image/png": "[encoded data removed]",
      "text/plain": [
       "<Figure size 640x480 with 1 Axes>"
      ]
     },
     "metadata": {},
     "output_type": "display_data"
    }
   ],
   "source": [
    "sns.countplot(data=df3,x='TradesOpenedLast6Months',)"
   ]
  },
  {
   "cell_type": "code",
   "execution_count": 58,
   "id": "2be6b389-bc74-489b-8188-18869b166886",
   "metadata": {},
   "outputs": [],
   "source": [
    "df3['TradesOpenedLast6Months'] = df3['TradesOpenedLast6Months'].fillna(method='ffill')"
   ]
  },
  {
   "cell_type": "code",
   "execution_count": 59,
   "id": "1dae89f0-9a68-4f26-8fa6-eb45b2c3b520",
   "metadata": {},
   "outputs": [
    {
     "data": {
      "text/plain": [
       "TradesNeverDelinquent (percentage)\n",
       "1.00    42645\n",
       "0.96     4327\n",
       "0.95     3821\n",
       "0.90     3209\n",
       "0.94     3127\n",
       "        ...  \n",
       "0.32        5\n",
       "0.06        3\n",
       "0.99        1\n",
       "0.03        1\n",
       "0.49        1\n",
       "Name: count, Length: 98, dtype: int64"
      ]
     },
     "execution_count": 59,
     "metadata": {},
     "output_type": "execute_result"
    }
   ],
   "source": [
    "df3['TradesNeverDelinquent (percentage)'].value_counts()"
   ]
  },
  {
   "cell_type": "code",
   "execution_count": 60,
   "id": "a4793f30-6388-48f1-bafa-f6a3d6c2f69e",
   "metadata": {},
   "outputs": [
    {
     "data": {
      "text/plain": [
       "<Axes: xlabel='TradesNeverDelinquent (percentage)', ylabel='Count'>"
      ]
     },
     "execution_count": 60,
     "metadata": {},
     "output_type": "execute_result"
    },
    {
     "data": {
      "image/png": "[encoded data removed]",
      "text/plain": [
       "<Figure size 640x480 with 1 Axes>"
      ]
     },
     "metadata": {},
     "output_type": "display_data"
    }
   ],
   "source": [
    "sns.histplot(data=df3,x='TradesNeverDelinquent (percentage)',bins=10)"
   ]
  },
  {
   "cell_type": "code",
   "execution_count": 61,
   "id": "c90ca857-40ce-435d-90e5-7f3839c662c4",
   "metadata": {},
   "outputs": [
    {
     "data": {
      "text/plain": [
       "np.float64(0.8866415959049037)"
      ]
     },
     "execution_count": 61,
     "metadata": {},
     "output_type": "execute_result"
    }
   ],
   "source": [
    "df3['TradesNeverDelinquent (percentage)'].mean()"
   ]
  },
  {
   "cell_type": "code",
   "execution_count": 62,
   "id": "070c28f2-e7c1-4810-a9fb-ecea02025d16",
   "metadata": {},
   "outputs": [],
   "source": [
    "df3['TradesNeverDelinquent (percentage)'] = df3['TradesNeverDelinquent (percentage)'].fillna(df3['TradesNeverDelinquent (percentage)'].mean())"
   ]
  },
  {
   "cell_type": "code",
   "execution_count": 63,
   "id": "b0ec97b5-e3a4-438e-8f6f-acc2f4ec1911",
   "metadata": {},
   "outputs": [
    {
     "data": {
      "text/plain": [
       "<Axes: xlabel='AvailableBankcardCredit', ylabel='Count'>"
      ]
     },
     "execution_count": 63,
     "metadata": {},
     "output_type": "execute_result"
    },
    {
     "data": {
      "image/png": "[encoded data removed]",
      "text/plain": [
       "<Figure size 640x480 with 1 Axes>"
      ]
     },
     "metadata": {},
     "output_type": "display_data"
    }
   ],
   "source": [
    "sns.histplot(data=df3,x='AvailableBankcardCredit',bins=10)"
   ]
  },
  {
   "cell_type": "code",
   "execution_count": 64,
   "id": "ea0e8315-b11b-4590-8a5e-a7a78495581e",
   "metadata": {},
   "outputs": [
    {
     "data": {
      "text/plain": [
       "np.float64(11220.777014977779)"
      ]
     },
     "execution_count": 64,
     "metadata": {},
     "output_type": "execute_result"
    }
   ],
   "source": [
    "df3['AvailableBankcardCredit'].mean()"
   ]
  },
  {
   "cell_type": "code",
   "execution_count": 65,
   "id": "bc17bcdf-a1ba-446a-8982-d1984a79a42d",
   "metadata": {},
   "outputs": [],
   "source": [
    "df3['AvailableBankcardCredit'] = df3['AvailableBankcardCredit'].fillna(df3['AvailableBankcardCredit'].mean())"
   ]
  },
  {
   "cell_type": "code",
   "execution_count": 66,
   "id": "0906cb35-bb0e-4faf-901c-6d7e1a7359b1",
   "metadata": {},
   "outputs": [],
   "source": [
    "df3 = df3.drop('Occupation',axis=1)"
   ]
  },
  {
   "cell_type": "code",
   "execution_count": 67,
   "id": "fb6278ba-2056-43c6-a6c7-b80bf1d4a4e7",
   "metadata": {},
   "outputs": [],
   "source": [
    "df3['BorrowerState'] = df3['BorrowerState'].fillna(method='ffill')"
   ]
  },
  {
   "cell_type": "code",
   "execution_count": 68,
   "id": "6c3c35a1-4730-4ecb-845f-5a3cd4f14489",
   "metadata": {},
   "outputs": [
    {
     "data": {
      "text/plain": [
       "array(['Self-employed', 'Employed', 'Not available', 'Full-time', 'Other',\n",
       "       nan, 'Not employed', 'Part-time', 'Retired'], dtype=object)"
      ]
     },
     "execution_count": 68,
     "metadata": {},
     "output_type": "execute_result"
    }
   ],
   "source": [
    "df3['EmploymentStatus'].unique()"
   ]
  },
  {
   "cell_type": "code",
   "execution_count": 69,
   "id": "e9c289ad-de5b-499a-8b2f-512bebb141e6",
   "metadata": {},
   "outputs": [],
   "source": [
    "df3['EmploymentStatus'] = df3['EmploymentStatus'].fillna(method='ffill')"
   ]
  },
  {
   "cell_type": "code",
   "execution_count": 70,
   "id": "935b1daa-8746-4b25-ac8e-a47fccbdbf25",
   "metadata": {},
   "outputs": [
    {
     "data": {
      "text/plain": [
       "TotalInquiries\n",
       "2.0      15108\n",
       "3.0      14182\n",
       "1.0      13973\n",
       "4.0      12407\n",
       "5.0      10312\n",
       "         ...  \n",
       "75.0         1\n",
       "377.0        1\n",
       "95.0         1\n",
       "88.0         1\n",
       "158.0        1\n",
       "Name: count, Length: 102, dtype: int64"
      ]
     },
     "execution_count": 70,
     "metadata": {},
     "output_type": "execute_result"
    }
   ],
   "source": [
    "df3['TotalInquiries'].value_counts()"
   ]
  },
  {
   "cell_type": "code",
   "execution_count": 71,
   "id": "9303fb6f-0257-4fe1-88ff-8eb494935e1a",
   "metadata": {},
   "outputs": [
    {
     "data": {
      "text/plain": [
       "<Axes: xlabel='TotalInquiries', ylabel='Count'>"
      ]
     },
     "execution_count": 71,
     "metadata": {},
     "output_type": "execute_result"
    },
    {
     "data": {
      "image/png": "[encoded data removed]",
      "text/plain": [
       "<Figure size 640x480 with 1 Axes>"
      ]
     },
     "metadata": {},
     "output_type": "display_data"
    }
   ],
   "source": [
    "sns.histplot(data=df3,x='TotalInquiries',bins=20)"
   ]
  },
  {
   "cell_type": "code",
   "execution_count": 72,
   "id": "0a9cc97d-4b8d-4adb-a91a-f51ff2ab1841",
   "metadata": {},
   "outputs": [
    {
     "data": {
      "text/plain": [
       "np.float64(4.0)"
      ]
     },
     "execution_count": 72,
     "metadata": {},
     "output_type": "execute_result"
    }
   ],
   "source": [
    "df3['TotalInquiries'].median()"
   ]
  },
  {
   "cell_type": "code",
   "execution_count": 73,
   "id": "70ec542e-b77f-4cf0-8692-c5b20c15f04f",
   "metadata": {},
   "outputs": [],
   "source": [
    "df3['TotalInquiries'] = df3['TotalInquiries'].fillna(value=4)"
   ]
  },
  {
   "cell_type": "code",
   "execution_count": 74,
   "id": "f6b4b891-f686-41d1-9905-d68b29152b0e",
   "metadata": {},
   "outputs": [
    {
     "data": {
      "text/plain": [
       "ListingKey                     0\n",
       "ListingNumber                  0\n",
       "ListingCreationDate            0\n",
       "Term                           0\n",
       "LoanStatus                     0\n",
       "                              ..\n",
       "Recommendations                0\n",
       "InvestmentFromFriendsCount     0\n",
       "InvestmentFromFriendsAmount    0\n",
       "Investors                      0\n",
       "Defaulted                      0\n",
       "Length: 62, dtype: int64"
      ]
     },
     "execution_count": 74,
     "metadata": {},
     "output_type": "execute_result"
    }
   ],
   "source": [
    "df3.isnull().sum().sort_values(ascending=False)"
   ]
  },
  {
   "cell_type": "code",
   "execution_count": 75,
   "id": "c6bf22c3-f8b2-4a96-b461-8bf8f3efa545",
   "metadata": {},
   "outputs": [
    {
     "name": "stdout",
     "output_type": "stream",
     "text": [
      "<class 'pandas.core.frame.DataFrame'>\n",
      "RangeIndex: 114805 entries, 0 to 114804\n",
      "Data columns (total 62 columns):\n",
      " #   Column                              Non-Null Count   Dtype  \n",
      "---  ------                              --------------   -----  \n",
      " 0   ListingKey                          114805 non-null  object \n",
      " 1   ListingNumber                       114805 non-null  int64  \n",
      " 2   ListingCreationDate                 114805 non-null  object \n",
      " 3   Term                                114805 non-null  int64  \n",
      " 4   LoanStatus                          114805 non-null  object \n",
      " 5   BorrowerAPR                         114805 non-null  float64\n",
      " 6   BorrowerRate                        114805 non-null  float64\n",
      " 7   LenderYield                         114805 non-null  float64\n",
      " 8   ListingCategory (numeric)           114805 non-null  int64  \n",
      " 9   BorrowerState                       114805 non-null  object \n",
      " 10  EmploymentStatus                    114805 non-null  object \n",
      " 11  EmploymentStatusDuration            114805 non-null  float64\n",
      " 12  IsBorrowerHomeowner                 114805 non-null  bool   \n",
      " 13  CurrentlyInGroup                    114805 non-null  bool   \n",
      " 14  DateCreditPulled                    114805 non-null  object \n",
      " 15  CreditScoreRangeLower               114805 non-null  float64\n",
      " 16  CreditScoreRangeUpper               114805 non-null  float64\n",
      " 17  FirstRecordedCreditLine             114805 non-null  object \n",
      " 18  OpenCreditLines                     114805 non-null  float64\n",
      " 19  TotalCreditLinespast7years          114805 non-null  float64\n",
      " 20  OpenRevolvingAccounts               114805 non-null  int64  \n",
      " 21  OpenRevolvingMonthlyPayment         114805 non-null  float64\n",
      " 22  InquiriesLast6Months                114805 non-null  float64\n",
      " 23  TotalInquiries                      114805 non-null  float64\n",
      " 24  CurrentDelinquencies                114805 non-null  float64\n",
      " 25  AmountDelinquent                    114805 non-null  float64\n",
      " 26  DelinquenciesLast7Years             114805 non-null  float64\n",
      " 27  PublicRecordsLast10Years            114805 non-null  float64\n",
      " 28  PublicRecordsLast12Months           114805 non-null  float64\n",
      " 29  RevolvingCreditBalance              114805 non-null  float64\n",
      " 30  BankcardUtilization                 114805 non-null  float64\n",
      " 31  AvailableBankcardCredit             114805 non-null  float64\n",
      " 32  TotalTrades                         114805 non-null  float64\n",
      " 33  TradesNeverDelinquent (percentage)  114805 non-null  float64\n",
      " 34  TradesOpenedLast6Months             114805 non-null  float64\n",
      " 35  DebtToIncomeRatio                   114805 non-null  float64\n",
      " 36  IncomeRange                         114805 non-null  object \n",
      " 37  IncomeVerifiable                    114805 non-null  bool   \n",
      " 38  StatedMonthlyIncome                 114805 non-null  float64\n",
      " 39  LoanKey                             114805 non-null  object \n",
      " 40  LoanCurrentDaysDelinquent           114805 non-null  int64  \n",
      " 41  LoanMonthsSinceOrigination          114805 non-null  int64  \n",
      " 42  LoanNumber                          114805 non-null  int64  \n",
      " 43  LoanOriginalAmount                  114805 non-null  int64  \n",
      " 44  LoanOriginationDate                 114805 non-null  object \n",
      " 45  LoanOriginationQuarter              114805 non-null  object \n",
      " 46  MemberKey                           114805 non-null  object \n",
      " 47  MonthlyLoanPayment                  114805 non-null  float64\n",
      " 48  LP_CustomerPayments                 114805 non-null  float64\n",
      " 49  LP_CustomerPrincipalPayments        114805 non-null  float64\n",
      " 50  LP_InterestandFees                  114805 non-null  float64\n",
      " 51  LP_ServiceFees                      114805 non-null  float64\n",
      " 52  LP_CollectionFees                   114805 non-null  float64\n",
      " 53  LP_GrossPrincipalLoss               114805 non-null  float64\n",
      " 54  LP_NetPrincipalLoss                 114805 non-null  float64\n",
      " 55  LP_NonPrincipalRecoverypayments     114805 non-null  float64\n",
      " 56  PercentFunded                       114805 non-null  float64\n",
      " 57  Recommendations                     114805 non-null  int64  \n",
      " 58  InvestmentFromFriendsCount          114805 non-null  int64  \n",
      " 59  InvestmentFromFriendsAmount         114805 non-null  float64\n",
      " 60  Investors                           114805 non-null  int64  \n",
      " 61  Defaulted                           114805 non-null  int64  \n",
      "dtypes: bool(3), float64(35), int64(12), object(12)\n",
      "memory usage: 52.0+ MB\n"
     ]
    }
   ],
   "source": [
    "df3.info()"
   ]
  },
  {
   "cell_type": "code",
   "execution_count": 76,
   "id": "e12222c9-83e7-4c35-88db-c5e656287e2a",
   "metadata": {},
   "outputs": [
    {
     "data": {
      "text/html": [
       "<div>\n",
       "<style scoped>\n",
       "    .dataframe tbody tr th:only-of-type {\n",
       "        vertical-align: middle;\n",
       "    }\n",
       "\n",
       "    .dataframe tbody tr th {\n",
       "        vertical-align: top;\n",
       "    }\n",
       "\n",
       "    .dataframe thead th {\n",
       "        text-align: right;\n",
       "    }\n",
       "</style>\n",
       "<table border=\"1\" class=\"dataframe\">\n",
       "  <thead>\n",
       "    <tr style=\"text-align: right;\">\n",
       "      <th></th>\n",
       "      <th>ListingKey</th>\n",
       "      <th>ListingNumber</th>\n",
       "      <th>ListingCreationDate</th>\n",
       "      <th>Term</th>\n",
       "      <th>LoanStatus</th>\n",
       "      <th>BorrowerAPR</th>\n",
       "      <th>BorrowerRate</th>\n",
       "      <th>LenderYield</th>\n",
       "      <th>ListingCategory (numeric)</th>\n",
       "      <th>BorrowerState</th>\n",
       "      <th>...</th>\n",
       "      <th>LP_CollectionFees</th>\n",
       "      <th>LP_GrossPrincipalLoss</th>\n",
       "      <th>LP_NetPrincipalLoss</th>\n",
       "      <th>LP_NonPrincipalRecoverypayments</th>\n",
       "      <th>PercentFunded</th>\n",
       "      <th>Recommendations</th>\n",
       "      <th>InvestmentFromFriendsCount</th>\n",
       "      <th>InvestmentFromFriendsAmount</th>\n",
       "      <th>Investors</th>\n",
       "      <th>Defaulted</th>\n",
       "    </tr>\n",
       "  </thead>\n",
       "  <tbody>\n",
       "    <tr>\n",
       "      <th>0</th>\n",
       "      <td>1021339766868145413AB3B</td>\n",
       "      <td>193129</td>\n",
       "      <td>2007-08-26 19:09:29.263000000</td>\n",
       "      <td>36</td>\n",
       "      <td>Completed</td>\n",
       "      <td>0.16516</td>\n",
       "      <td>0.1580</td>\n",
       "      <td>0.1380</td>\n",
       "      <td>0</td>\n",
       "      <td>CO</td>\n",
       "      <td>...</td>\n",
       "      <td>0.0</td>\n",
       "      <td>0.0</td>\n",
       "      <td>0.0</td>\n",
       "      <td>0.0</td>\n",
       "      <td>1.0</td>\n",
       "      <td>0</td>\n",
       "      <td>0</td>\n",
       "      <td>0.0</td>\n",
       "      <td>258</td>\n",
       "      <td>0</td>\n",
       "    </tr>\n",
       "    <tr>\n",
       "      <th>1</th>\n",
       "      <td>10273602499503308B223C1</td>\n",
       "      <td>1209647</td>\n",
       "      <td>2014-02-27 08:28:07.900000000</td>\n",
       "      <td>36</td>\n",
       "      <td>Current</td>\n",
       "      <td>0.12016</td>\n",
       "      <td>0.0920</td>\n",
       "      <td>0.0820</td>\n",
       "      <td>2</td>\n",
       "      <td>CO</td>\n",
       "      <td>...</td>\n",
       "      <td>0.0</td>\n",
       "      <td>0.0</td>\n",
       "      <td>0.0</td>\n",
       "      <td>0.0</td>\n",
       "      <td>1.0</td>\n",
       "      <td>0</td>\n",
       "      <td>0</td>\n",
       "      <td>0.0</td>\n",
       "      <td>1</td>\n",
       "      <td>0</td>\n",
       "    </tr>\n",
       "    <tr>\n",
       "      <th>2</th>\n",
       "      <td>0EE9337825851032864889A</td>\n",
       "      <td>81716</td>\n",
       "      <td>2007-01-05 15:00:47.090000000</td>\n",
       "      <td>36</td>\n",
       "      <td>Completed</td>\n",
       "      <td>0.28269</td>\n",
       "      <td>0.2750</td>\n",
       "      <td>0.2400</td>\n",
       "      <td>0</td>\n",
       "      <td>GA</td>\n",
       "      <td>...</td>\n",
       "      <td>0.0</td>\n",
       "      <td>0.0</td>\n",
       "      <td>0.0</td>\n",
       "      <td>0.0</td>\n",
       "      <td>1.0</td>\n",
       "      <td>0</td>\n",
       "      <td>0</td>\n",
       "      <td>0.0</td>\n",
       "      <td>41</td>\n",
       "      <td>0</td>\n",
       "    </tr>\n",
       "    <tr>\n",
       "      <th>3</th>\n",
       "      <td>0EF5356002482715299901A</td>\n",
       "      <td>658116</td>\n",
       "      <td>2012-10-22 11:02:35.010000000</td>\n",
       "      <td>36</td>\n",
       "      <td>Current</td>\n",
       "      <td>0.12528</td>\n",
       "      <td>0.0974</td>\n",
       "      <td>0.0874</td>\n",
       "      <td>16</td>\n",
       "      <td>GA</td>\n",
       "      <td>...</td>\n",
       "      <td>0.0</td>\n",
       "      <td>0.0</td>\n",
       "      <td>0.0</td>\n",
       "      <td>0.0</td>\n",
       "      <td>1.0</td>\n",
       "      <td>0</td>\n",
       "      <td>0</td>\n",
       "      <td>0.0</td>\n",
       "      <td>158</td>\n",
       "      <td>0</td>\n",
       "    </tr>\n",
       "    <tr>\n",
       "      <th>4</th>\n",
       "      <td>0F023589499656230C5E3E2</td>\n",
       "      <td>909464</td>\n",
       "      <td>2013-09-14 18:38:39.097000000</td>\n",
       "      <td>36</td>\n",
       "      <td>Current</td>\n",
       "      <td>0.24614</td>\n",
       "      <td>0.2085</td>\n",
       "      <td>0.1985</td>\n",
       "      <td>2</td>\n",
       "      <td>MN</td>\n",
       "      <td>...</td>\n",
       "      <td>0.0</td>\n",
       "      <td>0.0</td>\n",
       "      <td>0.0</td>\n",
       "      <td>0.0</td>\n",
       "      <td>1.0</td>\n",
       "      <td>0</td>\n",
       "      <td>0</td>\n",
       "      <td>0.0</td>\n",
       "      <td>20</td>\n",
       "      <td>0</td>\n",
       "    </tr>\n",
       "  </tbody>\n",
       "</table>\n",
       "<p>5 rows × 62 columns</p>\n",
       "</div>"
      ],
      "text/plain": [
       "                ListingKey  ListingNumber            ListingCreationDate  \\\n",
       "0  1021339766868145413AB3B         193129  2007-08-26 19:09:29.263000000   \n",
       "1  10273602499503308B223C1        1209647  2014-02-27 08:28:07.900000000   \n",
       "2  0EE9337825851032864889A          81716  2007-01-05 15:00:47.090000000   \n",
       "3  0EF5356002482715299901A         658116  2012-10-22 11:02:35.010000000   \n",
       "4  0F023589499656230C5E3E2         909464  2013-09-14 18:38:39.097000000   \n",
       "\n",
       "   Term LoanStatus  BorrowerAPR  BorrowerRate  LenderYield  \\\n",
       "0    36  Completed      0.16516        0.1580       0.1380   \n",
       "1    36    Current      0.12016        0.0920       0.0820   \n",
       "2    36  Completed      0.28269        0.2750       0.2400   \n",
       "3    36    Current      0.12528        0.0974       0.0874   \n",
       "4    36    Current      0.24614        0.2085       0.1985   \n",
       "\n",
       "   ListingCategory (numeric) BorrowerState  ... LP_CollectionFees  \\\n",
       "0                          0            CO  ...               0.0   \n",
       "1                          2            CO  ...               0.0   \n",
       "2                          0            GA  ...               0.0   \n",
       "3                         16            GA  ...               0.0   \n",
       "4                          2            MN  ...               0.0   \n",
       "\n",
       "   LP_GrossPrincipalLoss  LP_NetPrincipalLoss  \\\n",
       "0                    0.0                  0.0   \n",
       "1                    0.0                  0.0   \n",
       "2                    0.0                  0.0   \n",
       "3                    0.0                  0.0   \n",
       "4                    0.0                  0.0   \n",
       "\n",
       "   LP_NonPrincipalRecoverypayments PercentFunded  Recommendations  \\\n",
       "0                              0.0           1.0                0   \n",
       "1                              0.0           1.0                0   \n",
       "2                              0.0           1.0                0   \n",
       "3                              0.0           1.0                0   \n",
       "4                              0.0           1.0                0   \n",
       "\n",
       "   InvestmentFromFriendsCount InvestmentFromFriendsAmount  Investors  \\\n",
       "0                           0                         0.0        258   \n",
       "1                           0                         0.0          1   \n",
       "2                           0                         0.0         41   \n",
       "3                           0                         0.0        158   \n",
       "4                           0                         0.0         20   \n",
       "\n",
       "   Defaulted  \n",
       "0          0  \n",
       "1          0  \n",
       "2          0  \n",
       "3          0  \n",
       "4          0  \n",
       "\n",
       "[5 rows x 62 columns]"
      ]
     },
     "execution_count": 76,
     "metadata": {},
     "output_type": "execute_result"
    }
   ],
   "source": [
    "df3.head()"
   ]
  },
  {
   "cell_type": "code",
   "execution_count": 77,
   "id": "e236edf1",
   "metadata": {},
   "outputs": [],
   "source": [
    "df3.to_csv('filled_missings_df.csv', index=True)"
   ]
  },
  {
   "cell_type": "markdown",
   "id": "3e2ce105",
   "metadata": {},
   "source": [
    "# TODO:\n",
    "0. Wywal bezsensowe zmienne\n",
    "1. Zbadać korelacje\n",
    "2. Poszeregować na podstawie entropii\n",
    "3. Ustalić punkt odcięcia\n",
    "4. Feature selection drzewami\n",
    "5. Zbuduj modele\n",
    "6. Interpretacja wyników"
   ]
  }
 ],
 "metadata": {
  "kernelspec": {
   "display_name": "mrk-project",
   "language": "python",
   "name": "python3"
  },
  "language_info": {
   "codemirror_mode": {
    "name": "ipython",
    "version": 3
   },
   "file_extension": ".py",
   "mimetype": "text/x-python",
   "name": "python",
   "nbconvert_exporter": "python",
   "pygments_lexer": "ipython3",
   "version": "3.11.11"
  }
 },
 "nbformat": 4,
 "nbformat_minor": 5
}
