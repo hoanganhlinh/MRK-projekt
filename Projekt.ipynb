{
 "cells": [
  {
   "cell_type": "code",
   "execution_count": 1,
   "id": "977fba36-2b0f-4c1e-88c0-317a8fa37be1",
   "metadata": {},
   "outputs": [],
   "source": [
    "import pandas as pd\n",
    "import numpy as np"
   ]
  },
  {
   "cell_type": "code",
   "execution_count": 4,
   "id": "2c5a9a7d-0df3-4ab0-b2e4-19ec58d8ff6d",
   "metadata": {},
   "outputs": [],
   "source": [
    "df = pd.read_csv('prosperLoanData.csv')"
   ]
  },
  {
   "cell_type": "code",
   "execution_count": 5,
   "id": "7b5902ff-997d-4fd1-8f9b-1d4c4fed8b58",
   "metadata": {},
   "outputs": [
    {
     "data": {
      "text/html": [
       "<div>\n",
       "<style scoped>\n",
       "    .dataframe tbody tr th:only-of-type {\n",
       "        vertical-align: middle;\n",
       "    }\n",
       "\n",
       "    .dataframe tbody tr th {\n",
       "        vertical-align: top;\n",
       "    }\n",
       "\n",
       "    .dataframe thead th {\n",
       "        text-align: right;\n",
       "    }\n",
       "</style>\n",
       "<table border=\"1\" class=\"dataframe\">\n",
       "  <thead>\n",
       "    <tr style=\"text-align: right;\">\n",
       "      <th></th>\n",
       "      <th>ListingKey</th>\n",
       "      <th>ListingNumber</th>\n",
       "      <th>ListingCreationDate</th>\n",
       "      <th>CreditGrade</th>\n",
       "      <th>Term</th>\n",
       "      <th>LoanStatus</th>\n",
       "      <th>ClosedDate</th>\n",
       "      <th>BorrowerAPR</th>\n",
       "      <th>BorrowerRate</th>\n",
       "      <th>LenderYield</th>\n",
       "      <th>...</th>\n",
       "      <th>LP_ServiceFees</th>\n",
       "      <th>LP_CollectionFees</th>\n",
       "      <th>LP_GrossPrincipalLoss</th>\n",
       "      <th>LP_NetPrincipalLoss</th>\n",
       "      <th>LP_NonPrincipalRecoverypayments</th>\n",
       "      <th>PercentFunded</th>\n",
       "      <th>Recommendations</th>\n",
       "      <th>InvestmentFromFriendsCount</th>\n",
       "      <th>InvestmentFromFriendsAmount</th>\n",
       "      <th>Investors</th>\n",
       "    </tr>\n",
       "  </thead>\n",
       "  <tbody>\n",
       "    <tr>\n",
       "      <th>0</th>\n",
       "      <td>1021339766868145413AB3B</td>\n",
       "      <td>193129</td>\n",
       "      <td>2007-08-26 19:09:29.263000000</td>\n",
       "      <td>C</td>\n",
       "      <td>36</td>\n",
       "      <td>Completed</td>\n",
       "      <td>2009-08-14 00:00:00</td>\n",
       "      <td>0.16516</td>\n",
       "      <td>0.1580</td>\n",
       "      <td>0.1380</td>\n",
       "      <td>...</td>\n",
       "      <td>-133.18</td>\n",
       "      <td>0.0</td>\n",
       "      <td>0.0</td>\n",
       "      <td>0.0</td>\n",
       "      <td>0.0</td>\n",
       "      <td>1.0</td>\n",
       "      <td>0</td>\n",
       "      <td>0</td>\n",
       "      <td>0.0</td>\n",
       "      <td>258</td>\n",
       "    </tr>\n",
       "    <tr>\n",
       "      <th>1</th>\n",
       "      <td>10273602499503308B223C1</td>\n",
       "      <td>1209647</td>\n",
       "      <td>2014-02-27 08:28:07.900000000</td>\n",
       "      <td>NaN</td>\n",
       "      <td>36</td>\n",
       "      <td>Current</td>\n",
       "      <td>NaN</td>\n",
       "      <td>0.12016</td>\n",
       "      <td>0.0920</td>\n",
       "      <td>0.0820</td>\n",
       "      <td>...</td>\n",
       "      <td>0.00</td>\n",
       "      <td>0.0</td>\n",
       "      <td>0.0</td>\n",
       "      <td>0.0</td>\n",
       "      <td>0.0</td>\n",
       "      <td>1.0</td>\n",
       "      <td>0</td>\n",
       "      <td>0</td>\n",
       "      <td>0.0</td>\n",
       "      <td>1</td>\n",
       "    </tr>\n",
       "    <tr>\n",
       "      <th>2</th>\n",
       "      <td>0EE9337825851032864889A</td>\n",
       "      <td>81716</td>\n",
       "      <td>2007-01-05 15:00:47.090000000</td>\n",
       "      <td>HR</td>\n",
       "      <td>36</td>\n",
       "      <td>Completed</td>\n",
       "      <td>2009-12-17 00:00:00</td>\n",
       "      <td>0.28269</td>\n",
       "      <td>0.2750</td>\n",
       "      <td>0.2400</td>\n",
       "      <td>...</td>\n",
       "      <td>-24.20</td>\n",
       "      <td>0.0</td>\n",
       "      <td>0.0</td>\n",
       "      <td>0.0</td>\n",
       "      <td>0.0</td>\n",
       "      <td>1.0</td>\n",
       "      <td>0</td>\n",
       "      <td>0</td>\n",
       "      <td>0.0</td>\n",
       "      <td>41</td>\n",
       "    </tr>\n",
       "    <tr>\n",
       "      <th>3</th>\n",
       "      <td>0EF5356002482715299901A</td>\n",
       "      <td>658116</td>\n",
       "      <td>2012-10-22 11:02:35.010000000</td>\n",
       "      <td>NaN</td>\n",
       "      <td>36</td>\n",
       "      <td>Current</td>\n",
       "      <td>NaN</td>\n",
       "      <td>0.12528</td>\n",
       "      <td>0.0974</td>\n",
       "      <td>0.0874</td>\n",
       "      <td>...</td>\n",
       "      <td>-108.01</td>\n",
       "      <td>0.0</td>\n",
       "      <td>0.0</td>\n",
       "      <td>0.0</td>\n",
       "      <td>0.0</td>\n",
       "      <td>1.0</td>\n",
       "      <td>0</td>\n",
       "      <td>0</td>\n",
       "      <td>0.0</td>\n",
       "      <td>158</td>\n",
       "    </tr>\n",
       "    <tr>\n",
       "      <th>4</th>\n",
       "      <td>0F023589499656230C5E3E2</td>\n",
       "      <td>909464</td>\n",
       "      <td>2013-09-14 18:38:39.097000000</td>\n",
       "      <td>NaN</td>\n",
       "      <td>36</td>\n",
       "      <td>Current</td>\n",
       "      <td>NaN</td>\n",
       "      <td>0.24614</td>\n",
       "      <td>0.2085</td>\n",
       "      <td>0.1985</td>\n",
       "      <td>...</td>\n",
       "      <td>-60.27</td>\n",
       "      <td>0.0</td>\n",
       "      <td>0.0</td>\n",
       "      <td>0.0</td>\n",
       "      <td>0.0</td>\n",
       "      <td>1.0</td>\n",
       "      <td>0</td>\n",
       "      <td>0</td>\n",
       "      <td>0.0</td>\n",
       "      <td>20</td>\n",
       "    </tr>\n",
       "  </tbody>\n",
       "</table>\n",
       "<p>5 rows × 81 columns</p>\n",
       "</div>"
      ],
      "text/plain": [
       "                ListingKey  ListingNumber            ListingCreationDate  \\\n",
       "0  1021339766868145413AB3B         193129  2007-08-26 19:09:29.263000000   \n",
       "1  10273602499503308B223C1        1209647  2014-02-27 08:28:07.900000000   \n",
       "2  0EE9337825851032864889A          81716  2007-01-05 15:00:47.090000000   \n",
       "3  0EF5356002482715299901A         658116  2012-10-22 11:02:35.010000000   \n",
       "4  0F023589499656230C5E3E2         909464  2013-09-14 18:38:39.097000000   \n",
       "\n",
       "  CreditGrade  Term LoanStatus           ClosedDate  BorrowerAPR  \\\n",
       "0           C    36  Completed  2009-08-14 00:00:00      0.16516   \n",
       "1         NaN    36    Current                  NaN      0.12016   \n",
       "2          HR    36  Completed  2009-12-17 00:00:00      0.28269   \n",
       "3         NaN    36    Current                  NaN      0.12528   \n",
       "4         NaN    36    Current                  NaN      0.24614   \n",
       "\n",
       "   BorrowerRate  LenderYield  ...  LP_ServiceFees  LP_CollectionFees  \\\n",
       "0        0.1580       0.1380  ...         -133.18                0.0   \n",
       "1        0.0920       0.0820  ...            0.00                0.0   \n",
       "2        0.2750       0.2400  ...          -24.20                0.0   \n",
       "3        0.0974       0.0874  ...         -108.01                0.0   \n",
       "4        0.2085       0.1985  ...          -60.27                0.0   \n",
       "\n",
       "   LP_GrossPrincipalLoss  LP_NetPrincipalLoss LP_NonPrincipalRecoverypayments  \\\n",
       "0                    0.0                  0.0                             0.0   \n",
       "1                    0.0                  0.0                             0.0   \n",
       "2                    0.0                  0.0                             0.0   \n",
       "3                    0.0                  0.0                             0.0   \n",
       "4                    0.0                  0.0                             0.0   \n",
       "\n",
       "   PercentFunded  Recommendations InvestmentFromFriendsCount  \\\n",
       "0            1.0                0                          0   \n",
       "1            1.0                0                          0   \n",
       "2            1.0                0                          0   \n",
       "3            1.0                0                          0   \n",
       "4            1.0                0                          0   \n",
       "\n",
       "  InvestmentFromFriendsAmount Investors  \n",
       "0                         0.0       258  \n",
       "1                         0.0         1  \n",
       "2                         0.0        41  \n",
       "3                         0.0       158  \n",
       "4                         0.0        20  \n",
       "\n",
       "[5 rows x 81 columns]"
      ]
     },
     "execution_count": 5,
     "metadata": {},
     "output_type": "execute_result"
    }
   ],
   "source": [
    "df.head()"
   ]
  },
  {
   "cell_type": "code",
   "execution_count": 9,
   "id": "aacd5756-cb63-468b-b556-00cf72590f9f",
   "metadata": {},
   "outputs": [
    {
     "name": "stdout",
     "output_type": "stream",
     "text": [
      "<class 'pandas.core.frame.DataFrame'>\n",
      "RangeIndex: 113937 entries, 0 to 113936\n",
      "Data columns (total 81 columns):\n",
      " #   Column                               Non-Null Count   Dtype  \n",
      "---  ------                               --------------   -----  \n",
      " 0   ListingKey                           113937 non-null  object \n",
      " 1   ListingNumber                        113937 non-null  int64  \n",
      " 2   ListingCreationDate                  113937 non-null  object \n",
      " 3   CreditGrade                          28953 non-null   object \n",
      " 4   Term                                 113937 non-null  int64  \n",
      " 5   LoanStatus                           113937 non-null  object \n",
      " 6   ClosedDate                           55089 non-null   object \n",
      " 7   BorrowerAPR                          113912 non-null  float64\n",
      " 8   BorrowerRate                         113937 non-null  float64\n",
      " 9   LenderYield                          113937 non-null  float64\n",
      " 10  EstimatedEffectiveYield              84853 non-null   float64\n",
      " 11  EstimatedLoss                        84853 non-null   float64\n",
      " 12  EstimatedReturn                      84853 non-null   float64\n",
      " 13  ProsperRating (numeric)              84853 non-null   float64\n",
      " 14  ProsperRating (Alpha)                84853 non-null   object \n",
      " 15  ProsperScore                         84853 non-null   float64\n",
      " 16  ListingCategory (numeric)            113937 non-null  int64  \n",
      " 17  BorrowerState                        108422 non-null  object \n",
      " 18  Occupation                           110349 non-null  object \n",
      " 19  EmploymentStatus                     111682 non-null  object \n",
      " 20  EmploymentStatusDuration             106312 non-null  float64\n",
      " 21  IsBorrowerHomeowner                  113937 non-null  bool   \n",
      " 22  CurrentlyInGroup                     113937 non-null  bool   \n",
      " 23  GroupKey                             13341 non-null   object \n",
      " 24  DateCreditPulled                     113937 non-null  object \n",
      " 25  CreditScoreRangeLower                113346 non-null  float64\n",
      " 26  CreditScoreRangeUpper                113346 non-null  float64\n",
      " 27  FirstRecordedCreditLine              113240 non-null  object \n",
      " 28  CurrentCreditLines                   106333 non-null  float64\n",
      " 29  OpenCreditLines                      106333 non-null  float64\n",
      " 30  TotalCreditLinespast7years           113240 non-null  float64\n",
      " 31  OpenRevolvingAccounts                113937 non-null  int64  \n",
      " 32  OpenRevolvingMonthlyPayment          113937 non-null  float64\n",
      " 33  InquiriesLast6Months                 113240 non-null  float64\n",
      " 34  TotalInquiries                       112778 non-null  float64\n",
      " 35  CurrentDelinquencies                 113240 non-null  float64\n",
      " 36  AmountDelinquent                     106315 non-null  float64\n",
      " 37  DelinquenciesLast7Years              112947 non-null  float64\n",
      " 38  PublicRecordsLast10Years             113240 non-null  float64\n",
      " 39  PublicRecordsLast12Months            106333 non-null  float64\n",
      " 40  RevolvingCreditBalance               106333 non-null  float64\n",
      " 41  BankcardUtilization                  106333 non-null  float64\n",
      " 42  AvailableBankcardCredit              106393 non-null  float64\n",
      " 43  TotalTrades                          106393 non-null  float64\n",
      " 44  TradesNeverDelinquent (percentage)   106393 non-null  float64\n",
      " 45  TradesOpenedLast6Months              106393 non-null  float64\n",
      " 46  DebtToIncomeRatio                    105383 non-null  float64\n",
      " 47  IncomeRange                          113937 non-null  object \n",
      " 48  IncomeVerifiable                     113937 non-null  bool   \n",
      " 49  StatedMonthlyIncome                  113937 non-null  float64\n",
      " 50  LoanKey                              113937 non-null  object \n",
      " 51  TotalProsperLoans                    22085 non-null   float64\n",
      " 52  TotalProsperPaymentsBilled           22085 non-null   float64\n",
      " 53  OnTimeProsperPayments                22085 non-null   float64\n",
      " 54  ProsperPaymentsLessThanOneMonthLate  22085 non-null   float64\n",
      " 55  ProsperPaymentsOneMonthPlusLate      22085 non-null   float64\n",
      " 56  ProsperPrincipalBorrowed             22085 non-null   float64\n",
      " 57  ProsperPrincipalOutstanding          22085 non-null   float64\n",
      " 58  ScorexChangeAtTimeOfListing          18928 non-null   float64\n",
      " 59  LoanCurrentDaysDelinquent            113937 non-null  int64  \n",
      " 60  LoanFirstDefaultedCycleNumber        16952 non-null   float64\n",
      " 61  LoanMonthsSinceOrigination           113937 non-null  int64  \n",
      " 62  LoanNumber                           113937 non-null  int64  \n",
      " 63  LoanOriginalAmount                   113937 non-null  int64  \n",
      " 64  LoanOriginationDate                  113937 non-null  object \n",
      " 65  LoanOriginationQuarter               113937 non-null  object \n",
      " 66  MemberKey                            113937 non-null  object \n",
      " 67  MonthlyLoanPayment                   113937 non-null  float64\n",
      " 68  LP_CustomerPayments                  113937 non-null  float64\n",
      " 69  LP_CustomerPrincipalPayments         113937 non-null  float64\n",
      " 70  LP_InterestandFees                   113937 non-null  float64\n",
      " 71  LP_ServiceFees                       113937 non-null  float64\n",
      " 72  LP_CollectionFees                    113937 non-null  float64\n",
      " 73  LP_GrossPrincipalLoss                113937 non-null  float64\n",
      " 74  LP_NetPrincipalLoss                  113937 non-null  float64\n",
      " 75  LP_NonPrincipalRecoverypayments      113937 non-null  float64\n",
      " 76  PercentFunded                        113937 non-null  float64\n",
      " 77  Recommendations                      113937 non-null  int64  \n",
      " 78  InvestmentFromFriendsCount           113937 non-null  int64  \n",
      " 79  InvestmentFromFriendsAmount          113937 non-null  float64\n",
      " 80  Investors                            113937 non-null  int64  \n",
      "dtypes: bool(3), float64(50), int64(11), object(17)\n",
      "memory usage: 68.1+ MB\n"
     ]
    }
   ],
   "source": [
    "df.info()"
   ]
  },
  {
   "cell_type": "code",
   "execution_count": 21,
   "id": "292641c5-b539-4bdf-b1fd-9563fdd84daa",
   "metadata": {},
   "outputs": [
    {
     "data": {
      "text/plain": [
       "GroupKey                               100596\n",
       "LoanFirstDefaultedCycleNumber           96985\n",
       "ScorexChangeAtTimeOfListing             95009\n",
       "ProsperPrincipalOutstanding             91852\n",
       "ProsperPrincipalBorrowed                91852\n",
       "ProsperPaymentsOneMonthPlusLate         91852\n",
       "ProsperPaymentsLessThanOneMonthLate     91852\n",
       "OnTimeProsperPayments                   91852\n",
       "TotalProsperLoans                       91852\n",
       "TotalProsperPaymentsBilled              91852\n",
       "CreditGrade                             84984\n",
       "ClosedDate                              58848\n",
       "ProsperRating (Alpha)                   29084\n",
       "ProsperScore                            29084\n",
       "EstimatedReturn                         29084\n",
       "ProsperRating (numeric)                 29084\n",
       "EstimatedLoss                           29084\n",
       "EstimatedEffectiveYield                 29084\n",
       "DebtToIncomeRatio                        8554\n",
       "EmploymentStatusDuration                 7625\n",
       "AmountDelinquent                         7622\n",
       "CurrentCreditLines                       7604\n",
       "BankcardUtilization                      7604\n",
       "PublicRecordsLast12Months                7604\n",
       "OpenCreditLines                          7604\n",
       "RevolvingCreditBalance                   7604\n",
       "TotalTrades                              7544\n",
       "TradesOpenedLast6Months                  7544\n",
       "TradesNeverDelinquent (percentage)       7544\n",
       "AvailableBankcardCredit                  7544\n",
       "BorrowerState                            5515\n",
       "Occupation                               3588\n",
       "EmploymentStatus                         2255\n",
       "TotalInquiries                           1159\n",
       "DelinquenciesLast7Years                   990\n",
       "FirstRecordedCreditLine                   697\n",
       "PublicRecordsLast10Years                  697\n",
       "TotalCreditLinespast7years                697\n",
       "CurrentDelinquencies                      697\n",
       "InquiriesLast6Months                      697\n",
       "CreditScoreRangeUpper                     591\n",
       "CreditScoreRangeLower                     591\n",
       "BorrowerAPR                                25\n",
       "dtype: int64"
      ]
     },
     "execution_count": 21,
     "metadata": {},
     "output_type": "execute_result"
    }
   ],
   "source": [
    "missing = df.isna().sum().sort_values(ascending=False)\n",
    "missing[missing > 0]"
   ]
  },
  {
   "cell_type": "code",
   "execution_count": 29,
   "id": "4fab9e87-b00b-443a-9405-b02b3dc16516",
   "metadata": {},
   "outputs": [],
   "source": [
    "missing_percent = df.isna().sum()/len(df)"
   ]
  },
  {
   "cell_type": "code",
   "execution_count": 39,
   "id": "a94e87da-a169-427f-a098-ba41a39befa7",
   "metadata": {},
   "outputs": [],
   "source": [
    "list_to_drop = missing_percent[missing_percent > 0.5].sort_values(ascending=False).index"
   ]
  },
  {
   "cell_type": "code",
   "execution_count": 40,
   "id": "fbf2c38b-3743-4a6c-bad5-acbb06848e88",
   "metadata": {},
   "outputs": [
    {
     "data": {
      "text/plain": [
       "Index(['GroupKey', 'LoanFirstDefaultedCycleNumber',\n",
       "       'ScorexChangeAtTimeOfListing', 'TotalProsperLoans',\n",
       "       'TotalProsperPaymentsBilled', 'OnTimeProsperPayments',\n",
       "       'ProsperPaymentsLessThanOneMonthLate',\n",
       "       'ProsperPaymentsOneMonthPlusLate', 'ProsperPrincipalBorrowed',\n",
       "       'ProsperPrincipalOutstanding', 'CreditGrade', 'ClosedDate'],\n",
       "      dtype='object')"
      ]
     },
     "execution_count": 40,
     "metadata": {},
     "output_type": "execute_result"
    }
   ],
   "source": [
    "list_to_drop"
   ]
  },
  {
   "cell_type": "code",
   "execution_count": 42,
   "id": "ce9e368a-3423-43db-9e04-2b7c1419bd41",
   "metadata": {},
   "outputs": [],
   "source": [
    "df.drop(list_to_drop,axis=1,inplace=True)"
   ]
  },
  {
   "cell_type": "code",
   "execution_count": 47,
   "id": "d135617e-33cb-49cf-8ecf-d02af89e5aea",
   "metadata": {},
   "outputs": [
    {
     "data": {
      "text/plain": [
       "EstimatedLoss                         0.255264\n",
       "EstimatedReturn                       0.255264\n",
       "ProsperRating (numeric)               0.255264\n",
       "ProsperRating (Alpha)                 0.255264\n",
       "ProsperScore                          0.255264\n",
       "EstimatedEffectiveYield               0.255264\n",
       "DebtToIncomeRatio                     0.075077\n",
       "EmploymentStatusDuration              0.066923\n",
       "AmountDelinquent                      0.066897\n",
       "CurrentCreditLines                    0.066739\n",
       "BankcardUtilization                   0.066739\n",
       "RevolvingCreditBalance                0.066739\n",
       "PublicRecordsLast12Months             0.066739\n",
       "OpenCreditLines                       0.066739\n",
       "TradesOpenedLast6Months               0.066212\n",
       "TradesNeverDelinquent (percentage)    0.066212\n",
       "TotalTrades                           0.066212\n",
       "AvailableBankcardCredit               0.066212\n",
       "BorrowerState                         0.048404\n",
       "Occupation                            0.031491\n",
       "EmploymentStatus                      0.019792\n",
       "TotalInquiries                        0.010172\n",
       "DelinquenciesLast7Years               0.008689\n",
       "FirstRecordedCreditLine               0.006117\n",
       "PublicRecordsLast10Years              0.006117\n",
       "CurrentDelinquencies                  0.006117\n",
       "InquiriesLast6Months                  0.006117\n",
       "TotalCreditLinespast7years            0.006117\n",
       "CreditScoreRangeUpper                 0.005187\n",
       "CreditScoreRangeLower                 0.005187\n",
       "BorrowerAPR                           0.000219\n",
       "dtype: float64"
      ]
     },
     "execution_count": 47,
     "metadata": {},
     "output_type": "execute_result"
    }
   ],
   "source": [
    "missing_check = df.isna().sum()/len(df)\n",
    "missing_check[missing_check > 0].sort_values(ascending=False)"
   ]
  },
  {
   "cell_type": "code",
   "execution_count": 53,
   "id": "888e59e7-10b4-4ad6-9f26-77ac4a334062",
   "metadata": {},
   "outputs": [],
   "source": [
    "missings = df.isna().sum().sort_values(ascending=False)\n",
    "list_of_rows_to_drop = missing[(missing > 0) & (missing < 1200)].index"
   ]
  },
  {
   "cell_type": "code",
   "execution_count": 58,
   "id": "f5ffc6c9-51ce-460e-9795-95b4e95f0724",
   "metadata": {},
   "outputs": [
    {
     "data": {
      "text/plain": [
       "Index(['TotalInquiries', 'DelinquenciesLast7Years', 'FirstRecordedCreditLine',\n",
       "       'PublicRecordsLast10Years', 'TotalCreditLinespast7years',\n",
       "       'CurrentDelinquencies', 'InquiriesLast6Months', 'CreditScoreRangeUpper',\n",
       "       'CreditScoreRangeLower', 'BorrowerAPR'],\n",
       "      dtype='object')"
      ]
     },
     "execution_count": 58,
     "metadata": {},
     "output_type": "execute_result"
    }
   ],
   "source": [
    "list_of_rows_to_drop"
   ]
  },
  {
   "cell_type": "code",
   "execution_count": 59,
   "id": "336e4f81-a9df-4a69-b3c7-6a79270e8631",
   "metadata": {},
   "outputs": [],
   "source": [
    "df.dropna(subset=list_of_rows_to_drop,inplace=True\n",
    "         )"
   ]
  },
  {
   "cell_type": "code",
   "execution_count": 62,
   "id": "db2ec2d8-eedf-4cc6-9034-2de84429a5c3",
   "metadata": {},
   "outputs": [
    {
     "data": {
      "text/plain": [
       "EstimatedEffectiveYield               0.246949\n",
       "EstimatedLoss                         0.246949\n",
       "EstimatedReturn                       0.246949\n",
       "ProsperRating (numeric)               0.246949\n",
       "ProsperRating (Alpha)                 0.246949\n",
       "ProsperScore                          0.246949\n",
       "DebtToIncomeRatio                     0.074903\n",
       "EmploymentStatusDuration              0.056683\n",
       "OpenCreditLines                       0.056497\n",
       "PublicRecordsLast12Months             0.056497\n",
       "RevolvingCreditBalance                0.056497\n",
       "BankcardUtilization                   0.056497\n",
       "CurrentCreditLines                    0.056497\n",
       "AmountDelinquent                      0.056479\n",
       "AvailableBankcardCredit               0.055982\n",
       "TotalTrades                           0.055982\n",
       "TradesNeverDelinquent (percentage)    0.055982\n",
       "TradesOpenedLast6Months               0.055982\n",
       "BorrowerState                         0.041055\n",
       "Occupation                            0.021468\n",
       "EmploymentStatus                      0.009638\n",
       "dtype: float64"
      ]
     },
     "execution_count": 62,
     "metadata": {},
     "output_type": "execute_result"
    }
   ],
   "source": [
    "missing_check = df.isna().sum()/len(df)\n",
    "missing_check[missing_check > 0].sort_values(ascending=False)"
   ]
  },
  {
   "cell_type": "code",
   "execution_count": 72,
   "id": "ad5d5b3e-31b1-427a-9ac6-ef99390de0e5",
   "metadata": {},
   "outputs": [
    {
     "data": {
      "text/plain": [
       "ProsperScore                          27826\n",
       "EstimatedEffectiveYield               27826\n",
       "ProsperRating (Alpha)                 27826\n",
       "ProsperRating (numeric)               27826\n",
       "EstimatedReturn                       27826\n",
       "EstimatedLoss                         27826\n",
       "DebtToIncomeRatio                      8440\n",
       "EmploymentStatusDuration               6387\n",
       "RevolvingCreditBalance                 6366\n",
       "PublicRecordsLast12Months              6366\n",
       "CurrentCreditLines                     6366\n",
       "BankcardUtilization                    6366\n",
       "OpenCreditLines                        6366\n",
       "AmountDelinquent                       6364\n",
       "TradesOpenedLast6Months                6308\n",
       "TradesNeverDelinquent (percentage)     6308\n",
       "TotalTrades                            6308\n",
       "AvailableBankcardCredit                6308\n",
       "BorrowerState                          4626\n",
       "Occupation                             2419\n",
       "dtype: int64"
      ]
     },
     "execution_count": 72,
     "metadata": {},
     "output_type": "execute_result"
    }
   ],
   "source": [
    "missing = df.isna().sum().sort_values(ascending=False)\n",
    "missing[missing > 0]"
   ]
  },
  {
   "cell_type": "code",
   "execution_count": 71,
   "id": "de9d008a-2baf-4d95-8f69-db3cee44d14c",
   "metadata": {},
   "outputs": [
    {
     "name": "stderr",
     "output_type": "stream",
     "text": [
      "C:\\Users\\antek\\AppData\\Local\\Temp\\ipykernel_14088\\1058264498.py:2: FutureWarning: A value is trying to be set on a copy of a DataFrame or Series through chained assignment using an inplace method.\n",
      "The behavior will change in pandas 3.0. This inplace method will never work because the intermediate object on which we are setting values always behaves as a copy.\n",
      "\n",
      "For example, when doing 'df[col].method(value, inplace=True)', try using 'df.method({col: value}, inplace=True)' or df[col] = df[col].method(value) instead, to perform the operation inplace on the original object.\n",
      "\n",
      "\n",
      "  df[\"EmploymentStatus\"].fillna(\"Not available\",inplace=True)\n"
     ]
    },
    {
     "data": {
      "text/plain": [
       "EmploymentStatus\n",
       "Employed         67322\n",
       "Full-time        26343\n",
       "Not available     6364\n",
       "Self-employed     6132\n",
       "Other             3806\n",
       "Part-time         1084\n",
       "Not employed       833\n",
       "Retired            795\n",
       "Name: count, dtype: int64"
      ]
     },
     "execution_count": 71,
     "metadata": {},
     "output_type": "execute_result"
    }
   ],
   "source": [
    "df[\"EmploymentStatus\"].value_counts()\n",
    "df[\"EmploymentStatus\"].fillna(\"Not available\",inplace=True)\n",
    "df[\"EmploymentStatus\"].value_counts()\n"
   ]
  },
  {
   "cell_type": "code",
   "execution_count": 67,
   "id": "fa038dca-c6fa-4afa-a3c6-289286702c55",
   "metadata": {},
   "outputs": [
    {
     "data": {
      "text/plain": [
       "Occupation\n",
       "Other                          28594\n",
       "Professional                   13628\n",
       "Computer Programmer             4475\n",
       "Executive                       4310\n",
       "Teacher                         3757\n",
       "                               ...  \n",
       "Dentist                           68\n",
       "Student - College Freshman        41\n",
       "Student - Community College       28\n",
       "Judge                             22\n",
       "Student - Technical School        15\n",
       "Name: count, Length: 67, dtype: int64"
      ]
     },
     "execution_count": 67,
     "metadata": {},
     "output_type": "execute_result"
    }
   ],
   "source": [
    "\n",
    "df['Occupation'].value_counts()\n",
    "# do rozkminia"
   ]
  },
  {
   "cell_type": "code",
   "execution_count": 74,
   "id": "4e3a6ae8-b5ad-4083-b60d-c6b3e9890742",
   "metadata": {},
   "outputs": [
    {
     "data": {
      "text/plain": [
       "11212.12964999859"
      ]
     },
     "execution_count": 74,
     "metadata": {},
     "output_type": "execute_result"
    }
   ],
   "source": [
    "df[\"AvailableBankcardCredit\"].mean()"
   ]
  },
  {
   "cell_type": "code",
   "execution_count": 77,
   "id": "21b91231-9fd4-49df-9383-92e9b91a69ef",
   "metadata": {},
   "outputs": [
    {
     "data": {
      "text/plain": [
       "<Axes: >"
      ]
     },
     "execution_count": 77,
     "metadata": {},
     "output_type": "execute_result"
    },
    {
     "data": {
      "image/png": "[encoded data removed]",
      "text/plain": [
       "<Figure size 640x480 with 1 Axes>"
      ]
     },
     "metadata": {},
     "output_type": "display_data"
    }
   ],
   "source": [
    "df[\"AvailableBankcardCredit\"].hist(bins=50)"
   ]
  },
  {
   "cell_type": "code",
   "execution_count": 80,
   "id": "680b20c5-fcea-4dea-9bc9-f28a2bdf6a56",
   "metadata": {},
   "outputs": [
    {
     "data": {
      "text/plain": [
       "31        0.0\n",
       "97        0.0\n",
       "111       0.0\n",
       "113       0.0\n",
       "127       0.0\n",
       "         ... \n",
       "113835    0.0\n",
       "113839    0.0\n",
       "113843    0.0\n",
       "113846    0.0\n",
       "113859    0.0\n",
       "Name: AvailableBankcardCredit, Length: 4876, dtype: float64"
      ]
     },
     "execution_count": 80,
     "metadata": {},
     "output_type": "execute_result"
    }
   ],
   "source": [
    "df[df['AvailableBankcardCredit'] == 0]['AvailableBankcardCredit']"
   ]
  },
  {
   "cell_type": "code",
   "execution_count": 81,
   "id": "988b6b6b-5550-4d2c-9b32-6325f2c0fa86",
   "metadata": {},
   "outputs": [
    {
     "data": {
      "text/plain": [
       "646285.0"
      ]
     },
     "execution_count": 81,
     "metadata": {},
     "output_type": "execute_result"
    }
   ],
   "source": [
    "df[\"AvailableBankcardCredit\"].max()"
   ]
  },
  {
   "cell_type": "code",
   "execution_count": 82,
   "id": "78f2f83f-0563-4f46-aeef-d4f76f936e19",
   "metadata": {},
   "outputs": [
    {
     "data": {
      "text/plain": [
       "750"
      ]
     },
     "execution_count": 82,
     "metadata": {},
     "output_type": "execute_result"
    }
   ],
   "source": [
    "df[df['AvailableBankcardCredit'] > 100000]['AvailableBankcardCredit'].count()\n",
    "# moze do usunieca"
   ]
  },
  {
   "cell_type": "code",
   "execution_count": 84,
   "id": "ef37cb5b-41f2-4eac-a790-9c7d7509bc11",
   "metadata": {},
   "outputs": [
    {
     "data": {
      "text/plain": [
       "TotalTrades\n",
       "17.0     3800\n",
       "20.0     3775\n",
       "18.0     3766\n",
       "19.0     3745\n",
       "16.0     3728\n",
       "         ... \n",
       "101.0       1\n",
       "114.0       1\n",
       "92.0        1\n",
       "98.0        1\n",
       "118.0       1\n",
       "Name: count, Length: 108, dtype: int64"
      ]
     },
     "execution_count": 84,
     "metadata": {},
     "output_type": "execute_result"
    }
   ],
   "source": [
    "df['TotalTrades'].value_counts()"
   ]
  },
  {
   "cell_type": "code",
   "execution_count": null,
   "id": "6c103d1f-57ff-4062-b24f-f71f65efa626",
   "metadata": {},
   "outputs": [],
   "source": []
  }
 ],
 "metadata": {
  "kernelspec": {
   "display_name": "Python 3 (ipykernel)",
   "language": "python",
   "name": "python3"
  },
  "language_info": {
   "codemirror_mode": {
    "name": "ipython",
    "version": 3
   },
   "file_extension": ".py",
   "mimetype": "text/x-python",
   "name": "python",
   "nbconvert_exporter": "python",
   "pygments_lexer": "ipython3",
   "version": "3.12.7"
  }
 },
 "nbformat": 4,
 "nbformat_minor": 5
}
