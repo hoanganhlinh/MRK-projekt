{
 "cells": [
  {
   "cell_type": "markdown",
   "id": "2e4ca73e",
   "metadata": {},
   "source": [
    "# Random Forest Model"
   ]
  },
  {
   "cell_type": "code",
   "id": "480ad18a",
   "metadata": {
    "ExecuteTime": {
     "end_time": "2025-05-17T09:13:47.954434Z",
     "start_time": "2025-05-17T09:13:47.940087Z"
    }
   },
   "source": [
    "\n",
    "import pandas as pd\n",
    "import numpy as np\n",
    "import matplotlib.pyplot as plt\n",
    "import seaborn as sns\n",
    "from imblearn.over_sampling import SMOTE\n",
    "from sklearn.ensemble import RandomForestClassifier\n",
    "from sklearn.model_selection import GridSearchCV\n",
    "from sklearn.metrics import (\n",
    "    classification_report,\n",
    "    confusion_matrix,\n",
    "    ConfusionMatrixDisplay,\n",
    "    roc_auc_score,\n",
    "    RocCurveDisplay,\n",
    "    f1_score,\n",
    "    roc_curve\n",
    ")\n",
    "import joblib\n",
    "import warnings\n",
    "warnings.filterwarnings('ignore')\n"
   ],
   "outputs": [],
   "execution_count": 6
  },
  {
   "cell_type": "code",
   "id": "ccf9d53a",
   "metadata": {
    "ExecuteTime": {
     "end_time": "2025-05-17T09:13:48.263539Z",
     "start_time": "2025-05-17T09:13:47.961598Z"
    }
   },
   "source": [
    "\n",
    "X_train = pd.read_csv(\"X_train_standard.csv\")\n",
    "X_test  = pd.read_csv(\"X_test_standard.csv\")\n",
    "y_train = pd.read_csv(\"y_train.csv\").squeeze()\n",
    "y_test  = pd.read_csv(\"y_test.csv\").squeeze()\n"
   ],
   "outputs": [],
   "execution_count": 7
  },
  {
   "cell_type": "code",
   "id": "19a29c82",
   "metadata": {
    "ExecuteTime": {
     "end_time": "2025-05-17T09:13:48.392978Z",
     "start_time": "2025-05-17T09:13:48.312305Z"
    }
   },
   "source": [
    "\n",
    "X_combined = pd.concat([X_train, X_test], axis=0)\n",
    "X_combined_dummies = pd.get_dummies(X_combined, drop_first=True)\n",
    "\n",
    "X_train_dummies = X_combined_dummies.iloc[:len(X_train), :]\n",
    "X_test_dummies = X_combined_dummies.iloc[len(X_train):, :]\n",
    "X_test_dummies = X_test_dummies.reindex(columns=X_train_dummies.columns, fill_value=0)\n"
   ],
   "outputs": [],
   "execution_count": 8
  },
  {
   "cell_type": "markdown",
   "id": "78908812",
   "metadata": {},
   "source": [
    "## Porównanie metod balansu klasy"
   ]
  },
  {
   "cell_type": "code",
   "id": "ace0fdf8",
   "metadata": {
    "ExecuteTime": {
     "end_time": "2025-05-17T09:14:19.715622Z",
     "start_time": "2025-05-17T09:13:48.435711Z"
    }
   },
   "source": [
    "\n",
    "smote = SMOTE(random_state=42)\n",
    "X_train_smote, y_train_smote = smote.fit_resample(X_train_dummies, y_train)\n",
    "\n",
    "rf_smote = RandomForestClassifier(n_estimators=200, max_depth=6, random_state=42, class_weight=\"balanced\")\n",
    "rf_smote.fit(X_train_smote, y_train_smote)\n",
    "y_pred_rf_smote = rf_smote.predict(X_test_dummies)\n",
    "y_prob_rf_smote = rf_smote.predict_proba(X_test_dummies)[:, 1]\n",
    "\n",
    "print(\"=== Random Forest z SMOTE ===\")\n",
    "print(classification_report(y_test, y_pred_rf_smote))\n",
    "print(\"AUC:\", roc_auc_score(y_test, y_prob_rf_smote).round(4))\n"
   ],
   "outputs": [
    {
     "name": "stdout",
     "output_type": "stream",
     "text": [
      "=== Random Forest z SMOTE ===\n",
      "              precision    recall  f1-score   support\n",
      "\n",
      "           0       0.92      0.83      0.87     19553\n",
      "           1       0.38      0.61      0.47      3408\n",
      "\n",
      "    accuracy                           0.79     22961\n",
      "   macro avg       0.65      0.72      0.67     22961\n",
      "weighted avg       0.84      0.79      0.81     22961\n",
      "\n",
      "AUC: 0.821\n"
     ]
    }
   ],
   "execution_count": 9
  },
  {
   "cell_type": "code",
   "id": "7d06564a",
   "metadata": {
    "ExecuteTime": {
     "end_time": "2025-05-17T09:14:32.494686Z",
     "start_time": "2025-05-17T09:14:19.766720Z"
    }
   },
   "source": [
    "\n",
    "rf_weight = RandomForestClassifier(n_estimators=200, max_depth=6, random_state=42, class_weight=\"balanced\")\n",
    "rf_weight.fit(X_train_dummies, y_train)\n",
    "y_pred_rf_weight = rf_weight.predict(X_test_dummies)\n",
    "y_prob_rf_weight = rf_weight.predict_proba(X_test_dummies)[:, 1]\n",
    "\n",
    "print(\"=== Random Forest tylko z class_weight ===\")\n",
    "print(classification_report(y_test, y_pred_rf_weight))\n",
    "print(\"AUC:\", roc_auc_score(y_test, y_prob_rf_weight).round(4))\n"
   ],
   "outputs": [
    {
     "name": "stdout",
     "output_type": "stream",
     "text": [
      "=== Random Forest tylko z class_weight ===\n",
      "              precision    recall  f1-score   support\n",
      "\n",
      "           0       0.95      0.73      0.82     19553\n",
      "           1       0.33      0.77      0.46      3408\n",
      "\n",
      "    accuracy                           0.73     22961\n",
      "   macro avg       0.64      0.75      0.64     22961\n",
      "weighted avg       0.86      0.73      0.77     22961\n",
      "\n",
      "AUC: 0.832\n"
     ]
    }
   ],
   "execution_count": 10
  },
  {
   "cell_type": "markdown",
   "id": "820b91b0",
   "metadata": {},
   "source": [
    "## Grid Search"
   ]
  },
  {
   "cell_type": "code",
   "id": "68776af3",
   "metadata": {
    "ExecuteTime": {
     "end_time": "2025-05-17T09:49:03.126963Z",
     "start_time": "2025-05-17T09:14:32.536281Z"
    }
   },
   "source": [
    "from sklearn.model_selection import GridSearchCV, StratifiedKFold\n",
    "from sklearn.ensemble import RandomForestClassifier\n",
    "\n",
    "param_grid = {\n",
    "    'n_estimators': [100, 300, 500],\n",
    "    'max_depth': [4, 6],\n",
    "    'min_samples_split': [2, 5],\n",
    "    'min_samples_leaf': [1, 3],\n",
    "    'max_features': ['sqrt', 'log2'],\n",
    "    'bootstrap': [True],\n",
    "    'criterion': ['gini', 'entropy'],\n",
    "    'ccp_alpha': [0.0, 0.001],\n",
    "    'max_leaf_nodes': [None, 30]\n",
    "}\n",
    "\n",
    "cv = StratifiedKFold(n_splits=3, shuffle=True, random_state=42)\n",
    "\n",
    "grid = GridSearchCV(\n",
    "    estimator=RandomForestClassifier(class_weight='balanced', random_state=42),\n",
    "    param_grid=param_grid,\n",
    "    scoring='roc_auc',\n",
    "    cv=cv,\n",
    "    n_jobs=-1,\n",
    "    verbose=2\n",
    ")\n",
    "\n",
    "grid.fit(X_train_dummies, y_train)\n",
    "print(\"Best params:\", grid.best_params_)\n",
    "print(\"Best AUC:\", grid.best_score_)\n"
   ],
   "outputs": [
    {
     "name": "stdout",
     "output_type": "stream",
     "text": [
      "Fitting 3 folds for each of 384 candidates, totalling 1152 fits\n",
      "Best params: {'bootstrap': True, 'ccp_alpha': 0.0, 'criterion': 'gini', 'max_depth': 6, 'max_features': 'sqrt', 'max_leaf_nodes': None, 'min_samples_leaf': 1, 'min_samples_split': 2, 'n_estimators': 500}\n",
      "Best AUC: 0.8423823689499869\n"
     ]
    }
   ],
   "execution_count": 11
  },
  {
   "cell_type": "code",
   "id": "d4da4205",
   "metadata": {
    "ExecuteTime": {
     "end_time": "2025-05-17T09:49:04.204075Z",
     "start_time": "2025-05-17T09:49:03.231051Z"
    }
   },
   "source": [
    "\n",
    "rf_model = grid.best_estimator_\n",
    "y_prob_rf = rf_model.predict_proba(X_test_dummies)[:, 1]\n",
    "y_pred_rf = rf_model.predict(X_test_dummies)\n",
    "\n",
    "print(\"=== Random Forest – model końcowy ===\")\n",
    "print(classification_report(y_test, y_pred_rf))\n",
    "print(\"AUC:\", roc_auc_score(y_test, y_prob_rf))\n"
   ],
   "outputs": [
    {
     "name": "stdout",
     "output_type": "stream",
     "text": [
      "=== Random Forest – model końcowy ===\n",
      "              precision    recall  f1-score   support\n",
      "\n",
      "           0       0.95      0.72      0.82     19553\n",
      "           1       0.33      0.77      0.46      3408\n",
      "\n",
      "    accuracy                           0.73     22961\n",
      "   macro avg       0.64      0.75      0.64     22961\n",
      "weighted avg       0.86      0.73      0.77     22961\n",
      "\n",
      "AUC: 0.8322575735529458\n"
     ]
    }
   ],
   "execution_count": 12
  },
  {
   "cell_type": "code",
   "id": "beecec4b",
   "metadata": {
    "ExecuteTime": {
     "end_time": "2025-05-17T09:49:04.222400Z",
     "start_time": "2025-05-17T09:49:04.212328Z"
    }
   },
   "source": [
    "\n",
    "gini = 2 * roc_auc_score(y_test, y_prob_rf) - 1\n",
    "print(f\"Gini: {gini:.4f}\")\n"
   ],
   "outputs": [
    {
     "name": "stdout",
     "output_type": "stream",
     "text": [
      "Gini: 0.6645\n"
     ]
    }
   ],
   "execution_count": 13
  },
  {
   "cell_type": "markdown",
   "id": "7916db85",
   "metadata": {},
   "source": [
    "## Kalibracja progu decyzyjnego"
   ]
  },
  {
   "cell_type": "code",
   "id": "77334ee3",
   "metadata": {
    "ExecuteTime": {
     "end_time": "2025-05-17T09:49:04.337253Z",
     "start_time": "2025-05-17T09:49:04.269690Z"
    }
   },
   "source": [
    "\n",
    "thresholds = np.arange(0.1, 0.9, 0.05)\n",
    "for t in thresholds:\n",
    "    y_pred_t = (y_prob_rf >= t).astype(int)\n",
    "    tn, fp, fn, tp = confusion_matrix(y_test, y_pred_t).ravel()\n",
    "    tpr = tp / (tp + fn)\n",
    "    fpr = fp / (fp + tn)\n",
    "    f1 = f1_score(y_test, y_pred_t)\n",
    "    print(f\"Threshold={t:.2f} → F1={f1:.3f}, TPR={tpr:.3f}, FPR={fpr:.3f}\")\n"
   ],
   "outputs": [
    {
     "name": "stdout",
     "output_type": "stream",
     "text": [
      "Threshold=0.10 → F1=0.262, TPR=1.000, FPR=0.984\n",
      "Threshold=0.15 → F1=0.289, TPR=0.998, FPR=0.857\n",
      "Threshold=0.20 → F1=0.308, TPR=0.997, FPR=0.781\n",
      "Threshold=0.25 → F1=0.331, TPR=0.989, FPR=0.695\n",
      "Threshold=0.30 → F1=0.364, TPR=0.969, FPR=0.586\n",
      "Threshold=0.35 → F1=0.395, TPR=0.939, FPR=0.491\n",
      "Threshold=0.40 → F1=0.420, TPR=0.897, FPR=0.414\n",
      "Threshold=0.45 → F1=0.440, TPR=0.858, FPR=0.356\n",
      "Threshold=0.50 → F1=0.460, TPR=0.775, FPR=0.277\n",
      "Threshold=0.55 → F1=0.479, TPR=0.671, FPR=0.197\n",
      "Threshold=0.60 → F1=0.475, TPR=0.540, FPR=0.128\n",
      "Threshold=0.65 → F1=0.447, TPR=0.421, FPR=0.080\n",
      "Threshold=0.70 → F1=0.402, TPR=0.320, FPR=0.048\n",
      "Threshold=0.75 → F1=0.325, TPR=0.226, FPR=0.028\n",
      "Threshold=0.80 → F1=0.225, TPR=0.137, FPR=0.013\n",
      "Threshold=0.85 → F1=0.104, TPR=0.056, FPR=0.004\n"
     ]
    }
   ],
   "execution_count": 14
  },
  {
   "cell_type": "code",
   "id": "7329f404eec0508f",
   "metadata": {
    "ExecuteTime": {
     "end_time": "2025-05-17T09:49:04.862324Z",
     "start_time": "2025-05-17T09:49:04.383335Z"
    }
   },
   "source": [
    "y_pred_proba = rf_model.predict_proba(X_test_dummies)[:, 1]\n",
    "y_pred_thresh = (y_pred_proba >= 0.55).astype(int)\n",
    "\n",
    "print(\"=== Final Classification Report @ 0.55 ===\")\n",
    "print(classification_report(y_test, y_pred_thresh))\n",
    "print(\"Confusion Matrix:\")\n",
    "print(confusion_matrix(y_test, y_pred_thresh))\n",
    "\n",
    "roc_auc = roc_auc_score(y_test, y_pred_proba)\n",
    "gini = 2 * roc_auc - 1\n",
    "print(f\"AUC: {roc_auc:.2f}\")\n",
    "print(f\"Gini: {gini:.2f}\")\n"
   ],
   "outputs": [
    {
     "name": "stdout",
     "output_type": "stream",
     "text": [
      "=== Final Classification Report @ 0.55 ===\n",
      "              precision    recall  f1-score   support\n",
      "\n",
      "           0       0.93      0.80      0.86     19553\n",
      "           1       0.37      0.67      0.48      3408\n",
      "\n",
      "    accuracy                           0.78     22961\n",
      "   macro avg       0.65      0.74      0.67     22961\n",
      "weighted avg       0.85      0.78      0.81     22961\n",
      "\n",
      "Confusion Matrix:\n",
      "[[15706  3847]\n",
      " [ 1122  2286]]\n",
      "AUC: 0.83\n",
      "Gini: 0.66\n"
     ]
    }
   ],
   "execution_count": 15
  },
  {
   "cell_type": "code",
   "id": "7db02e2c",
   "metadata": {
    "ExecuteTime": {
     "end_time": "2025-05-17T09:49:05.113729Z",
     "start_time": "2025-05-17T09:49:04.909395Z"
    }
   },
   "source": [
    "\n",
    "fpr, tpr, _ = roc_curve(y_test, y_prob_rf)\n",
    "plt.figure(figsize=(8, 6))\n",
    "plt.plot(fpr, tpr, label=f'ROC curve (AUC = {roc_auc_score(y_test, y_prob_rf):.4f})')\n",
    "plt.plot([0, 1], [0, 1], 'k--', label='Random')\n",
    "plt.xlabel('False Positive Rate')\n",
    "plt.ylabel('True Positive Rate')\n",
    "plt.title('ROC Curve – Random Forest')\n",
    "plt.legend()\n",
    "plt.grid(True)\n",
    "plt.show()\n"
   ],
   "outputs": [
    {
     "data": {
      "text/plain": [
       "<Figure size 800x600 with 1 Axes>"
      ],
      "image/png": "[encoded data removed]"
     },
     "metadata": {},
     "output_type": "display_data"
    }
   ],
   "execution_count": 16
  },
  {
   "cell_type": "code",
   "id": "0dd2d841",
   "metadata": {
    "ExecuteTime": {
     "end_time": "2025-05-17T09:49:05.370396Z",
     "start_time": "2025-05-17T09:49:05.163535Z"
    }
   },
   "source": [
    "\n",
    "joblib.dump(rf_model, \"random_forest.pkl\")\n",
    "print(\"Model zapisany jako random_forest.pkl\")\n"
   ],
   "outputs": [
    {
     "name": "stdout",
     "output_type": "stream",
     "text": [
      "Model zapisany jako random_forest.pkl\n"
     ]
    }
   ],
   "execution_count": 17
  }
 ],
 "metadata": {
  "kernelspec": {
   "display_name": "Python 3",
   "language": "python",
   "name": "python3"
  },
  "language_info": {
   "codemirror_mode": {
    "name": "ipython",
    "version": 3
   },
   "file_extension": ".py",
   "mimetype": "text/x-python",
   "name": "python",
   "nbconvert_exporter": "python",
   "pygments_lexer": "ipython3",
   "version": "3.11.3"
  }
 },
 "nbformat": 4,
 "nbformat_minor": 5
}
