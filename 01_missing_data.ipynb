{
 "cells": [
  {
   "cell_type": "markdown",
   "id": "0",
   "metadata": {},
   "source": [
    "# Credit Risk Modelling: Project\n",
    "Antoni Ballaun, Laura Hoang, Jędrzej Joniec, Piotr Zambrzycki\n",
    "\n",
    "## 01. Data preparation: missing data"
   ]
  },
  {
   "cell_type": "code",
   "execution_count": null,
   "id": "1",
   "metadata": {},
   "outputs": [],
   "source": [
    "import pandas as pd\n",
    "import numpy as np\n",
    "import matplotlib.pyplot as plt\n",
    "import seaborn as sns\n",
    "import warnings\n",
    "warnings.filterwarnings('ignore')"
   ]
  },
  {
   "cell_type": "code",
   "execution_count": null,
   "id": "2",
   "metadata": {},
   "outputs": [],
   "source": [
    "# import os\n",
    "# os.getcwd()"
   ]
  },
  {
   "cell_type": "code",
   "execution_count": null,
   "id": "3",
   "metadata": {},
   "outputs": [],
   "source": [
    "df = pd.read_csv('prosperLoanData.csv')"
   ]
  },
  {
   "cell_type": "code",
   "execution_count": null,
   "id": "4",
   "metadata": {},
   "outputs": [],
   "source": [
    "df.head()"
   ]
  },
  {
   "cell_type": "markdown",
   "id": "5",
   "metadata": {},
   "source": [
    "### Modifying `LoanStatus`"
   ]
  },
  {
   "cell_type": "code",
   "execution_count": null,
   "id": "6",
   "metadata": {},
   "outputs": [],
   "source": [
    "df['LoanStatus'].unique()"
   ]
  },
  {
   "cell_type": "code",
   "execution_count": null,
   "id": "7",
   "metadata": {},
   "outputs": [],
   "source": [
    "df['LoanStatus'].value_counts()"
   ]
  },
  {
   "cell_type": "markdown",
   "id": "8",
   "metadata": {},
   "source": [
    "If past due > 90 days we it will be considered a default(1), else non-default(0), Canceled will be dropped hard to say what it means and there is only 5 of them "
   ]
  },
  {
   "cell_type": "code",
   "execution_count": null,
   "id": "9",
   "metadata": {},
   "outputs": [],
   "source": [
    "values_to_make_ones = ['Past Due (91-120 days)', 'Past Due (>120 days)', 'Defaulted', 'Chargedoff']"
   ]
  },
  {
   "cell_type": "code",
   "execution_count": null,
   "id": "10",
   "metadata": {},
   "outputs": [],
   "source": [
    "df = df[df['LoanStatus'] != 'Cancelled']"
   ]
  },
  {
   "cell_type": "markdown",
   "id": "11",
   "metadata": {},
   "source": [
    "### Creation of `Defaulted` column - our target variable"
   ]
  },
  {
   "cell_type": "code",
   "execution_count": null,
   "id": "12",
   "metadata": {},
   "outputs": [],
   "source": [
    "df['Defaulted'] = np.where(df['LoanStatus'].isin(values_to_make_ones),1,0)"
   ]
  },
  {
   "cell_type": "code",
   "execution_count": null,
   "id": "13",
   "metadata": {},
   "outputs": [],
   "source": [
    "sns.countplot(data=df,x='Defaulted', stat='percent',)\n",
    "# sns.countplot(data=df,x='Defaulted')"
   ]
  },
  {
   "cell_type": "markdown",
   "id": "14",
   "metadata": {},
   "source": [
    "### Missing data\n",
    "\n",
    "#### Removing columns with missing data"
   ]
  },
  {
   "cell_type": "code",
   "execution_count": null,
   "id": "15",
   "metadata": {},
   "outputs": [],
   "source": [
    "missing_percents = (df.isna().sum().sort_values(ascending=False))/len(df) "
   ]
  },
  {
   "cell_type": "markdown",
   "id": "16",
   "metadata": {},
   "source": [
    "If missing values are greater than 20%, the column will be dropped, imputing without introducing a high level of bias would be very hard."
   ]
  },
  {
   "cell_type": "code",
   "execution_count": null,
   "id": "17",
   "metadata": {},
   "outputs": [],
   "source": [
    "print(missing_percents[missing_percents >= 0.2])\n",
    "list_of_cols_missing_more_than25 = list(missing_percents[missing_percents >= 0.2].index)"
   ]
  },
  {
   "cell_type": "code",
   "execution_count": null,
   "id": "18",
   "metadata": {},
   "outputs": [],
   "source": [
    "df = df.drop(list_of_cols_missing_more_than25,axis=1)"
   ]
  },
  {
   "cell_type": "markdown",
   "id": "19",
   "metadata": {},
   "source": [
    "#### Rows with missing data: removing chosen ones"
   ]
  },
  {
   "cell_type": "code",
   "execution_count": null,
   "id": "20",
   "metadata": {},
   "outputs": [],
   "source": [
    "missing_percents = (df.isna().sum().sort_values(ascending=False))/len(df)\n",
    "print(missing_percents[missing_percents > 0])"
   ]
  },
  {
   "cell_type": "code",
   "execution_count": null,
   "id": "21",
   "metadata": {},
   "outputs": [],
   "source": [
    "missing_amounts = df.isna().sum().sort_values(ascending=False)\n",
    "missing_amounts[missing_amounts > 0]"
   ]
  },
  {
   "cell_type": "code",
   "execution_count": null,
   "id": "22",
   "metadata": {},
   "outputs": [],
   "source": [
    "len(df)"
   ]
  },
  {
   "cell_type": "markdown",
   "id": "23",
   "metadata": {},
   "source": [
    "There are 113k observations so we will drop missing rows for if less than 1000 is missing"
   ]
  },
  {
   "cell_type": "markdown",
   "id": "24",
   "metadata": {},
   "source": [
    "# (DO poprawy !!!)"
   ]
  },
  {
   "cell_type": "code",
   "execution_count": null,
   "id": "25",
   "metadata": {},
   "outputs": [],
   "source": [
    "missing_amounts_less_than_1000 = missing_amounts[(missing_amounts > 0) & (missing_amounts < 1000)]"
   ]
  },
  {
   "cell_type": "code",
   "execution_count": null,
   "id": "26",
   "metadata": {},
   "outputs": [],
   "source": [
    "list_of_missing_to_drop_rows = list(missing_amounts_less_than_1000.index)"
   ]
  },
  {
   "cell_type": "code",
   "execution_count": null,
   "id": "27",
   "metadata": {},
   "outputs": [],
   "source": [
    "list_of_missing_to_drop_rows"
   ]
  },
  {
   "cell_type": "code",
   "execution_count": null,
   "id": "28",
   "metadata": {},
   "outputs": [],
   "source": [
    "df2 = df[list_of_missing_to_drop_rows].dropna(axis=0,)"
   ]
  },
  {
   "cell_type": "code",
   "execution_count": null,
   "id": "29",
   "metadata": {},
   "outputs": [],
   "source": [
    "df2.shape"
   ]
  },
  {
   "cell_type": "code",
   "execution_count": null,
   "id": "30",
   "metadata": {},
   "outputs": [],
   "source": [
    "df2.columns"
   ]
  },
  {
   "cell_type": "code",
   "execution_count": null,
   "id": "31",
   "metadata": {},
   "outputs": [],
   "source": [
    "df3 = pd.merge(df,df2,how='inner')"
   ]
  },
  {
   "cell_type": "code",
   "execution_count": null,
   "id": "32",
   "metadata": {},
   "outputs": [],
   "source": [
    "df3.shape"
   ]
  },
  {
   "cell_type": "markdown",
   "id": "33",
   "metadata": {},
   "source": [
    "#### Filling rest of missing values: data imputation"
   ]
  },
  {
   "cell_type": "code",
   "execution_count": null,
   "id": "34",
   "metadata": {},
   "outputs": [],
   "source": [
    "missings_to_process = df3.isnull().sum().sort_values(ascending=False)\n",
    "missings_to_process = missings_to_process[missings_to_process > 0]"
   ]
  },
  {
   "cell_type": "code",
   "execution_count": null,
   "id": "35",
   "metadata": {},
   "outputs": [],
   "source": [
    "missings_to_process = list(missings_to_process.index)"
   ]
  },
  {
   "cell_type": "code",
   "execution_count": null,
   "id": "36",
   "metadata": {},
   "outputs": [],
   "source": [
    "missings_to_process"
   ]
  },
  {
   "cell_type": "markdown",
   "id": "37",
   "metadata": {},
   "source": [
    "##### 1) Debt to income ratio\n",
    "`DebtToIncomeRatio` - the debt to income ratio of the borrower at the time the credit profile was pulled. This value is Null if the debt to income ratio is not available. This value is capped at 10.01 (any debt to income ratio larger than 1000% will be returned as 1001%)."
   ]
  },
  {
   "cell_type": "code",
   "execution_count": null,
   "id": "38",
   "metadata": {},
   "outputs": [],
   "source": [
    "sns.histplot(data=df3,x='DebtToIncomeRatio',bins=20)"
   ]
  },
  {
   "cell_type": "code",
   "execution_count": null,
   "id": "39",
   "metadata": {},
   "outputs": [],
   "source": [
    "mean_debt = df3['DebtToIncomeRatio'].mean()"
   ]
  },
  {
   "cell_type": "code",
   "execution_count": null,
   "id": "40",
   "metadata": {},
   "outputs": [],
   "source": [
    "df3['DebtToIncomeRatio'] = df3['DebtToIncomeRatio'].fillna(value=mean_debt)"
   ]
  },
  {
   "cell_type": "markdown",
   "id": "41",
   "metadata": {},
   "source": [
    "EmploymentStatusDuration"
   ]
  },
  {
   "cell_type": "code",
   "execution_count": null,
   "id": "42",
   "metadata": {},
   "outputs": [],
   "source": [
    "sns.histplot(data=df3,x='EmploymentStatusDuration',bins=10)"
   ]
  },
  {
   "cell_type": "code",
   "execution_count": null,
   "id": "43",
   "metadata": {},
   "outputs": [],
   "source": [
    "mode_employment = df3['EmploymentStatusDuration'].mode()"
   ]
  },
  {
   "cell_type": "code",
   "execution_count": null,
   "id": "44",
   "metadata": {},
   "outputs": [],
   "source": [
    "type(mode_employment)"
   ]
  },
  {
   "cell_type": "markdown",
   "id": "45",
   "metadata": {},
   "source": [
    "We don't have information, why there is missing data here so we chose the mode."
   ]
  },
  {
   "cell_type": "code",
   "execution_count": null,
   "id": "46",
   "metadata": {},
   "outputs": [],
   "source": [
    "df3['EmploymentStatusDuration'] = df3['EmploymentStatusDuration'].fillna(value=0)"
   ]
  },
  {
   "cell_type": "code",
   "execution_count": null,
   "id": "47",
   "metadata": {},
   "outputs": [],
   "source": [
    "df3['BankcardUtilization'].unique()"
   ]
  },
  {
   "cell_type": "code",
   "execution_count": null,
   "id": "48",
   "metadata": {},
   "outputs": [],
   "source": [
    "sns.histplot(data=df3,x='BankcardUtilization',bins=10)"
   ]
  },
  {
   "cell_type": "code",
   "execution_count": null,
   "id": "49",
   "metadata": {},
   "outputs": [],
   "source": [
    "mean_utilization = df3['BankcardUtilization'].mean()"
   ]
  },
  {
   "cell_type": "code",
   "execution_count": null,
   "id": "50",
   "metadata": {},
   "outputs": [],
   "source": [
    "df3['BankcardUtilization'] = df3['BankcardUtilization'].fillna(value=mean_utilization)"
   ]
  },
  {
   "cell_type": "code",
   "execution_count": null,
   "id": "51",
   "metadata": {},
   "outputs": [],
   "source": [
    "sns.histplot(data=df3,x='RevolvingCreditBalance',bins=10)"
   ]
  },
  {
   "cell_type": "code",
   "execution_count": null,
   "id": "52",
   "metadata": {},
   "outputs": [],
   "source": [
    "median_balance = df3['RevolvingCreditBalance'].median()"
   ]
  },
  {
   "cell_type": "code",
   "execution_count": null,
   "id": "53",
   "metadata": {},
   "outputs": [],
   "source": [
    "df3['RevolvingCreditBalance'].describe()"
   ]
  },
  {
   "cell_type": "code",
   "execution_count": null,
   "id": "54",
   "metadata": {},
   "outputs": [],
   "source": [
    "df3['RevolvingCreditBalance'] = df3['RevolvingCreditBalance'].fillna(value=median_balance)"
   ]
  },
  {
   "cell_type": "code",
   "execution_count": null,
   "id": "55",
   "metadata": {},
   "outputs": [],
   "source": [
    "df3['PublicRecordsLast12Months']"
   ]
  },
  {
   "cell_type": "code",
   "execution_count": null,
   "id": "56",
   "metadata": {},
   "outputs": [],
   "source": [
    "sns.histplot(data=df3,x='PublicRecordsLast12Months',bins=50)"
   ]
  },
  {
   "cell_type": "code",
   "execution_count": null,
   "id": "57",
   "metadata": {},
   "outputs": [],
   "source": [
    "df3['PublicRecordsLast12Months'].value_counts()"
   ]
  },
  {
   "cell_type": "code",
   "execution_count": null,
   "id": "58",
   "metadata": {},
   "outputs": [],
   "source": [
    "df3['PublicRecordsLast12Months'] = df3['PublicRecordsLast12Months'].fillna(value=0.0)"
   ]
  },
  {
   "cell_type": "markdown",
   "id": "59",
   "metadata": {},
   "source": [
    "OpenCreditLines is the same as Currentcredit line so we will drop one of them"
   ]
  },
  {
   "cell_type": "code",
   "execution_count": null,
   "id": "60",
   "metadata": {},
   "outputs": [],
   "source": [
    "df3 = df3.drop('CurrentCreditLines',axis=1)"
   ]
  },
  {
   "cell_type": "markdown",
   "id": "61",
   "metadata": {},
   "source": [
    "Można wypełnić na podstawie drugiej!"
   ]
  },
  {
   "cell_type": "code",
   "execution_count": null,
   "id": "62",
   "metadata": {},
   "outputs": [],
   "source": [
    "sns.histplot(data=df3,x='OpenCreditLines',bins=50)"
   ]
  },
  {
   "cell_type": "code",
   "execution_count": null,
   "id": "63",
   "metadata": {},
   "outputs": [],
   "source": [
    "df3['OpenCreditLines'].value_counts()"
   ]
  },
  {
   "cell_type": "code",
   "execution_count": null,
   "id": "64",
   "metadata": {},
   "outputs": [],
   "source": [
    "df3['OpenCreditLines'] = df3['OpenCreditLines'].fillna(df3['OpenCreditLines'].mean())"
   ]
  },
  {
   "cell_type": "markdown",
   "id": "65",
   "metadata": {},
   "source": [
    "Amount Delinqeunt"
   ]
  },
  {
   "cell_type": "code",
   "execution_count": null,
   "id": "66",
   "metadata": {},
   "outputs": [],
   "source": [
    "df3['AmountDelinquent'].median()"
   ]
  },
  {
   "cell_type": "code",
   "execution_count": null,
   "id": "67",
   "metadata": {},
   "outputs": [],
   "source": [
    "df3['AmountDelinquent'] = df3['AmountDelinquent'].fillna(value=0.0)"
   ]
  },
  {
   "cell_type": "code",
   "execution_count": null,
   "id": "68",
   "metadata": {},
   "outputs": [],
   "source": [
    "df3['TotalTrades']"
   ]
  },
  {
   "cell_type": "code",
   "execution_count": null,
   "id": "69",
   "metadata": {},
   "outputs": [],
   "source": [
    "sns.histplot(data=df3,x='TotalTrades',bins=50,kde=True)"
   ]
  },
  {
   "cell_type": "code",
   "execution_count": null,
   "id": "70",
   "metadata": {},
   "outputs": [],
   "source": [
    "df3['TotalTrades'] = df3['TotalTrades'].fillna(value=df3['TotalTrades'].mean())"
   ]
  },
  {
   "cell_type": "code",
   "execution_count": null,
   "id": "71",
   "metadata": {},
   "outputs": [],
   "source": [
    "df3['TradesOpenedLast6Months'].nunique()"
   ]
  },
  {
   "cell_type": "code",
   "execution_count": null,
   "id": "72",
   "metadata": {},
   "outputs": [],
   "source": [
    "sns.countplot(data=df3,x='TradesOpenedLast6Months',)"
   ]
  },
  {
   "cell_type": "code",
   "execution_count": null,
   "id": "73",
   "metadata": {},
   "outputs": [],
   "source": [
    "df3['TradesOpenedLast6Months'] = df3['TradesOpenedLast6Months'].fillna(method='ffill')"
   ]
  },
  {
   "cell_type": "code",
   "execution_count": null,
   "id": "74",
   "metadata": {},
   "outputs": [],
   "source": [
    "df3['TradesNeverDelinquent (percentage)'].value_counts()"
   ]
  },
  {
   "cell_type": "code",
   "execution_count": null,
   "id": "75",
   "metadata": {},
   "outputs": [],
   "source": [
    "sns.histplot(data=df3,x='TradesNeverDelinquent (percentage)',bins=10)"
   ]
  },
  {
   "cell_type": "code",
   "execution_count": null,
   "id": "76",
   "metadata": {},
   "outputs": [],
   "source": [
    "df3['TradesNeverDelinquent (percentage)'].mean()"
   ]
  },
  {
   "cell_type": "code",
   "execution_count": null,
   "id": "77",
   "metadata": {},
   "outputs": [],
   "source": [
    "df3['TradesNeverDelinquent (percentage)'] = df3['TradesNeverDelinquent (percentage)'].fillna(df3['TradesNeverDelinquent (percentage)'].mean())"
   ]
  },
  {
   "cell_type": "code",
   "execution_count": null,
   "id": "78",
   "metadata": {},
   "outputs": [],
   "source": [
    "sns.histplot(data=df3,x='AvailableBankcardCredit',bins=10)"
   ]
  },
  {
   "cell_type": "code",
   "execution_count": null,
   "id": "79",
   "metadata": {},
   "outputs": [],
   "source": [
    "df3['AvailableBankcardCredit'].mean()"
   ]
  },
  {
   "cell_type": "code",
   "execution_count": null,
   "id": "80",
   "metadata": {},
   "outputs": [],
   "source": [
    "df3['AvailableBankcardCredit'] = df3['AvailableBankcardCredit'].fillna(df3['AvailableBankcardCredit'].mean())"
   ]
  },
  {
   "cell_type": "code",
   "execution_count": null,
   "id": "81",
   "metadata": {},
   "outputs": [],
   "source": [
    "df3 = df3.drop('Occupation',axis=1)"
   ]
  },
  {
   "cell_type": "code",
   "execution_count": null,
   "id": "82",
   "metadata": {},
   "outputs": [],
   "source": [
    "df3['BorrowerState'] = df3['BorrowerState'].fillna(method='ffill')"
   ]
  },
  {
   "cell_type": "code",
   "execution_count": null,
   "id": "83",
   "metadata": {},
   "outputs": [],
   "source": [
    "df3['EmploymentStatus'].unique()"
   ]
  },
  {
   "cell_type": "code",
   "execution_count": null,
   "id": "84",
   "metadata": {},
   "outputs": [],
   "source": [
    "df3['EmploymentStatus'] = df3['EmploymentStatus'].fillna(method='ffill')"
   ]
  },
  {
   "cell_type": "code",
   "execution_count": null,
   "id": "85",
   "metadata": {},
   "outputs": [],
   "source": [
    "df3['TotalInquiries'].value_counts()"
   ]
  },
  {
   "cell_type": "code",
   "execution_count": null,
   "id": "86",
   "metadata": {},
   "outputs": [],
   "source": [
    "sns.histplot(data=df3,x='TotalInquiries',bins=20)"
   ]
  },
  {
   "cell_type": "code",
   "execution_count": null,
   "id": "87",
   "metadata": {},
   "outputs": [],
   "source": [
    "df3['TotalInquiries'].median()"
   ]
  },
  {
   "cell_type": "code",
   "execution_count": null,
   "id": "88",
   "metadata": {},
   "outputs": [],
   "source": [
    "df3['TotalInquiries'] = df3['TotalInquiries'].fillna(value=4)"
   ]
  },
  {
   "cell_type": "code",
   "execution_count": null,
   "id": "89",
   "metadata": {},
   "outputs": [],
   "source": [
    "df3.isnull().sum().sort_values(ascending=False)"
   ]
  },
  {
   "cell_type": "markdown",
   "id": "90",
   "metadata": {},
   "source": [
    "## Converting date columns to days since 1970-01-01 and boolean columns to binary values."
   ]
  },
  {
   "cell_type": "code",
   "execution_count": null,
   "id": "91",
   "metadata": {},
   "outputs": [],
   "source": [
    "date_columns = [\n",
    "    'ListingCreationDate',\n",
    "    'ClosedDate',\n",
    "    'DateCreditPulled',\n",
    "    'FirstRecordedCreditLine',\n",
    "    'LoanOriginationDate'\n",
    "]\n",
    "\n",
    "epoch = pd.to_datetime('1970-01-01')\n",
    "for col in date_columns:\n",
    "    if col in df3.columns:\n",
    "        df3[col] = pd.to_datetime(df3[col], errors='coerce')\n",
    "        df3[col] = (df3[col] - epoch).dt.days"
   ]
  },
  {
   "cell_type": "code",
   "execution_count": null,
   "id": "92",
   "metadata": {},
   "outputs": [],
   "source": [
    "bool_columns = [\n",
    "    'IsBorrowerHomeowner',\n",
    "    'CurrentlyInGroup',\n",
    "    'IncomeVerifiable'\n",
    "]\n",
    "for col in bool_columns:\n",
    "    if col in df3.columns:\n",
    "        df3[col] = df3[col].astype(str).str.lower()\n",
    "        df3[col] = df3[col].map({'true': 1, 'false': 0})"
   ]
  },
  {
   "cell_type": "code",
   "execution_count": null,
   "id": "93",
   "metadata": {},
   "outputs": [],
   "source": [
    "df3.info()"
   ]
  },
  {
   "cell_type": "code",
   "execution_count": null,
   "id": "94",
   "metadata": {},
   "outputs": [],
   "source": [
    "df3.head()"
   ]
  },
  {
   "cell_type": "code",
   "execution_count": null,
   "id": "95",
   "metadata": {},
   "outputs": [],
   "source": [
    "df3.to_csv('filled_missings_df.csv', index=True)"
   ]
  },
  {
   "cell_type": "code",
   "execution_count": null,
   "id": "96",
   "metadata": {},
   "outputs": [],
   "source": [
    "df3"
   ]
  },
  {
   "cell_type": "code",
   "execution_count": null,
   "id": "97",
   "metadata": {},
   "outputs": [],
   "source": [
    "continuous_variables  = [\n",
    "    'ListingNumber', 'BorrowerAPR', 'BorrowerRate', 'LenderYield', 'EstimatedEffectiveYield',\n",
    "    'EstimatedLoss', 'EstimatedReturn', 'EmploymentStatusDuration', 'OpenRevolvingMonthlyPayment', 'AmountDelinquent',\n",
    "    'RevolvingCreditBalance', 'BankcardUtilization', 'AvailableBankcardCredit', 'TradesNeverDelinquent (percentage)',\n",
    "    'ProsperPrincipalBorrowed', 'DebtToIncomeRatio', 'StatedMonthlyIncome', 'ProsperPrincipalOutstanding',\n",
    "    'MonthlyLoanPayment', 'ScorexChangeAtTimeOfListing', 'LoanOriginalAmount', 'LP_CustomerPayments',\n",
    "    'LP_CustomerPrincipalPayments', 'LP_InterestandFees', 'LP_ServiceFees', 'LP_CollectionFees', 'LP_GrossPrincipalLoss',\n",
    "    'LP_NetPrincipalLoss', 'LP_NonPrincipalRecoverypayments', 'InvestmentFromFriendsAmount', 'PercentFunded'\n",
    "]\n",
    "\n",
    "\n",
    "discrete_variables  = [\n",
    "    'Term', 'CreditScoreRangeLower',\n",
    "    'CreditScoreRangeUpper', 'CurrentCreditLines', 'OpenCreditLines', 'TotalCreditLinespast7years',\n",
    "    'OpenRevolvingAccounts', 'InquiriesLast6Months', 'TotalInquiries', 'CurrentDelinquencies',\n",
    "    'DelinquenciesLast7Years', 'PublicRecordsLast10Years', 'PublicRecordsLast12Months', 'ProsperScore',\n",
    "    'TotalTrades', 'TradesOpenedLast6Months', 'TotalProsperLoans', 'TotalProsperPaymentsBilled',\n",
    "    'OnTimeProsperPayments', 'ProsperPaymentsLessThanOneMonthLate', 'ProsperPaymentsOneMonthPlusLate',\n",
    "    'LoanCurrentDaysDelinquent', 'LoanFirstDefaultedCycleNumber', 'LoanMonthsSinceOrigination',\n",
    "    'Recommendations', 'InvestmentFromFriendsCount', 'Investors', 'ListingCategory (numeric)',\n",
    "    'ProsperRating (numeric)', 'IsBorrowerHomeowner', 'CurrentlyInGroup', 'DateCreditPulled',\n",
    "    'IncomeVerifiable', 'LoanOriginationDate', 'FirstRecordedCreditLine', 'ClosedDate', 'ListingCreationDate'\n",
    "]\n",
    "\n",
    "\n",
    "categorical_variables = [\n",
    "    'ListingKey', 'CreditGrade', 'LoanStatus',\n",
    "    'ProsperRating (Alpha)', 'BorrowerState', 'Occupation', 'EmploymentStatus',\n",
    "    'GroupKey', 'IncomeRange', 'LoanKey',\n",
    "    'LoanOriginationQuarter', 'MemberKey', 'LoanNumber'\n",
    "]\n",
    "\n",
    "print(len(continuous_variables))\n",
    "print(len(discrete_variables))\n",
    "print(len(categorical_variables))"
   ]
  },
  {
   "cell_type": "markdown",
   "id": "98",
   "metadata": {},
   "source": [
    "# TODO:\n",
    "0. Wywal bezsensowe zmienne\n",
    "1. Zbadać korelacje\n",
    "2. Poszeregować na podstawie entropii\n",
    "3. Ustalić punkt odcięcia\n",
    "4. Feature selection drzewami\n",
    "5. Zbuduj modele\n",
    "6. Interpretacja wyników"
   ]
  }
 ],
 "metadata": {
  "kernelspec": {
   "display_name": "mrk-project",
   "language": "python",
   "name": "python3"
  },
  "language_info": {
   "codemirror_mode": {
    "name": "ipython",
    "version": 3
   },
   "file_extension": ".py",
   "mimetype": "text/x-python",
   "name": "python",
   "nbconvert_exporter": "python",
   "pygments_lexer": "ipython3",
   "version": "3.11.11"
  }
 },
 "nbformat": 4,
 "nbformat_minor": 5
}
